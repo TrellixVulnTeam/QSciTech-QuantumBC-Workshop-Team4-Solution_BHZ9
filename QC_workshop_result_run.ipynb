{
 "cells": [
  {
   "cell_type": "code",
   "execution_count": 1,
   "metadata": {},
   "outputs": [],
   "source": [
    "import numpy as np\n",
    "%load_ext autoreload\n",
    "from qiskit.circuit import QuantumCircuit\n",
    "from qiskit.circuit import Parameter\n",
    "from evaluator import Evaluator\n",
    "from pauli_string import PauliString\n",
    "from evaluator import BasicEvaluator\n",
    "from qiskit import Aer, execute\n",
    "from hamiltonian import MolecularFermionicHamiltonian\n",
    "from Mapping import JordanWigner\n",
    "from scipy.optimize import minimize\n",
    "import os\n",
    "os.environ['QISKIT_IN_PARALLEL'] = 'True' # this is to prevent broken_pool_process type error. We tell qiskit everything is already parallelized so it doenst have to do it itself.\n",
    "from solver import VQESolver\n",
    "from solver import ExactSolver\n",
    "import matplotlib.pyplot as plt\n",
    "from pyscf import gto\n",
    "\n",
    "from qiskit.ignis.mitigation.measurement import complete_meas_cal\n",
    "from qiskit.circuit import QuantumRegister\n",
    "from qiskit.ignis.mitigation.measurement import CompleteMeasFitter\n",
    "\n",
    "from qiskit.providers.aer.noise import NoiseModel\n",
    "from qiskit.visualization import plot_histogram"
   ]
  },
  {
   "cell_type": "code",
   "execution_count": 2,
   "metadata": {},
   "outputs": [
    {
     "name": "stderr",
     "output_type": "stream",
     "text": [
      "/Users/arthurperret/anaco3/anaconda3/lib/python3.7/site-packages/qiskit/providers/ibmq/ibmqfactory.py:192: UserWarning: Timestamps in IBMQ backend properties, jobs, and job results are all now in local time instead of UTC.\n",
      "  warnings.warn('Timestamps in IBMQ backend properties, jobs, and job results '\n"
     ]
    },
    {
     "data": {
      "text/plain": [
       "[<AccountProvider for IBMQ(hub='ibm-q', group='open', project='main')>,\n",
       " <AccountProvider for IBMQ(hub='ibm-q-education', group='qscitech-quantum', project='qc-bc-workshop')>]"
      ]
     },
     "execution_count": 2,
     "metadata": {},
     "output_type": "execute_result"
    }
   ],
   "source": [
    "from qiskit import IBMQ\n",
    "\n",
    "#IBMQ.save_account('0df447ec9463e7ac6cf3d1690c64c05b8e133f1a834939ecdc98af2520539466ff8719fb63fbe9265e88a488ed8434d4d97657ae4dd7b81484cd0652f5e660dd',overwrite=True)\n",
    "IBMQ.save_account('YOUR OWN API TO CONNECT TO IBM CLOUD')\n",
    "IBMQ.load_account()\n",
    "IBMQ.providers()"
   ]
  },
  {
   "cell_type": "markdown",
   "metadata": {},
   "source": [
    "We start by defining our minimizer that we will use throughout"
   ]
  },
  {
   "cell_type": "code",
   "execution_count": 3,
   "metadata": {},
   "outputs": [],
   "source": [
    "minimizer = lambda fct, start_param_values : minimize(\n",
    "    fct,\n",
    "    start_param_values,\n",
    "    method = 'SLSQP', \n",
    "    options = {'maxiter' : 5,'eps' : 1e-1, 'ftol' : 1e-4, 'disp' : True, 'iprint' : 2})"
   ]
  },
  {
   "cell_type": "markdown",
   "metadata": {},
   "source": [
    "We can then skip to the section of the notebook we want to run. Just beloew for the readout error mitigated.\n",
    "\n",
    "Or next section for the zero noise level extrapolation. Each section should run independently from the other."
   ]
  },
  {
   "cell_type": "markdown",
   "metadata": {},
   "source": [
    "# 1.Readout error  mitigated ground energies of the H2 molecule\n",
    "\n",
    "We now want to run the VQE algorithm on the IBM computer to have an estimate of the energie for different distance, with *mitigated readout noise*\n",
    "\n",
    "We create our variationnal circuit, for a given parameter 'a'."
   ]
  },
  {
   "cell_type": "code",
   "execution_count": null,
   "metadata": {},
   "outputs": [],
   "source": [
    "varform_4qubits_1param = QuantumCircuit(4)\n",
    "a = Parameter('a')\n",
    "\"\"\"\n",
    "Your code here\n",
    "\n",
    "\"\"\"\n",
    "varform_4qubits_1param.ry(a,1)\n",
    "varform_4qubits_1param.x(0)\n",
    "varform_4qubits_1param.cx(1,0)\n",
    "varform_4qubits_1param.cx(0,2)\n",
    "varform_4qubits_1param.cx(1,3)\n",
    "\n",
    "varform_4qubits_1param.draw('mpl')"
   ]
  },
  {
   "cell_type": "markdown",
   "metadata": {},
   "source": [
    "We now create the readout filter calibration  matrix.\n",
    "\n",
    "First, we specifiy our backend."
   ]
  },
  {
   "cell_type": "code",
   "execution_count": null,
   "metadata": {},
   "outputs": [],
   "source": [
    "provider = IBMQ.get_provider(hub='ibm-q-education')\n",
    "provider.backends()\n",
    "bogota = provider.get_backend('ibmq_bogota')"
   ]
  },
  {
   "cell_type": "markdown",
   "metadata": {},
   "source": [
    "Here is the code for creating the calibration matrix (it runs on the actual quantum computer, it might take a while)"
   ]
  },
  {
   "cell_type": "code",
   "execution_count": null,
   "metadata": {},
   "outputs": [],
   "source": [
    "\n",
    "qr = QuantumRegister(4)\n",
    "qubit_list = [0,1,2,3]\n",
    "\n",
    "meas_calibs, state_labels = complete_meas_cal(qubit_list=qubit_list, qr=qr, circlabel='mcal')\n",
    "\n",
    "calibration_layout = [1,2,3,4]\n",
    "\n",
    "result = execute(meas_calibs,\n",
    "                 bogota,\n",
    "                 shots=8192,\n",
    "                 initial_layout=calibration_layout).result()\n",
    "\n",
    "meas_fitter = CompleteMeasFitter(result, state_labels)\n",
    "meas_filter = meas_fitter.filter"
   ]
  },
  {
   "cell_type": "markdown",
   "metadata": {},
   "source": [
    "Next, we can run the actual variationnal algorithm to estimate the ground state energies.\n",
    "\n",
    "First, we create our evaluator, to which we give the previous calibration matrix."
   ]
  },
  {
   "cell_type": "code",
   "execution_count": null,
   "metadata": {},
   "outputs": [],
   "source": [
    "varform = varform_4qubits_1param\n",
    "backend = bogota\n",
    "execute_opts = {'shots' : 8192}\n",
    "evaluator = BasicEvaluator(varform,backend,execute_opts = execute_opts,zero_noise_extrapolation=0,measure_filter=meas_filter)"
   ]
  },
  {
   "cell_type": "markdown",
   "metadata": {},
   "source": [
    "We can then run the code looping over some distance between the two H atoms. \n",
    "\n",
    "In first part of the loop, we create the molecule object for the desired distance. We extract from it the nuclear energy term that will be added at the end to the electronic term given by the quantum computer. We also create the molecular hamiltonian object.\n",
    "\n",
    "Middle part is the mapping from a molecular basis, to the Jordan Wigner one.\n",
    "\n",
    "Last part is the actual run on the quantum computer, where we give the pauli strings to the evaluator and a starting parameter for the variationnal algorithm. The output is the ground state energie, and the corresponding ground state.\n",
    "\n",
    "# Careful, for 6 different distance value, this can take 1-2 hours\n",
    "\n",
    "But it's not actually running on your computer, so it won't eat up all your memory while it's running"
   ]
  },
  {
   "cell_type": "code",
   "execution_count": null,
   "metadata": {},
   "outputs": [],
   "source": [
    "distance = [0.25,0.5,0.73,1.0,1.5,2.0] #units in AA\n",
    "ground_state_energies = []\n",
    "for d in distance:\n",
    "    mol = gto.M(\n",
    "        atom = [['H', (0,0,-d/2)], ['H', (0,0,d/2)]], \n",
    "        basis = 'sto-3g'\n",
    "        )\n",
    "    energy_nuc = mol.energy_nuc()\n",
    "    molecular_hamiltonian_no_spin = MolecularFermionicHamiltonian.from_pyscf_mol(mol)\n",
    "    molecular_hamiltonian = molecular_hamiltonian_no_spin.include_spin()\n",
    "    \n",
    "    mapping = JordanWigner()\n",
    "    lcps_h2 = mapping.fermionic_hamiltonian_to_linear_combinaison_pauli_string(molecular_hamiltonian).sort()\n",
    "    lcps_h2 = lcps_h2.apply_threshold().combine().apply_threshold().sort()\n",
    "\n",
    "    evaluator.set_linear_combinaison_pauli_string(lcps_h2)\n",
    "    params = [0,]\n",
    "    vqe_solver = VQESolver(evaluator,minimizer,[0,],name = 'vqe_solver')\n",
    "    opt_value, opt_params = vqe_solver.lowest_eig_value(lcps_h2)\n",
    "    ground_state_energies.append(opt_value+energy_nuc)"
   ]
  },
  {
   "cell_type": "markdown",
   "metadata": {},
   "source": [
    "We can now print the corresponding energies."
   ]
  },
  {
   "cell_type": "code",
   "execution_count": null,
   "metadata": {},
   "outputs": [],
   "source": [
    "print(distance)\n",
    "print('Ground state energies when readout noise is taken into account')\n",
    "print(ground_state_energies)"
   ]
  },
  {
   "cell_type": "markdown",
   "metadata": {},
   "source": [
    "We then save the value from the previous run in a vector for future reference. These values would of course be different between different runs."
   ]
  },
  {
   "cell_type": "code",
   "execution_count": null,
   "metadata": {},
   "outputs": [],
   "source": [
    "readout_mitigated_ground_energies = [-0.1530537421768745, -0.9219567670869995, -1.0400371588265842, -1.0108401166620284, -0.864354168014217, -0.8360694734588416]\n",
    "result_readout_mitigated = dict(zip(distance,readout_mitigated_ground_energies))\n",
    "print(result_readout_mitigated)"
   ]
  },
  {
   "cell_type": "markdown",
   "metadata": {},
   "source": [
    "# 2. We now move to the zero noise extrapolation\n",
    "\n",
    "\n",
    "\n",
    "The idea is to measure the energies for different noise level, and then extrapolate the value of the theoretical zero noise value. To measure at different noise level, we simply run (circuit * circuit_dag). By doing so, it amounts to doing the doing the circuit once, and then doing it in reverse. If there is no noise, this amounts to the identity and the energie values should not change. \n",
    "\n",
    "However, because there is noise, doing (circuit * circuit_dag) will do the (identity * any noise presents in the gates).\n",
    "\n",
    "Hence doing U once will bring one time the amount of noise. (where U is the whole circuit operator).\n",
    "\n",
    "Doing U * (U * U_dag) will bring 3 times the amount of noise.\n",
    "\n",
    "Doing U * (U * U_dag) * (U * U_dag) will bring 5 times the amount of noise.\n",
    "\n",
    "\n",
    "We again specify our backend\n",
    "\n"
   ]
  },
  {
   "cell_type": "code",
   "execution_count": 4,
   "metadata": {},
   "outputs": [],
   "source": [
    "provider = IBMQ.get_provider(hub='ibm-q-education')\n",
    "provider.backends()\n",
    "bogota = provider.get_backend('ibmq_bogota') # to run on the bogota quantum computer\n",
    "simulator = Aer.get_backend('qasm_simulator') # to run locally on a simulator\n",
    "backend = bogota"
   ]
  },
  {
   "cell_type": "markdown",
   "metadata": {},
   "source": [
    "Again, we create the circuit representing our variationnal form."
   ]
  },
  {
   "cell_type": "code",
   "execution_count": 5,
   "metadata": {},
   "outputs": [
    {
     "data": {
      "image/png": "[encoded data removed]",
      "text/plain": [
       "<Figure size 327.397x264.88 with 1 Axes>"
      ]
     },
     "execution_count": 5,
     "metadata": {},
     "output_type": "execute_result"
    }
   ],
   "source": [
    "varform_4qubits_1param = QuantumCircuit(4)\n",
    "a = Parameter('a')\n",
    "\"\"\"\n",
    "Your code here\n",
    "\n",
    "\"\"\"\n",
    "varform_4qubits_1param.ry(a,1)\n",
    "varform_4qubits_1param.x(0)\n",
    "varform_4qubits_1param.cx(1,0)\n",
    "varform_4qubits_1param.cx(0,2)\n",
    "varform_4qubits_1param.cx(1,3)\n",
    "\n",
    "varform_4qubits_1param.draw('mpl')"
   ]
  },
  {
   "cell_type": "markdown",
   "metadata": {},
   "source": [
    "Next, we will do a readout matrix calibration before every set of distance évaluation.\n",
    "\n",
    "In other words, the pseudo code would look like this\n",
    "\n",
    "For distance in distance_value:\n",
    "    \n",
    "    do matrix calibration\n",
    "    \n",
    "    for zero_noise_level in zero_noise_extrapolation:\n",
    "    \n",
    "        run solver and minimizer on quantum computer"
   ]
  },
  {
   "cell_type": "markdown",
   "metadata": {},
   "source": [
    "We thus define what distance value we want to evaluate the ground energies"
   ]
  },
  {
   "cell_type": "code",
   "execution_count": 6,
   "metadata": {},
   "outputs": [],
   "source": [
    "distance = [0.25,0.5,0.73,1.0,1.5,2.0] #units in AA\n",
    "#We should split those value between us to speed up the process\n",
    "noise_extrapolate_ground_state_energies = []"
   ]
  },
  {
   "cell_type": "markdown",
   "metadata": {},
   "source": [
    "Next cell is then the whole procedure to run on the quantum computer"
   ]
  },
  {
   "cell_type": "code",
   "execution_count": 7,
   "metadata": {},
   "outputs": [
    {
     "name": "stdout",
     "output_type": "stream",
     "text": [
      "  NIT    FC           OBJFUN            GNORM\n",
      "    1     3    -2.409226E+00     2.608557E-01\n",
      "    2     6    -2.429404E+00     1.104403E-01\n",
      "    3     9    -2.409393E+00     1.012727E-01\n",
      "Optimization terminated successfully    (Exit mode 0)\n",
      "            Current function value: -2.430032839647253\n",
      "            Iterations: 3\n",
      "            Function evaluations: 19\n",
      "            Gradient evaluations: 3\n",
      "  NIT    FC           OBJFUN            GNORM\n",
      "    1     3    -2.409260E+00     2.413761E-01\n",
      "    2     6    -2.430179E+00     9.753409E-02\n",
      "    3     8    -2.427982E+00     4.606463E-02\n",
      "Optimization terminated successfully    (Exit mode 0)\n",
      "            Current function value: -2.4308724191596545\n",
      "            Iterations: 3\n",
      "            Function evaluations: 14\n",
      "            Gradient evaluations: 3\n",
      "  NIT    FC           OBJFUN            GNORM\n",
      "    1     3    -2.401081E+00     2.613362E-01\n",
      "    2     6    -2.427484E+00     1.262672E-01\n",
      "Optimization terminated successfully    (Exit mode 0)\n",
      "            Current function value: -2.430614544804472\n",
      "            Iterations: 2\n",
      "            Function evaluations: 11\n",
      "            Gradient evaluations: 2\n",
      "  NIT    FC           OBJFUN            GNORM\n",
      "    1     3    -2.111887E+00     2.188911E-01\n",
      "    2     5    -2.115916E+00     1.065816E-01\n",
      "    3     7    -2.060759E+00     8.980180E-02\n",
      "Optimization terminated successfully    (Exit mode 0)\n",
      "            Current function value: -2.1135345498745925\n",
      "            Iterations: 3\n",
      "            Function evaluations: 17\n",
      "            Gradient evaluations: 3\n",
      "  NIT    FC           OBJFUN            GNORM\n",
      "    1     3    -2.109486E+00     2.274945E-01\n",
      "    2     5    -2.113738E+00     1.583983E-01\n",
      "    3     7    -2.112502E+00     4.037621E-02\n",
      "    4    10    -2.094765E+00     4.057987E-02\n",
      "Optimization terminated successfully    (Exit mode 0)\n",
      "            Current function value: -2.1145282403636463\n",
      "            Iterations: 4\n",
      "            Function evaluations: 16\n",
      "            Gradient evaluations: 4\n",
      "  NIT    FC           OBJFUN            GNORM\n",
      "    1     3    -2.114780E+00     2.061838E-01\n",
      "    2     5    -2.114442E+00     1.373698E-01\n",
      "    3     8    -2.107440E+00     1.016376E-01\n",
      "Optimization terminated successfully    (Exit mode 0)\n",
      "            Current function value: -2.1138957530466045\n",
      "            Iterations: 3\n",
      "            Function evaluations: 18\n",
      "            Gradient evaluations: 3\n",
      "  NIT    FC           OBJFUN            GNORM\n",
      "    1     3    -1.861244E+00     2.382496E-01\n",
      "    2     5    -1.863420E+00     5.718585E-02\n",
      "    3     7    -1.842844E+00     4.775443E-02\n",
      "Optimization terminated successfully    (Exit mode 0)\n",
      "            Current function value: -1.8637877306565183\n",
      "            Iterations: 3\n",
      "            Function evaluations: 14\n",
      "            Gradient evaluations: 3\n",
      "  NIT    FC           OBJFUN            GNORM\n",
      "    1     3    -1.862883E+00     1.880657E-01\n",
      "    2     4    -1.862883E+00     2.350476E-04\n",
      "Optimization terminated successfully    (Exit mode 0)\n",
      "            Current function value: -1.8628827326302957\n",
      "            Iterations: 2\n",
      "            Function evaluations: 4\n",
      "            Gradient evaluations: 2\n",
      "  NIT    FC           OBJFUN            GNORM\n",
      "    1     3    -1.862444E+00     2.177776E-01\n",
      "    2     5    -1.861268E+00     5.275116E-02\n",
      "    3     8    -1.856417E+00     4.409622E-02\n",
      "    4    11    -1.863529E+00     2.915830E-02\n",
      "    5    12    -1.863529E+00     1.256938E-02\n",
      "Iteration limit reached    (Exit mode 9)\n",
      "            Current function value: -1.863528622743886\n",
      "            Iterations: 5\n",
      "            Function evaluations: 12\n",
      "            Gradient evaluations: 5\n",
      "  NIT    FC           OBJFUN            GNORM\n",
      "    1     3    -1.624999E+00     1.982538E-01\n",
      "    2     5    -1.628455E+00     4.739837E-02\n",
      "    3     6    -1.628455E+00     6.707268E-03\n",
      "Optimization terminated successfully    (Exit mode 0)\n",
      "            Current function value: -1.6284551865269254\n",
      "            Iterations: 3\n",
      "            Function evaluations: 6\n",
      "            Gradient evaluations: 3\n",
      "  NIT    FC           OBJFUN            GNORM\n",
      "    1     3    -1.627948E+00     2.325702E-01\n",
      "    2     5    -1.628726E+00     2.573243E-02\n",
      "    3     7    -1.631591E+00     1.454748E-02\n",
      "    4     9    -1.627020E+00     1.627759E-02\n",
      "Optimization terminated successfully    (Exit mode 0)\n",
      "            Current function value: -1.6300014447169109\n",
      "            Iterations: 4\n",
      "            Function evaluations: 19\n",
      "            Gradient evaluations: 4\n",
      "  NIT    FC           OBJFUN            GNORM\n",
      "    1     3    -1.624960E+00     2.344070E-01\n",
      "    2     5    -1.631445E+00     6.212107E-02\n",
      "    3     7    -1.631187E+00     2.333677E-02\n",
      "Optimization terminated successfully    (Exit mode 0)\n",
      "            Current function value: -1.6318309107613687\n",
      "            Iterations: 3\n",
      "            Function evaluations: 10\n",
      "            Gradient evaluations: 3\n",
      "  NIT    FC           OBJFUN            GNORM\n",
      "    1     3    -1.308042E+00     2.242921E-01\n",
      "    2     5    -1.347090E+00     1.698122E-01\n",
      "    3     7    -1.348869E+00     1.034586E-01\n",
      "    4    10    -1.349516E+00     2.635655E-02\n",
      "    5    13    -1.352534E+00     4.380834E-02\n",
      "Iteration limit reached    (Exit mode 9)\n",
      "            Current function value: -1.3525340406531\n",
      "            Iterations: 5\n",
      "            Function evaluations: 13\n",
      "            Gradient evaluations: 5\n",
      "  NIT    FC           OBJFUN            GNORM\n",
      "    1     3    -1.317196E+00     2.794206E-01\n",
      "    2     5    -1.344604E+00     1.330952E-01\n",
      "    3     7    -1.349647E+00     6.247738E-02\n",
      "    4     9    -1.351190E+00     1.119660E-02\n",
      "    5    10    -1.351190E+00     3.836770E-02\n",
      "Iteration limit reached    (Exit mode 9)\n",
      "            Current function value: -1.351189612634007\n",
      "            Iterations: 5\n",
      "            Function evaluations: 10\n",
      "            Gradient evaluations: 5\n",
      "  NIT    FC           OBJFUN            GNORM\n",
      "    1     3    -1.309169E+00     2.413210E-01\n",
      "    2     5    -1.350428E+00     1.682449E-01\n",
      "    3     7    -1.351831E+00     2.656198E-02\n",
      "    4     9    -1.345650E+00     1.867968E-02\n",
      "    5    11    -1.353689E+00     4.136652E-02\n",
      "Iteration limit reached    (Exit mode 9)\n",
      "            Current function value: -1.3536891561394173\n",
      "            Iterations: 5\n",
      "            Function evaluations: 11\n",
      "            Gradient evaluations: 5\n",
      "  NIT    FC           OBJFUN            GNORM\n",
      "    1     3    -1.117609E+00     2.846139E-01\n",
      "    2     5    -1.202578E+00     1.899248E-01\n",
      "    3     7    -1.213167E+00     8.028822E-02\n",
      "    4     9    -1.213802E+00     6.845688E-02\n",
      "    5    12    -1.213764E+00     4.746920E-02\n",
      "Iteration limit reached    (Exit mode 9)\n",
      "            Current function value: -1.2137642003333613\n",
      "            Iterations: 5\n",
      "            Function evaluations: 12\n",
      "            Gradient evaluations: 5\n",
      "  NIT    FC           OBJFUN            GNORM\n",
      "    1     3    -1.110529E+00     2.650627E-01\n",
      "    2     5    -1.202327E+00     2.310344E-01\n",
      "    3     7    -1.212749E+00     1.001777E-01\n",
      "    4     9    -1.212098E+00     5.901032E-03\n",
      "Optimization terminated successfully    (Exit mode 0)\n",
      "            Current function value: -1.2144347124226376\n",
      "            Iterations: 4\n",
      "            Function evaluations: 14\n",
      "            Gradient evaluations: 4\n",
      "  NIT    FC           OBJFUN            GNORM\n",
      "    1     3    -1.112385E+00     2.596121E-01\n",
      "    2     5    -1.213367E+00     2.025728E-01\n",
      "    3     7    -1.212286E+00     3.149411E-02\n",
      "    4    12    -1.213893E+00     2.841917E-02\n",
      "Optimization terminated successfully    (Exit mode 0)\n",
      "            Current function value: -1.2138926375981007\n",
      "            Iterations: 4\n",
      "            Function evaluations: 12\n",
      "            Gradient evaluations: 4\n"
     ]
    }
   ],
   "source": [
    "for d in distance:\n",
    "    ### WE CREATE THE MOLECULE OBJECT AND MAP IT TO THE JORDAN-WIGNER REPRESENTATION\n",
    "    mol = gto.M(\n",
    "        atom = [['H', (0,0,-d/2)], ['H', (0,0,d/2)]], \n",
    "        basis = 'sto-3g'\n",
    "        )\n",
    "    energy_nuc = mol.energy_nuc()\n",
    "    molecular_hamiltonian_no_spin = MolecularFermionicHamiltonian.from_pyscf_mol(mol)\n",
    "    molecular_hamiltonian = molecular_hamiltonian_no_spin.include_spin()\n",
    "    \n",
    "    mapping = JordanWigner()\n",
    "    lcps_h2 = mapping.fermionic_hamiltonian_to_linear_combinaison_pauli_string(molecular_hamiltonian).sort()\n",
    "    lcps_h2 = lcps_h2.apply_threshold().combine().apply_threshold().sort()\n",
    "    \n",
    "    ### WE BUILD THE READOUT ERROR CALIBRATION MATRIX\n",
    "    qr = QuantumRegister(4)\n",
    "    qubit_list = [0,1,2,3]\n",
    "    meas_calibs, state_labels = complete_meas_cal(qubit_list=qubit_list, qr=qr, circlabel='mcal')\n",
    "    calibration_layout = [1,2,3,4]\n",
    "    result = execute(meas_calibs,\n",
    "                 backend,\n",
    "                 shots=8192,\n",
    "                 initial_layout=calibration_layout).result()\n",
    "\n",
    "    meas_fitter = CompleteMeasFitter(result, state_labels)\n",
    "    meas_filter = meas_fitter.filter\n",
    "    \n",
    "    ### WE THEN LOOP OVER THE ZERO NOISE LEVEL VALUE\n",
    "    for zne_level in [0,1,2]:\n",
    "        \n",
    "        ### WE BUILD THE CORRESPONDING EVALUATOR OBJECT\n",
    "        varform = varform_4qubits_1param\n",
    "        backend = backend\n",
    "        execute_opts = {'shots' : 8192}\n",
    "        evaluator = BasicEvaluator(varform,backend,execute_opts = execute_opts,zero_noise_extrapolation=zne_level,measure_filter=meas_filter)\n",
    "\n",
    "        evaluator.set_linear_combinaison_pauli_string(lcps_h2)\n",
    "        params = [0,]\n",
    "        vqe_solver = VQESolver(evaluator,minimizer,[0,],name = 'vqe_solver')\n",
    "        opt_value, opt_params = vqe_solver.lowest_eig_value(lcps_h2)\n",
    "        noise_extrapolate_ground_state_energies.append(opt_value+energy_nuc)"
   ]
  },
  {
   "cell_type": "code",
   "execution_count": 8,
   "metadata": {},
   "outputs": [
    {
     "name": "stdout",
     "output_type": "stream",
     "text": [
      "[-0.3133239959672527, -0.31416357547965434, -0.3139057011244719, -1.0551801280345925, -1.0561738185236462, -1.0555413312066044, -1.1388874417250112, -1.1379824436987889, -1.1386283338123793, -1.0992779756069253, -1.100824233796911, -1.1026536998413685, -0.9997492333731, -0.9984048053540071, -1.0009043488594174, -0.9491755948733613, -0.9498461069626376, -0.9493040321381008]\n"
     ]
    }
   ],
   "source": [
    "print(noise_extrapolate_ground_state_energies)"
   ]
  },
  {
   "cell_type": "code",
   "execution_count": 9,
   "metadata": {},
   "outputs": [
    {
     "name": "stdout",
     "output_type": "stream",
     "text": [
      "[0.25, 0.5, 0.73, 1.0, 1.5, 2.0]\n",
      "ground state energies: row is for a given distance - column for a given noise level\n",
      "[[-0.313324   -0.31416358 -0.3139057 ]\n",
      " [-1.05518013 -1.05617382 -1.05554133]\n",
      " [-1.13888744 -1.13798244 -1.13862833]\n",
      " [-1.09927798 -1.10082423 -1.1026537 ]\n",
      " [-0.99974923 -0.99840481 -1.00090435]\n",
      " [-0.94917559 -0.94984611 -0.94930403]]\n"
     ]
    }
   ],
   "source": [
    "print(distance)\n",
    "print('ground state energies: row is for a given distance - column for a given noise level')\n",
    "print(np.reshape(noise_extrapolate_ground_state_energies,(len(distance),3)))"
   ]
  },
  {
   "cell_type": "markdown",
   "metadata": {},
   "source": [
    "# 3. TO DO (MERGING ALL RESULTS TO DO NICE PLOTS)\n",
    "\n",
    "- copy paste the exact eigensolver part of notebook 3-2 and run the diagonalization for all distance in order to get the exact dissociation curve\n",
    "\n",
    "\n",
    "- get the value from an unmitigated noise run for a serie of distance\n",
    "  *already done* \n",
    "  (  [0.08645276241096367, -0.7553925524784058, -0.87968911904096, -0.8946567902124557, -0.8020850281056371, -0.7097116503621499]  )\n",
    "  \n",
    "\n",
    "- get the value from a readout mitigated run for the same serie of distance (done, see the result from part 1 above)\n",
    "\n",
    "\n",
    "- do the extrapolation from the noise extrapolated datapoints to get the estimated zero noise energie for the same serie of distance (TO BE DONE: IT WILL TAKE A LOT OF TIME, WE SHOULD SPLIT IT BETWEEN ALL OF US. EACH OF US RUN THE ALGORITHM FOR 2 DIFFERENT DISTANCE VALUE)\n",
    "\n",
    "\n",
    "- plot all the thing together!"
   ]
  },
  {
   "cell_type": "code",
   "execution_count": null,
   "metadata": {},
   "outputs": [],
   "source": []
  }
 ],
 "metadata": {
  "kernelspec": {
   "display_name": "Python 3",
   "language": "python",
   "name": "python3"
  },
  "language_info": {
   "codemirror_mode": {
    "name": "ipython",
    "version": 3
   },
   "file_extension": ".py",
   "mimetype": "text/x-python",
   "name": "python",
   "nbconvert_exporter": "python",
   "pygments_lexer": "ipython3",
   "version": "3.7.4"
  }
 },
 "nbformat": 4,
 "nbformat_minor": 2
}
