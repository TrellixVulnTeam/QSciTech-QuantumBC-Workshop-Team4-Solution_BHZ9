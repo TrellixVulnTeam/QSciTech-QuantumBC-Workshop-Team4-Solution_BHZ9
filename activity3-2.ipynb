{
 "cells": [
  {
   "cell_type": "code",
   "execution_count": 1,
   "metadata": {},
   "outputs": [],
   "source": [
    "import numpy as np\n",
    "%load_ext autoreload"
   ]
  },
  {
   "cell_type": "markdown",
   "metadata": {},
   "source": [
    "Notebook by **Maxime Dion** <maxime.dion@usherbrooke.ca><br>\n",
    "For the QSciTech-QuantumBC virtual workshop on gate-based quantum computing"
   ]
  },
  {
   "cell_type": "markdown",
   "metadata": {},
   "source": [
    "## Tutorial for  Activity 3.2\n",
    "\n",
    "For this activity, make sure you can easily import your versions of `Hamiltonian.py`, `PauliString.py` and `Mapping.py` that you have completed in the Activity 3.1 tutorial. You will also need your verions of `Evaluator.py` and `Solver.py`. Placing this notebook in the same `path` as these files is the easiest way to acheive this. At the end of this notebook, you should be in good position to complete these 2 additionnal files.\n",
    "\n",
    "The solution we suggest here is NOT mandatory. If you find ways to make it better and more efficient, go on and impress us! On the other hand, by completing all sections of this notebook you'll be able to :\n",
    "- Prepare a Quantum State based on a varitional form (circuit);\n",
    "- Measure qubits in the X, Y and Z basis;\n",
    "- Estimate expectation value of Pauli String on a quantum state;\n",
    "- Evaluate the expectation value of an Hamiltonian in the form of a Linear Combinaison of Pauli Strings;\n",
    "- Run a minimization algorithm on the energy expectation fonction to find the ground state of a Hamiltonian;\n",
    "- Dance to express your overwhelming sense of accomplishment\n",
    "\n",
    "**Important**\n",
    "\n",
    "When you modify and save a `*.py` file you need to re-import it so that your modifications can be taken into account when you re-execute a call. By adding the magic command `%autoreload` at the beginning of a cell, you make sure that the modifications you did to the `*.py` files are taken into account when you re-run a celll and that you can see the effect.\n",
    "\n",
    "If you encounter unusual results, restart the kernel and try again.\n",
    "\n",
    "**Note on numbering**\n",
    "\n",
    "When you ask a question in the Slack channel you can refer to the section name or the section number.\n",
    "\n",
    "To enable the section numbering, please make sure you install [nbextensions](https://jupyter-contrib-nbextensions.readthedocs.io/en/latest/install.html). It is available in the conda distribution. After installation it you need to enable the option 'Table of contents (2)'."
   ]
  },
  {
   "cell_type": "markdown",
   "metadata": {},
   "source": [
    "# Variationnal Quantum States\n",
    "\n",
    "Every quantum circuit starts with all qubits in the the state $|0\\rangle$. In order to prepare a quantum state $|\\psi\\rangle$ we need to prepare a `QuantumCircuit` that will modify the states of the qubits in order to get this specific state. The action of a circuit can always be represented as a unitiary operator.\n",
    "\n",
    "\\begin{align}\n",
    "    |\\psi\\rangle &= \\hat{U} |0 \\ldots 0\\rangle\n",
    "\\end{align}\n",
    "\n",
    "For a parametric state the `QuantumCircuit` and therefore the unitary $U$ will depend on some parameters that we wirte as $\\boldsymbol{\\theta}$.\n",
    "\n",
    "\\begin{align}\n",
    "    |\\psi(\\boldsymbol{\\theta})\\rangle &= \\hat{U}(\\boldsymbol{\\theta}) |0 \\ldots 0\\rangle\n",
    "\\end{align}\n",
    "\n",
    "We will see 2 ways to define Parametrized Quantum Circuits that represent Variationnal Quantum States. For the first method we only need the `QuantumCircuit` class from `qiskit.circuit`."
   ]
  },
  {
   "cell_type": "code",
<<<<<<< HEAD
   "execution_count": 1,
=======
   "execution_count": 2,
>>>>>>> 985b078b1000e8e606b609a35655eb72d2ff0ea1
   "metadata": {},
   "outputs": [],
   "source": [
    "from qiskit.circuit import QuantumCircuit\n",
    "%matplotlib inline"
   ]
  },
  {
   "cell_type": "markdown",
   "metadata": {},
   "source": [
    "## Generating function\n",
    "The easiest way to generate a parametrized `QuantumCircuit` is to implement a function that takes parameters as arguments and returns a `QuantumCircuit`. Here is such a function that generates a 2 qubits QuantumCircuit."
   ]
  },
  {
   "cell_type": "code",
   "execution_count": 2,
   "metadata": {},
   "outputs": [],
   "source": [
    "def example_2qubits_2params_quantum_circuit(theta,phi):\n",
    "    qc = QuantumCircuit(2)\n",
    "    qc.ry(theta,0)\n",
    "    qc.rz(phi,0)\n",
    "    qc.cx(0,1)\n",
    "    return qc"
   ]
  },
  {
   "cell_type": "markdown",
   "metadata": {},
   "source": [
    "To visualize this circuit we first need to call the generating function with dummy argument values for it to return a circuit. We can draw the circuit. The `'mpl'` option draws the circuit in a fancy way using `matplotlib`. If you are experiencing problems, you can remove this option."
   ]
  },
  {
   "cell_type": "code",
   "execution_count": 3,
   "metadata": {},
   "outputs": [
    {
     "data": {
      "image/png": "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\n",
      "text/plain": [
       "<Figure size 267.052x144.48 with 1 Axes>"
<<<<<<< HEAD
      ],
      "image/svg+xml": "<?xml version=\"1.0\" encoding=\"utf-8\" standalone=\"no\"?>\n<!DOCTYPE svg PUBLIC \"-//W3C//DTD SVG 1.1//EN\"\n  \"http://www.w3.org/Graphics/SVG/1.1/DTD/svg11.dtd\">\n<!-- Created with matplotlib (https://matplotlib.org/) -->\n<svg height=\"123.4824pt\" version=\"1.1\" viewBox=\"0 0 216.024272 123.4824\" width=\"216.024272pt\" xmlns=\"http://www.w3.org/2000/svg\" xmlns:xlink=\"http://www.w3.org/1999/xlink\">\n <metadata>\n  <rdf:RDF xmlns:cc=\"http://creativecommons.org/ns#\" xmlns:dc=\"http://purl.org/dc/elements/1.1/\" xmlns:rdf=\"http://www.w3.org/1999/02/22-rdf-syntax-ns#\">\n   <cc:Work>\n    <dc:type rdf:resource=\"http://purl.org/dc/dcmitype/StillImage\"/>\n    <dc:date>2021-02-01T16:48:14.691107</dc:date>\n    <dc:format>image/svg+xml</dc:format>\n    <dc:creator>\n     <cc:Agent>\n      <dc:title>Matplotlib v3.3.3, https://matplotlib.org/</dc:title>\n     </cc:Agent>\n    </dc:creator>\n   </cc:Work>\n  </rdf:RDF>\n </metadata>\n <defs>\n  <style type=\"text/css\">*{stroke-linecap:butt;stroke-linejoin:round;}</style>\n </defs>\n <g id=\"figure_1\">\n  <g id=\"patch_1\">\n   <path d=\"M 0 123.4824 \nL 216.024272 123.4824 \nL 216.024272 0 \nL 0 0 \nz\n\" style=\"fill:#ffffff;\"/>\n  </g>\n  <g id=\"axes_1\">\n   <g id=\"line2d_1\">\n    <path clip-path=\"url(#p8490ac53a3)\" d=\"M 63.381072 43.5608 \nL 204.279172 43.5608 \n\" style=\"fill:none;stroke:#000000;stroke-linecap:square;stroke-width:2;\"/>\n   </g>\n   <g id=\"line2d_2\">\n    <path clip-path=\"url(#p8490ac53a3)\" d=\"M 63.381072 89.0118 \nL 204.279172 89.0118 \n\" style=\"fill:none;stroke:#000000;stroke-linecap:square;stroke-width:2;\"/>\n   </g>\n   <g id=\"line2d_3\">\n    <path clip-path=\"url(#p8490ac53a3)\" d=\"M 178.826612 89.0118 \nL 178.826612 43.5608 \n\" style=\"fill:none;stroke:#6fa4ff;stroke-linecap:square;stroke-width:2;\"/>\n   </g>\n   <g id=\"patch_2\">\n    <path clip-path=\"url(#p8490ac53a3)\" d=\"M 73.153037 58.332375 \nL 102.696187 58.332375 \nL 102.696187 28.789225 \nL 73.153037 28.789225 \nz\n\" style=\"fill:#bb8bff;stroke:#bb8bff;stroke-linejoin:miter;stroke-width:1.5;\"/>\n   </g>\n   <g id=\"patch_3\">\n    <path clip-path=\"url(#p8490ac53a3)\" d=\"M 118.604037 58.332375 \nL 148.147187 58.332375 \nL 148.147187 28.789225 \nL 118.604037 28.789225 \nz\n\" style=\"fill:#bb8bff;stroke:#bb8bff;stroke-linejoin:miter;stroke-width:1.5;\"/>\n   </g>\n   <g id=\"patch_4\">\n    <path clip-path=\"url(#p8490ac53a3)\" d=\"M 178.826612 47.992273 \nC 180.001852 47.992273 181.129116 47.525345 181.960136 46.694324 \nC 182.791157 45.863304 183.258085 44.73604 183.258085 43.5608 \nC 183.258085 42.38556 182.791157 41.258296 181.960136 40.427276 \nC 181.129116 39.596255 180.001852 39.129328 178.826612 39.129328 \nC 177.651372 39.129328 176.524108 39.596255 175.693088 40.427276 \nC 174.862067 41.258296 174.39514 42.38556 174.39514 43.5608 \nC 174.39514 44.73604 174.862067 45.863304 175.693088 46.694324 \nC 176.524108 47.525345 177.651372 47.992273 178.826612 47.992273 \nz\n\" style=\"fill:#6fa4ff;stroke:#6fa4ff;stroke-linejoin:miter;stroke-width:1.5;\"/>\n   </g>\n   <g id=\"patch_5\">\n    <path clip-path=\"url(#p8490ac53a3)\" d=\"M 178.826612 99.351903 \nC 181.568839 99.351903 184.199121 98.262404 186.138169 96.323357 \nC 188.077216 94.384309 189.166715 91.754027 189.166715 89.0118 \nC 189.166715 86.269573 188.077216 83.639291 186.138169 81.700243 \nC 184.199121 79.761196 181.568839 78.671698 178.826612 78.671698 \nC 176.084385 78.671698 173.454103 79.761196 171.515055 81.700243 \nC 169.576008 83.639291 168.48651 86.269573 168.48651 89.0118 \nC 168.48651 91.754027 169.576008 94.384309 171.515055 96.323357 \nC 173.454103 98.262404 176.084385 99.351903 178.826612 99.351903 \nz\n\" style=\"fill:#6fa4ff;stroke:#6fa4ff;stroke-linejoin:miter;stroke-width:2;\"/>\n   </g>\n   <g id=\"line2d_4\">\n    <path clip-path=\"url(#p8490ac53a3)\" d=\"M 178.826612 94.92043 \nL 178.826612 83.10317 \n\" style=\"fill:none;stroke:#ffffff;stroke-linecap:square;stroke-width:2;\"/>\n   </g>\n   <g id=\"line2d_5\">\n    <path clip-path=\"url(#p8490ac53a3)\" d=\"M 172.917982 89.0118 \nL 184.735242 89.0118 \n\" style=\"fill:none;stroke:#ffffff;stroke-linecap:square;stroke-width:2;\"/>\n   </g>\n   <g id=\"text_1\">\n    <g clip-path=\"url(#p8490ac53a3)\">\n     <!-- $\\mathrm{R}_\\mathrm{Y}$ -->\n     <g transform=\"translate(80.384612 42.716515)scale(0.13 -0.13)\">\n      <defs>\n       <path d=\"M 44.390625 34.1875 \nQ 47.5625 33.109375 50.5625 29.59375 \nQ 53.5625 26.078125 56.59375 19.921875 \nL 66.609375 0 \nL 56 0 \nL 46.6875 18.703125 \nQ 43.0625 26.03125 39.671875 28.421875 \nQ 36.28125 30.8125 30.421875 30.8125 \nL 19.671875 30.8125 \nL 19.671875 0 \nL 9.8125 0 \nL 9.8125 72.90625 \nL 32.078125 72.90625 \nQ 44.578125 72.90625 50.734375 67.671875 \nQ 56.890625 62.453125 56.890625 51.90625 \nQ 56.890625 45.015625 53.6875 40.46875 \nQ 50.484375 35.9375 44.390625 34.1875 \nz\nM 19.671875 64.796875 \nL 19.671875 38.921875 \nL 32.078125 38.921875 \nQ 39.203125 38.921875 42.84375 42.21875 \nQ 46.484375 45.515625 46.484375 51.90625 \nQ 46.484375 58.296875 42.84375 61.546875 \nQ 39.203125 64.796875 32.078125 64.796875 \nz\n\" id=\"DejaVuSans-82\"/>\n       <path d=\"M -0.203125 72.90625 \nL 10.40625 72.90625 \nL 30.609375 42.921875 \nL 50.6875 72.90625 \nL 61.28125 72.90625 \nL 35.5 34.71875 \nL 35.5 0 \nL 25.59375 0 \nL 25.59375 34.71875 \nz\n\" id=\"DejaVuSans-89\"/>\n      </defs>\n      <use transform=\"translate(0 0.09375)\" xlink:href=\"#DejaVuSans-82\"/>\n      <use transform=\"translate(70.439453 -16.3125)scale(0.7)\" xlink:href=\"#DejaVuSans-89\"/>\n     </g>\n    </g>\n   </g>\n   <g id=\"text_2\">\n    <g clip-path=\"url(#p8490ac53a3)\">\n     <!-- 1 -->\n     <g transform=\"translate(85.379612 54.631245)scale(0.08 -0.08)\">\n      <defs>\n       <path d=\"M 12.40625 8.296875 \nL 28.515625 8.296875 \nL 28.515625 63.921875 \nL 10.984375 60.40625 \nL 10.984375 69.390625 \nL 28.421875 72.90625 \nL 38.28125 72.90625 \nL 38.28125 8.296875 \nL 54.390625 8.296875 \nL 54.390625 0 \nL 12.40625 0 \nz\n\" id=\"DejaVuSans-49\"/>\n      </defs>\n      <use xlink:href=\"#DejaVuSans-49\"/>\n     </g>\n    </g>\n   </g>\n   <g id=\"text_3\">\n    <g clip-path=\"url(#p8490ac53a3)\">\n     <!-- $\\mathrm{R}_\\mathrm{Z}$ -->\n     <g transform=\"translate(125.445612 42.716515)scale(0.13 -0.13)\">\n      <defs>\n       <path d=\"M 5.609375 72.90625 \nL 62.890625 72.90625 \nL 62.890625 65.375 \nL 16.796875 8.296875 \nL 64.015625 8.296875 \nL 64.015625 0 \nL 4.5 0 \nL 4.5 7.515625 \nL 50.59375 64.59375 \nL 5.609375 64.59375 \nz\n\" id=\"DejaVuSans-90\"/>\n      </defs>\n      <use transform=\"translate(0 0.09375)\" xlink:href=\"#DejaVuSans-82\"/>\n      <use transform=\"translate(70.439453 -16.3125)scale(0.7)\" xlink:href=\"#DejaVuSans-90\"/>\n     </g>\n    </g>\n   </g>\n   <g id=\"text_4\">\n    <g clip-path=\"url(#p8490ac53a3)\">\n     <!-- 2 -->\n     <g transform=\"translate(130.830612 54.631245)scale(0.08 -0.08)\">\n      <defs>\n       <path d=\"M 19.1875 8.296875 \nL 53.609375 8.296875 \nL 53.609375 0 \nL 7.328125 0 \nL 7.328125 8.296875 \nQ 12.9375 14.109375 22.625 23.890625 \nQ 32.328125 33.6875 34.8125 36.53125 \nQ 39.546875 41.84375 41.421875 45.53125 \nQ 43.3125 49.21875 43.3125 52.78125 \nQ 43.3125 58.59375 39.234375 62.25 \nQ 35.15625 65.921875 28.609375 65.921875 \nQ 23.96875 65.921875 18.8125 64.3125 \nQ 13.671875 62.703125 7.8125 59.421875 \nL 7.8125 69.390625 \nQ 13.765625 71.78125 18.9375 73 \nQ 24.125 74.21875 28.421875 74.21875 \nQ 39.75 74.21875 46.484375 68.546875 \nQ 53.21875 62.890625 53.21875 53.421875 \nQ 53.21875 48.921875 51.53125 44.890625 \nQ 49.859375 40.875 45.40625 35.40625 \nQ 44.1875 33.984375 37.640625 27.21875 \nQ 31.109375 20.453125 19.1875 8.296875 \nz\n\" id=\"DejaVuSans-50\"/>\n      </defs>\n      <use xlink:href=\"#DejaVuSans-50\"/>\n     </g>\n    </g>\n   </g>\n   <g id=\"text_5\">\n    <g clip-path=\"url(#p8490ac53a3)\">\n     <!-- ${q}_{0}$ -->\n     <g transform=\"translate(36.253372 48.011777)scale(0.1625 -0.1625)\">\n      <defs>\n       <path d=\"M 41.703125 8.203125 \nQ 38.09375 3.46875 33.171875 1.015625 \nQ 28.265625 -1.421875 22.3125 -1.421875 \nQ 14.015625 -1.421875 9.296875 4.171875 \nQ 4.59375 9.765625 4.59375 19.578125 \nQ 4.59375 27.484375 7.5 34.859375 \nQ 10.40625 42.234375 15.828125 48.09375 \nQ 19.34375 51.90625 23.90625 53.953125 \nQ 28.46875 56 33.5 56 \nQ 39.546875 56 43.453125 53.609375 \nQ 47.359375 51.21875 49.125 46.390625 \nL 50.6875 54.59375 \nL 59.71875 54.59375 \nL 45.125 -20.609375 \nL 36.078125 -20.609375 \nz\nM 13.921875 20.90625 \nQ 13.921875 13.671875 16.9375 9.890625 \nQ 19.96875 6.109375 25.6875 6.109375 \nQ 34.1875 6.109375 40.1875 14.234375 \nQ 46.1875 22.359375 46.1875 33.984375 \nQ 46.1875 41.015625 43.078125 44.75 \nQ 39.984375 48.484375 34.1875 48.484375 \nQ 29.9375 48.484375 26.3125 46.5 \nQ 22.703125 44.53125 20.015625 40.71875 \nQ 17.1875 36.71875 15.546875 31.34375 \nQ 13.921875 25.984375 13.921875 20.90625 \nz\n\" id=\"DejaVuSans-Oblique-113\"/>\n       <path d=\"M 31.78125 66.40625 \nQ 24.171875 66.40625 20.328125 58.90625 \nQ 16.5 51.421875 16.5 36.375 \nQ 16.5 21.390625 20.328125 13.890625 \nQ 24.171875 6.390625 31.78125 6.390625 \nQ 39.453125 6.390625 43.28125 13.890625 \nQ 47.125 21.390625 47.125 36.375 \nQ 47.125 51.421875 43.28125 58.90625 \nQ 39.453125 66.40625 31.78125 66.40625 \nz\nM 31.78125 74.21875 \nQ 44.046875 74.21875 50.515625 64.515625 \nQ 56.984375 54.828125 56.984375 36.375 \nQ 56.984375 17.96875 50.515625 8.265625 \nQ 44.046875 -1.421875 31.78125 -1.421875 \nQ 19.53125 -1.421875 13.0625 8.265625 \nQ 6.59375 17.96875 6.59375 36.375 \nQ 6.59375 54.828125 13.0625 64.515625 \nQ 19.53125 74.21875 31.78125 74.21875 \nz\n\" id=\"DejaVuSans-48\"/>\n      </defs>\n      <use xlink:href=\"#DejaVuSans-Oblique-113\"/>\n      <use transform=\"translate(63.476562 -16.40625)scale(0.7)\" xlink:href=\"#DejaVuSans-48\"/>\n     </g>\n    </g>\n   </g>\n   <g id=\"text_6\">\n    <g clip-path=\"url(#p8490ac53a3)\">\n     <!-- ${q}_{1}$ -->\n     <g transform=\"translate(36.253372 93.462777)scale(0.1625 -0.1625)\">\n      <use xlink:href=\"#DejaVuSans-Oblique-113\"/>\n      <use transform=\"translate(63.476562 -16.40625)scale(0.7)\" xlink:href=\"#DejaVuSans-49\"/>\n     </g>\n    </g>\n   </g>\n  </g>\n </g>\n <defs>\n  <clipPath id=\"p8490ac53a3\">\n   <rect height=\"109.0824\" width=\"201.624272\" x=\"7.2\" y=\"7.2\"/>\n  </clipPath>\n </defs>\n</svg>\n",
      "image/png": "iVBORw0KGgoAAAANSUhEUgAAANgAAAB7CAYAAAAWqE6tAAAAOXRFWHRTb2Z0d2FyZQBNYXRwbG90bGliIHZlcnNpb24zLjMuMywgaHR0cHM6Ly9tYXRwbG90bGliLm9yZy/Il7ecAAAACXBIWXMAAAsTAAALEwEAmpwYAAALcElEQVR4nO3de3BU1QHH8W92yYOnEldISQQJIVEiSQGRVyEGmZJQ2/oKCtQZKJU0xfE9TiuF1kZjJ8aWP3SAqdhUq7GTyGhaAZ9hAUErUpWM6FpCCCsRCMgjGAPJpn+kBENem7Bn7934+8xkBs7unv1N4Dfn7rm7e8OampqaEBEjHFYHEOnNVDARg1QwEYNUMBGDVDARg1QwEYNUMBGDVDARg1QwEYNUMBGDVDARg1QwEYNUMBGDVDARg1QwEYNUMBGDVDARg1QwEYNUMBGDVDARg1QwEYNUMBGDVDARg1QwEYNUMBGDVDARg/pYHcDuPnsbTh6y5rkHDoGkmT17rFW5LyRzb6SCdeHkITjmtTpF94Vq7t5Gh4giBqlgIgapYCIGqWAiBmmTI0DuX3Utu/dtx+kMx+FwEjN4JPOvW0ZaapbV0ToUiplDjQoWQAtmLWfBrN/S2NjAK9ue5LEX5pMQO45YV4LV0ToUiplDiQ4RDXA6+5A56Q4afQ3sOfCh1XH8EoqZQ4EKZsCZhtP8a9sqAOJciRan8U8oZg4FOkQMoBfeepRidwF19SdxOsO5L+tp4oelAJD3/HxmjpvP5DHXA/C7whv48ZRfcXXSD62M3GnmDf9ey5sfPNdy3+qjFYwdOZ3fzH/eqrjt8vng1GlwOqBfhNVpWrP1Cubz+SgoKGD06NFERUWRmpqK2+0mKSmJJUuWWB2vjfnXLePl3GOU/L6Ga66Yw0f/LWu5LeenKyl8bTl19bVs2bWO/lEXWV4u6Dxz5jWLeSJnE0/kbGLZgheJiujPooxHLUzbWt1pWP8RrFgHy1+Ch4rhTxthZyU0NVmdrpmtC7Z48WJyc3PJzs5mw4YNzJ07l3nz5lFRUcGECROsjtehgf0Gc1/W07z36atsK38FgMEDhnDjD+7mqVfu4oW3HuGXP/mzxSlbay/zWT6fj8eKFrA48zFioi+3JuB5TtXDytfg9XKorT83vv8IPPsOlP7HHiWzbcGKioooLCyktLSUBx54gPT0dJYtW8aUKVNoaGhg/PjxVkfs1KB+0dw8/T6e2fgQPp8PgNkTF+I97OGGaXcxqF+0xQnbai8zwHNvPMzImLFMu+oG68Kd56X34dCJtuNnO1W2Gz75IqiR2mXbguXl5ZGRkUFaWlqr8YSEBMLDw0lJaX6dUFlZSVpaGomJiYwdO5YtW7ZYEbddN06/m6Mnqnnjg2dbxoZdkmDrLfDzM+/8/C0+8LzOHT/KtzjZOSfq4MOqc2VqTxiw+bNgJeqYLQvm9XopLy8nK6vtCc+qqiqSk5OJjIwEIDs7m1tvvRWPx8OaNWu47bbbOH36dJfPERYW5teP273Jr8xP5GxiwazfthrrHzWIdX84yuyJC/2a43xu9ya/c/Ykd1eZj574kidfvpOHFhQR3se/3YMLyezvz/gZN+Hr4vCvCfjEe9rI83eHLXcRvd7mz1nExMS0Gq+rq8PtdpOZmQlATU0NW7dupbS0FICpU6cybNgwysrKmD17dnBD90J/fzOXU98c5/F/LGwZu+zSJO65ZY11oYAwh9O/+4VZv37YsmAulwsAj8fDnDlzWsbz8/Oprq5u2eCoqqpi6NChLasZwMiRI9m3b1+Xz9Hk5yvgHS8G9nNVD95W6Pd909KupWlVz16pByL3XTc9xV03PdWtx1xIZn/VnIRHSju/Txgw4tI+fv87m2LLgsXHx5OSkkJeXh7R0dHExsZSUlLC+vXrAWy9gyjmuQZCUgx4vuz4dVgTMD0pmKnaZ/0a2g6Hw0FxcTHJycnk5OSwaNEiXC4XS5cuxel0tmxwDB8+nIMHD1Jff26fdu/evYwYMcKq6BIkt1wD/SKbV6r2XBUHV18ezETts2XBABITEykrK+PUqVNUVVWRm5vLrl27GDNmDH379gWaDyWnTZvG2rVrAdi2bRtffPEF6enpVkaXILh0INw7G1KHg+NbLesfCRljYdF0cNjgf7ctDxE7smPHDiZPntxqbPXq1SxcuJCVK1cSERFBUVERERHWv1+m5vgBlv/1evYd/IR/PlKL02n/X/XuqvdYXXovYWEOki6bSI7NToafzzUQFk6Hk3WwfF3z2MM3Qh//9kCCwgYd909tbS0ej6fNCeb4+Hg2b96Mx+OhvLy8zXkzqwzqF03+kre4cvjkru9sE0MvHsHj2W+zculWjtUeYm/1Lqsj+WVg33N/tlO5IIRWsAEDBtDY2Gh1DL9FhEcRER5ldYxuiR507rSI09H8IUy5MCGzgknwVBz4mOOnDjNi6Biro4Q8FUxaOfH1UZ58+U7uz1prdZReQQWTFo2NDfyx6Gcsub6g1eGi9JwKZkhD4xkeXDOLiuqP+PXTs9ld9Z7Vkbrk/rgYz/73+curD3L/qmv5pHK71ZFCXshscoSaPs5w8rPftDpGt8wcN4+Z4+ZZHaNX0QomYpAKJmKQDhG7MHBIaD63Vbmt/H3ZkQrWhVC91lWo5u5tdIgoYpAKJmKQCiZikAomYpAKJmKQCiZikAomYpAKJmKQCiZikAomYpAKJmKQCiZikAomYpAKJmKQCiZikAomYpAKJmJQWJPVVygT6YFGX/NFzvceBu9XzdcKA0i9DC67BK74HsTZ4DrzKpiElIZGKNsNWz6DE990ft/LXTB7LFw5LDjZ2qOCScg48BU89w5UH+/e4yaNgpuuhkgLvoFGBZOQsPcwrH4b6ht69viRLsieCVHhgc3VFW1yiO0dqYU1ZT0vF8DeGvjbVgj2cqKCia35muDFd+GbM53fb+WC5p/O7D4A7+4JXDZ/2LpgPp+PgoICRo8eTVRUFKmpqbjdbpKSkliyZInV8SQIdu2Hzw8Gbr7SnRe2EnaXrQu2ePFicnNzyc7OZsOGDcydO5d58+ZRUVHBhAkTrI4nQbDVE9j56s7AzsrAztkZ236zb1FREYWFhWzatKnlusvp6ens3LmTdevWtblWs/Q+x+sCu3qd9UElTEkI/Lztse0KlpeXR0ZGRpuLmickJBAeHk5KSgoAK1asIDExEYfDQUlJiRVRxZD9R8zN6wvSZoctC+b1eikvLycrK6vNbVVVVSQnJxMZGQlARkYGGzduZMaMGcGOKYZ92c3zXf6qb4Bjp8zMfT5bHiJ6vV4AYmJaX8a0rq4Ot9tNZmZmy9jUqVN79BxhYWE9DyhBMfnmh5l044pWY13tFHZ0+z3Pt/57QtKVfHXg0x7l6s6pY1uuYC6XCwCPp/Ur3Pz8fKqrq7XB8R3ReKaL90JdgIbTdcbm/jZbrmDx8fGkpKSQl5dHdHQ0sbGxlJSUsH79eoCAFExvYLG/j/fDM5tbj52/Ep11duXq6PZvi+gDxw5W4gjC8mLLFczhcFBcXExycjI5OTksWrQIl8vF0qVLcTqdLRsc0rsNv8TMvHGDCUq5wKYrGEBiYiJlZWWtxm6//XbGjBlD3759LUolwXRxv+b3EO6tCey840YEdr7O2HIF68iOHTvaHB4uX76cuLg4tm/fTnZ2NnFxcezZE+T3w4gx0xIDO19kH5gYH9g5OxMyBautrcXj8bQ5wZybm4vX66W+vp4jR47g9XoZNWqURSkl0MaPaP5cV6DMSQ3uO+r1cRWxvYMnoGA9nGm8sHlGDYGls8ARxDM0IbOCyXfX0EHwizQId/Z8jtjB8PMZwS0XaAWTEFJZ0/yJ5iO13Xtc6nC4dRL0izCTqzMqmISU+gZ4fRe883nXnxGLuQgyxsL3g7hreD4VTEJSfQN8VAWV//9Wqa/rISwMovuf+1apUUOax6ykgokYpE0OEYNUMBGDVDARg1QwEYNUMBGDVDARg1QwEYNUMBGDVDARg1QwEYNUMBGDVDARg1QwEYNUMBGDVDARg1QwEYNUMBGDVDARg1QwEYNUMBGDVDARg1QwEYP+B4qyaPYKlf+xAAAAAElFTkSuQmCC\n"
=======
      ]
>>>>>>> 985b078b1000e8e606b609a35655eb72d2ff0ea1
     },
     "execution_count": 4,
     "metadata": {},
<<<<<<< HEAD
     "execution_count": 3
=======
     "output_type": "execute_result"
>>>>>>> 985b078b1000e8e606b609a35655eb72d2ff0ea1
    }
   ],
   "source": [
    "varform_qc = example_2qubits_2params_quantum_circuit\n",
    "qc = varform_qc(1,2)\n",
<<<<<<< HEAD
    "qc.draw(output='mpl')"
=======
    "qc.draw('mpl')"
>>>>>>> 985b078b1000e8e606b609a35655eb72d2ff0ea1
   ]
  },
  {
   "cell_type": "markdown",
   "metadata": {},
   "source": [
    "## Using qiskit parameter\n",
    "\n",
    "The other way to generate a parametrized `QuantumCircuit` is to use the `Parameter` class in `qiskit`."
   ]
  },
  {
   "cell_type": "code",
<<<<<<< HEAD
   "execution_count": 9,
=======
   "execution_count": 5,
>>>>>>> 985b078b1000e8e606b609a35655eb72d2ff0ea1
   "metadata": {},
   "outputs": [],
   "source": [
    "from qiskit.circuit import Parameter"
   ]
  },
  {
   "cell_type": "markdown",
   "metadata": {},
   "source": [
    "Here is the same circuit as before done with this method."
   ]
  },
  {
   "cell_type": "code",
   "execution_count": 10,
   "metadata": {},
   "outputs": [
    {
     "data": {
      "text/plain": [
<<<<<<< HEAD
       "<qiskit.circuit.instructionset.InstructionSet at 0x7fce7bd94b80>"
=======
       "<qiskit.circuit.instructionset.InstructionSet at 0x1337b7950>"
>>>>>>> 985b078b1000e8e606b609a35655eb72d2ff0ea1
      ]
     },
     "execution_count": 6,
     "metadata": {},
<<<<<<< HEAD
     "execution_count": 10
=======
     "output_type": "execute_result"
>>>>>>> 985b078b1000e8e606b609a35655eb72d2ff0ea1
    }
   ],
   "source": [
    "a = Parameter('a')\n",
    "b = Parameter('b')\n",
    "varform_qc = QuantumCircuit(2)\n",
    "varform_qc.ry(a,0)\n",
    "varform_qc.rz(b,0)\n",
    "varform_qc.cx(0,1)"
   ]
  },
  {
   "cell_type": "markdown",
   "metadata": {},
   "source": [
    "Done this way the parametrized circuit can be drawn right away."
   ]
  },
  {
   "cell_type": "code",
   "execution_count": 11,
   "metadata": {},
   "outputs": [
    {
     "data": {
      "image/png": "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\n",
      "text/plain": [
       "<Figure size 267.052x144.48 with 1 Axes>"
      ]
     },
     "execution_count": 7,
     "metadata": {},
<<<<<<< HEAD
     "execution_count": 11
=======
     "output_type": "execute_result"
>>>>>>> 985b078b1000e8e606b609a35655eb72d2ff0ea1
    }
   ],
   "source": [
    "varform_qc.draw('mpl')"
   ]
  },
  {
   "cell_type": "markdown",
   "metadata": {},
   "source": [
    "To see what are the parameters of a parametrized `QuantumCircuit` you can use"
   ]
  },
  {
   "cell_type": "code",
   "execution_count": 12,
   "metadata": {},
   "outputs": [
    {
     "data": {
      "text/plain": [
       "{Parameter(a), Parameter(b)}"
      ]
     },
     "execution_count": 8,
     "metadata": {},
<<<<<<< HEAD
     "execution_count": 12
=======
     "output_type": "execute_result"
>>>>>>> 985b078b1000e8e606b609a35655eb72d2ff0ea1
    }
   ],
   "source": [
    "varform_qc.parameters"
   ]
  },
  {
   "cell_type": "markdown",
   "metadata": {},
   "source": [
    "**Important** Beware that sometimes the parameters will not appear in the same order as you declared them!\n",
    "\n",
    "To assign values to the different parameters we need to use the `QuantumCircuit.assign_paremeters()` method. This methods takes a `dict` as an argument containing the `Parameter`s and their `value`s."
   ]
  },
  {
   "cell_type": "code",
   "execution_count": 13,
   "metadata": {},
   "outputs": [
    {
<<<<<<< HEAD
     "output_type": "execute_result",
     "data": {
      "text/plain": [
       "<Figure size 267.052x144.48 with 1 Axes>"
      ],
      "image/svg+xml": "<?xml version=\"1.0\" encoding=\"utf-8\" standalone=\"no\"?>\n<!DOCTYPE svg PUBLIC \"-//W3C//DTD SVG 1.1//EN\"\n  \"http://www.w3.org/Graphics/SVG/1.1/DTD/svg11.dtd\">\n<!-- Created with matplotlib (https://matplotlib.org/) -->\n<svg height=\"123.4824pt\" version=\"1.1\" viewBox=\"0 0 216.024272 123.4824\" width=\"216.024272pt\" xmlns=\"http://www.w3.org/2000/svg\" xmlns:xlink=\"http://www.w3.org/1999/xlink\">\n <metadata>\n  <rdf:RDF xmlns:cc=\"http://creativecommons.org/ns#\" xmlns:dc=\"http://purl.org/dc/elements/1.1/\" xmlns:rdf=\"http://www.w3.org/1999/02/22-rdf-syntax-ns#\">\n   <cc:Work>\n    <dc:type rdf:resource=\"http://purl.org/dc/dcmitype/StillImage\"/>\n    <dc:date>2021-02-01T16:50:15.839272</dc:date>\n    <dc:format>image/svg+xml</dc:format>\n    <dc:creator>\n     <cc:Agent>\n      <dc:title>Matplotlib v3.3.3, https://matplotlib.org/</dc:title>\n     </cc:Agent>\n    </dc:creator>\n   </cc:Work>\n  </rdf:RDF>\n </metadata>\n <defs>\n  <style type=\"text/css\">*{stroke-linecap:butt;stroke-linejoin:round;}</style>\n </defs>\n <g id=\"figure_1\">\n  <g id=\"patch_1\">\n   <path d=\"M 0 123.4824 \nL 216.024272 123.4824 \nL 216.024272 0 \nL 0 0 \nz\n\" style=\"fill:#ffffff;\"/>\n  </g>\n  <g id=\"axes_1\">\n   <g id=\"line2d_1\">\n    <path clip-path=\"url(#p9aa9ca52a3)\" d=\"M 63.381072 43.5608 \nL 204.279172 43.5608 \n\" style=\"fill:none;stroke:#000000;stroke-linecap:square;stroke-width:2;\"/>\n   </g>\n   <g id=\"line2d_2\">\n    <path clip-path=\"url(#p9aa9ca52a3)\" d=\"M 63.381072 89.0118 \nL 204.279172 89.0118 \n\" style=\"fill:none;stroke:#000000;stroke-linecap:square;stroke-width:2;\"/>\n   </g>\n   <g id=\"line2d_3\">\n    <path clip-path=\"url(#p9aa9ca52a3)\" d=\"M 178.826612 89.0118 \nL 178.826612 43.5608 \n\" style=\"fill:none;stroke:#6fa4ff;stroke-linecap:square;stroke-width:2;\"/>\n   </g>\n   <g id=\"patch_2\">\n    <path clip-path=\"url(#p9aa9ca52a3)\" d=\"M 73.153037 58.332375 \nL 102.696187 58.332375 \nL 102.696187 28.789225 \nL 73.153037 28.789225 \nz\n\" style=\"fill:#bb8bff;stroke:#bb8bff;stroke-linejoin:miter;stroke-width:1.5;\"/>\n   </g>\n   <g id=\"patch_3\">\n    <path clip-path=\"url(#p9aa9ca52a3)\" d=\"M 118.604037 58.332375 \nL 148.147187 58.332375 \nL 148.147187 28.789225 \nL 118.604037 28.789225 \nz\n\" style=\"fill:#bb8bff;stroke:#bb8bff;stroke-linejoin:miter;stroke-width:1.5;\"/>\n   </g>\n   <g id=\"patch_4\">\n    <path clip-path=\"url(#p9aa9ca52a3)\" d=\"M 178.826612 47.992273 \nC 180.001852 47.992273 181.129116 47.525345 181.960136 46.694324 \nC 182.791157 45.863304 183.258085 44.73604 183.258085 43.5608 \nC 183.258085 42.38556 182.791157 41.258296 181.960136 40.427276 \nC 181.129116 39.596255 180.001852 39.129328 178.826612 39.129328 \nC 177.651372 39.129328 176.524108 39.596255 175.693088 40.427276 \nC 174.862067 41.258296 174.39514 42.38556 174.39514 43.5608 \nC 174.39514 44.73604 174.862067 45.863304 175.693088 46.694324 \nC 176.524108 47.525345 177.651372 47.992273 178.826612 47.992273 \nz\n\" style=\"fill:#6fa4ff;stroke:#6fa4ff;stroke-linejoin:miter;stroke-width:1.5;\"/>\n   </g>\n   <g id=\"patch_5\">\n    <path clip-path=\"url(#p9aa9ca52a3)\" d=\"M 178.826612 99.351903 \nC 181.568839 99.351903 184.199121 98.262404 186.138169 96.323357 \nC 188.077216 94.384309 189.166715 91.754027 189.166715 89.0118 \nC 189.166715 86.269573 188.077216 83.639291 186.138169 81.700243 \nC 184.199121 79.761196 181.568839 78.671698 178.826612 78.671698 \nC 176.084385 78.671698 173.454103 79.761196 171.515055 81.700243 \nC 169.576008 83.639291 168.48651 86.269573 168.48651 89.0118 \nC 168.48651 91.754027 169.576008 94.384309 171.515055 96.323357 \nC 173.454103 98.262404 176.084385 99.351903 178.826612 99.351903 \nz\n\" style=\"fill:#6fa4ff;stroke:#6fa4ff;stroke-linejoin:miter;stroke-width:2;\"/>\n   </g>\n   <g id=\"line2d_4\">\n    <path clip-path=\"url(#p9aa9ca52a3)\" d=\"M 178.826612 94.92043 \nL 178.826612 83.10317 \n\" style=\"fill:none;stroke:#ffffff;stroke-linecap:square;stroke-width:2;\"/>\n   </g>\n   <g id=\"line2d_5\">\n    <path clip-path=\"url(#p9aa9ca52a3)\" d=\"M 172.917982 89.0118 \nL 184.735242 89.0118 \n\" style=\"fill:none;stroke:#ffffff;stroke-linecap:square;stroke-width:2;\"/>\n   </g>\n   <g id=\"text_1\">\n    <g clip-path=\"url(#p9aa9ca52a3)\">\n     <!-- $\\mathrm{R}_\\mathrm{Y}$ -->\n     <g transform=\"translate(80.384612 42.716515)scale(0.13 -0.13)\">\n      <defs>\n       <path d=\"M 44.390625 34.1875 \nQ 47.5625 33.109375 50.5625 29.59375 \nQ 53.5625 26.078125 56.59375 19.921875 \nL 66.609375 0 \nL 56 0 \nL 46.6875 18.703125 \nQ 43.0625 26.03125 39.671875 28.421875 \nQ 36.28125 30.8125 30.421875 30.8125 \nL 19.671875 30.8125 \nL 19.671875 0 \nL 9.8125 0 \nL 9.8125 72.90625 \nL 32.078125 72.90625 \nQ 44.578125 72.90625 50.734375 67.671875 \nQ 56.890625 62.453125 56.890625 51.90625 \nQ 56.890625 45.015625 53.6875 40.46875 \nQ 50.484375 35.9375 44.390625 34.1875 \nz\nM 19.671875 64.796875 \nL 19.671875 38.921875 \nL 32.078125 38.921875 \nQ 39.203125 38.921875 42.84375 42.21875 \nQ 46.484375 45.515625 46.484375 51.90625 \nQ 46.484375 58.296875 42.84375 61.546875 \nQ 39.203125 64.796875 32.078125 64.796875 \nz\n\" id=\"DejaVuSans-82\"/>\n       <path d=\"M -0.203125 72.90625 \nL 10.40625 72.90625 \nL 30.609375 42.921875 \nL 50.6875 72.90625 \nL 61.28125 72.90625 \nL 35.5 34.71875 \nL 35.5 0 \nL 25.59375 0 \nL 25.59375 34.71875 \nz\n\" id=\"DejaVuSans-89\"/>\n      </defs>\n      <use transform=\"translate(0 0.09375)\" xlink:href=\"#DejaVuSans-82\"/>\n      <use transform=\"translate(70.439453 -16.3125)scale(0.7)\" xlink:href=\"#DejaVuSans-89\"/>\n     </g>\n    </g>\n   </g>\n   <g id=\"text_2\">\n    <g clip-path=\"url(#p9aa9ca52a3)\">\n     <!-- 1 -->\n     <g transform=\"translate(85.379612 54.631245)scale(0.08 -0.08)\">\n      <defs>\n       <path d=\"M 12.40625 8.296875 \nL 28.515625 8.296875 \nL 28.515625 63.921875 \nL 10.984375 60.40625 \nL 10.984375 69.390625 \nL 28.421875 72.90625 \nL 38.28125 72.90625 \nL 38.28125 8.296875 \nL 54.390625 8.296875 \nL 54.390625 0 \nL 12.40625 0 \nz\n\" id=\"DejaVuSans-49\"/>\n      </defs>\n      <use xlink:href=\"#DejaVuSans-49\"/>\n     </g>\n    </g>\n   </g>\n   <g id=\"text_3\">\n    <g clip-path=\"url(#p9aa9ca52a3)\">\n     <!-- $\\mathrm{R}_\\mathrm{Z}$ -->\n     <g transform=\"translate(125.445612 42.716515)scale(0.13 -0.13)\">\n      <defs>\n       <path d=\"M 5.609375 72.90625 \nL 62.890625 72.90625 \nL 62.890625 65.375 \nL 16.796875 8.296875 \nL 64.015625 8.296875 \nL 64.015625 0 \nL 4.5 0 \nL 4.5 7.515625 \nL 50.59375 64.59375 \nL 5.609375 64.59375 \nz\n\" id=\"DejaVuSans-90\"/>\n      </defs>\n      <use transform=\"translate(0 0.09375)\" xlink:href=\"#DejaVuSans-82\"/>\n      <use transform=\"translate(70.439453 -16.3125)scale(0.7)\" xlink:href=\"#DejaVuSans-90\"/>\n     </g>\n    </g>\n   </g>\n   <g id=\"text_4\">\n    <g clip-path=\"url(#p9aa9ca52a3)\">\n     <!-- 2 -->\n     <g transform=\"translate(130.830612 54.631245)scale(0.08 -0.08)\">\n      <defs>\n       <path d=\"M 19.1875 8.296875 \nL 53.609375 8.296875 \nL 53.609375 0 \nL 7.328125 0 \nL 7.328125 8.296875 \nQ 12.9375 14.109375 22.625 23.890625 \nQ 32.328125 33.6875 34.8125 36.53125 \nQ 39.546875 41.84375 41.421875 45.53125 \nQ 43.3125 49.21875 43.3125 52.78125 \nQ 43.3125 58.59375 39.234375 62.25 \nQ 35.15625 65.921875 28.609375 65.921875 \nQ 23.96875 65.921875 18.8125 64.3125 \nQ 13.671875 62.703125 7.8125 59.421875 \nL 7.8125 69.390625 \nQ 13.765625 71.78125 18.9375 73 \nQ 24.125 74.21875 28.421875 74.21875 \nQ 39.75 74.21875 46.484375 68.546875 \nQ 53.21875 62.890625 53.21875 53.421875 \nQ 53.21875 48.921875 51.53125 44.890625 \nQ 49.859375 40.875 45.40625 35.40625 \nQ 44.1875 33.984375 37.640625 27.21875 \nQ 31.109375 20.453125 19.1875 8.296875 \nz\n\" id=\"DejaVuSans-50\"/>\n      </defs>\n      <use xlink:href=\"#DejaVuSans-50\"/>\n     </g>\n    </g>\n   </g>\n   <g id=\"text_5\">\n    <g clip-path=\"url(#p9aa9ca52a3)\">\n     <!-- ${q}_{0}$ -->\n     <g transform=\"translate(36.253372 48.011777)scale(0.1625 -0.1625)\">\n      <defs>\n       <path d=\"M 41.703125 8.203125 \nQ 38.09375 3.46875 33.171875 1.015625 \nQ 28.265625 -1.421875 22.3125 -1.421875 \nQ 14.015625 -1.421875 9.296875 4.171875 \nQ 4.59375 9.765625 4.59375 19.578125 \nQ 4.59375 27.484375 7.5 34.859375 \nQ 10.40625 42.234375 15.828125 48.09375 \nQ 19.34375 51.90625 23.90625 53.953125 \nQ 28.46875 56 33.5 56 \nQ 39.546875 56 43.453125 53.609375 \nQ 47.359375 51.21875 49.125 46.390625 \nL 50.6875 54.59375 \nL 59.71875 54.59375 \nL 45.125 -20.609375 \nL 36.078125 -20.609375 \nz\nM 13.921875 20.90625 \nQ 13.921875 13.671875 16.9375 9.890625 \nQ 19.96875 6.109375 25.6875 6.109375 \nQ 34.1875 6.109375 40.1875 14.234375 \nQ 46.1875 22.359375 46.1875 33.984375 \nQ 46.1875 41.015625 43.078125 44.75 \nQ 39.984375 48.484375 34.1875 48.484375 \nQ 29.9375 48.484375 26.3125 46.5 \nQ 22.703125 44.53125 20.015625 40.71875 \nQ 17.1875 36.71875 15.546875 31.34375 \nQ 13.921875 25.984375 13.921875 20.90625 \nz\n\" id=\"DejaVuSans-Oblique-113\"/>\n       <path d=\"M 31.78125 66.40625 \nQ 24.171875 66.40625 20.328125 58.90625 \nQ 16.5 51.421875 16.5 36.375 \nQ 16.5 21.390625 20.328125 13.890625 \nQ 24.171875 6.390625 31.78125 6.390625 \nQ 39.453125 6.390625 43.28125 13.890625 \nQ 47.125 21.390625 47.125 36.375 \nQ 47.125 51.421875 43.28125 58.90625 \nQ 39.453125 66.40625 31.78125 66.40625 \nz\nM 31.78125 74.21875 \nQ 44.046875 74.21875 50.515625 64.515625 \nQ 56.984375 54.828125 56.984375 36.375 \nQ 56.984375 17.96875 50.515625 8.265625 \nQ 44.046875 -1.421875 31.78125 -1.421875 \nQ 19.53125 -1.421875 13.0625 8.265625 \nQ 6.59375 17.96875 6.59375 36.375 \nQ 6.59375 54.828125 13.0625 64.515625 \nQ 19.53125 74.21875 31.78125 74.21875 \nz\n\" id=\"DejaVuSans-48\"/>\n      </defs>\n      <use xlink:href=\"#DejaVuSans-Oblique-113\"/>\n      <use transform=\"translate(63.476562 -16.40625)scale(0.7)\" xlink:href=\"#DejaVuSans-48\"/>\n     </g>\n    </g>\n   </g>\n   <g id=\"text_6\">\n    <g clip-path=\"url(#p9aa9ca52a3)\">\n     <!-- ${q}_{1}$ -->\n     <g transform=\"translate(36.253372 93.462777)scale(0.1625 -0.1625)\">\n      <use xlink:href=\"#DejaVuSans-Oblique-113\"/>\n      <use transform=\"translate(63.476562 -16.40625)scale(0.7)\" xlink:href=\"#DejaVuSans-49\"/>\n     </g>\n    </g>\n   </g>\n  </g>\n </g>\n <defs>\n  <clipPath id=\"p9aa9ca52a3\">\n   <rect height=\"109.0824\" width=\"201.624272\" x=\"7.2\" y=\"7.2\"/>\n  </clipPath>\n </defs>\n</svg>\n",
      "image/png": "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\n"
     },
     "metadata": {},
     "execution_count": 13
=======
     "data": {
      "image/png": "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\n",
      "text/plain": [
       "<Figure size 267.052x144.48 with 1 Axes>"
      ]
     },
     "execution_count": 9,
     "metadata": {},
     "output_type": "execute_result"
>>>>>>> 985b078b1000e8e606b609a35655eb72d2ff0ea1
    }
   ],
   "source": [
    "param_dict = {a : 1, b : 2}\n",
    "qc = varform_qc.assign_parameters(param_dict)\n",
    "qc.draw('mpl')"
   ]
  },
  {
   "cell_type": "markdown",
   "metadata": {},
   "source": [
    "If you want to provide the parameter values as a `list` or a `np.array` you can build the `dict` directly. Just make sure that the order you use in `param_values` corresponds to the other of `varform_qc.parameters`."
   ]
  },
  {
   "cell_type": "code",
   "execution_count": 14,
   "metadata": {},
   "outputs": [
    {
     "name": "stdout",
     "output_type": "stream",
     "text": [
      "{Parameter(a): 1, Parameter(b): 2}\n"
     ]
    }
   ],
   "source": [
    "param_values = [1, 2]\n",
    "param_dict = dict(zip(varform_qc.parameters,param_values))\n",
    "print(param_dict)"
   ]
  },
  {
   "cell_type": "markdown",
   "metadata": {},
   "source": [
    "## Varforms circuits for H2\n",
    "Using the method of you choice, prepare 2 different 4-qubit `QuantumCircuit`s. \n",
    "- The first should take 1 parameter to cover the real coefficients state sub space spanned by $|0101\\rangle$ and $|1010\\rangle$.\n",
    "- The second should take 3 parameters to cover the real coefficients state sub space spanned by $|0101\\rangle$, $|0110\\rangle$, $|1001\\rangle$ and $|1010\\rangle$.\n",
    "\n",
    "Revisit the presentation to find such circuits."
   ]
  },
  {
   "cell_type": "code",
<<<<<<< HEAD
   "execution_count": 15,
=======
   "execution_count": 11,
>>>>>>> 985b078b1000e8e606b609a35655eb72d2ff0ea1
   "metadata": {},
   "outputs": [
    {
     "data": {
      "image/png": "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\n",
      "text/plain": [
       "<Figure size 327.397x264.88 with 1 Axes>"
      ]
     },
     "execution_count": 11,
     "metadata": {},
<<<<<<< HEAD
     "execution_count": 15
=======
     "output_type": "execute_result"
>>>>>>> 985b078b1000e8e606b609a35655eb72d2ff0ea1
    }
   ],
   "source": [
    "varform_4qubits_1param = QuantumCircuit(4)\n",
    "a = Parameter('a')\n",
    "\"\"\"\n",
    "Your code here\n",
    "\n",
    "\"\"\"\n",
    "varform_4qubits_1param.ry(a,1)\n",
    "varform_4qubits_1param.x(0)\n",
    "varform_4qubits_1param.cx(1,0)\n",
    "varform_4qubits_1param.cx(0,2)\n",
    "varform_4qubits_1param.cx(1,3)\n",
    "\n",
    "varform_4qubits_1param.draw('mpl')\n",
    "\n"
   ]
  },
  {
   "cell_type": "code",
<<<<<<< HEAD
   "execution_count": 16,
   "metadata": {},
   "outputs": [
    {
     "output_type": "stream",
     "name": "stdout",
     "text": [
      "{Parameter(a): 0.9193898467671018, Parameter(b): 2.2613496555386563, Parameter(c): 0.2552713162660669}\n"
     ]
    },
    {
     "output_type": "execute_result",
=======
   "execution_count": 12,
   "metadata": {},
   "outputs": [
    {
>>>>>>> 985b078b1000e8e606b609a35655eb72d2ff0ea1
     "data": {
      "image/png": "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\n",
      "text/plain": [
<<<<<<< HEAD
       "     ┌───┐ ░                                                        ┌───┐\n",
       "q_0: ┤ X ├─░────────────────────────────────────────────────────────┤ X ├\n",
       "     └───┘ ░ ┌───────────────────────┐      ┌──────────────────────┐└─┬─┘\n",
       "q_1: ──────░─┤ RY(0.919389846767102) ├──■───┤ RY(2.26134965553866) ├──■──\n",
       "     ┌───┐ ░ └───────────────────────┘  │   └──────────────────────┘┌───┐\n",
       "q_2: ┤ X ├─░────────────────────────────┼───────────────────────────┤ X ├\n",
       "     └───┘ ░                          ┌─┴─┐┌───────────────────────┐└─┬─┘\n",
       "q_3: ──────░──────────────────────────┤ X ├┤ RY(0.255271316266067) ├──■──\n",
       "           ░                          └───┘└───────────────────────┘     "
      ],
      "text/html": "<pre style=\"word-wrap: normal;white-space: pre;background: #fff0;line-height: 1.1;font-family: &quot;Courier New&quot;,Courier,monospace\">     ┌───┐ ░                                                        ┌───┐\nq_0: ┤ X ├─░────────────────────────────────────────────────────────┤ X ├\n     └───┘ ░ ┌───────────────────────┐      ┌──────────────────────┐└─┬─┘\nq_1: ──────░─┤ RY(0.919389846767102) ├──■───┤ RY(2.26134965553866) ├──■──\n     ┌───┐ ░ └───────────────────────┘  │   └──────────────────────┘┌───┐\nq_2: ┤ X ├─░────────────────────────────┼───────────────────────────┤ X ├\n     └───┘ ░                          ┌─┴─┐┌───────────────────────┐└─┬─┘\nq_3: ──────░──────────────────────────┤ X ├┤ RY(0.255271316266067) ├──■──\n           ░                          └───┘└───────────────────────┘     </pre>"
=======
       "<Figure size 447.797x264.88 with 1 Axes>"
      ]
>>>>>>> 985b078b1000e8e606b609a35655eb72d2ff0ea1
     },
     "execution_count": 12,
     "metadata": {},
<<<<<<< HEAD
     "execution_count": 16
=======
     "output_type": "execute_result"
>>>>>>> 985b078b1000e8e606b609a35655eb72d2ff0ea1
    }
   ],
   "source": [
    "varform_4qubits_3params = QuantumCircuit(4)\n",
    "a = Parameter('a')\n",
    "b = Parameter('b')\n",
    "c = Parameter('c')\n",
    "\"\"\"\n",
    "Your code here\n",
    "\"\"\"\n",
    "varform_4qubits_3params.x(0)\n",
    "varform_4qubits_3params.x(2)\n",
    "varform_4qubits_3params.barrier()\n",
    "varform_4qubits_3params.ry(a,1)\n",
    "varform_4qubits_3params.cx(1,3)\n",
    "varform_4qubits_3params.ry(b,1)\n",
    "varform_4qubits_3params.ry(c,3)\n",
    "varform_4qubits_3params.cx(1,0)\n",
    "varform_4qubits_3params.cx(3,2)\n",
    "varform_4qubits_3params.draw('mpl')"
   ]
  },
  {
   "cell_type": "markdown",
   "metadata": {},
   "source": [
    "# Evaluator\n",
    "The `Evaluator` is an object that will help us to evaluate the expectation value of a quantum operator (`LCPS`) on a specific variational form and backend. To initialize and `Evaluator` you should provide :\n",
    "\n",
    "**Mandatory**\n",
    "- A **variationnal form** that can create a `QuantumCircuit` given a set of `params`;\n",
    "- A **backend** `qiskit.Backend` (a simulator or an actual device handle) on which to run the `QuantumCircuit`\n",
    "\n",
    "**Optionnal**\n",
    "- `execute_opt` is a `dict` containing the optionnal argument to pass to the `qiskit.execute` method (ex : `{'shots' : 1024}`.\n",
    "- `measure_filter` a `qiskit.ignis...MeasurementFilter` that can be applied to the result of a circuit executation to mitigate readout errors."
   ]
  },
  {
   "cell_type": "markdown",
   "metadata": {},
   "source": [
    "The creation/usage of an `Evaluator` such as `BasicEvaluator` goes like this :\n",
    "\n",
    "<code>\n",
    "evaluator = BasicEvaluator(varform_qc,backend)<br>evaluator.set_linear_combinaison_pauli_string(operator_lcps)<br>expected_value = evaluator.eval(params)\n",
    "</code>\n",
    "\n",
    "First you initialize the evaluator.\n",
    "\n",
    "Next, you provide the operator you want to evaluate using the `set_linear_combinaison_pauli_string(LCPS)` method. \n",
    "\n",
    "Finally, you call the `eval(params)` method that will return the estimation of the operator's expected value. Mathematicaly, the use of this method corresponds to \n",
    "\n",
    "\\begin{align}\n",
    "E(\\boldsymbol{\\theta}).\n",
    "\\end{align}\n",
    "\n",
    "We will now go through the different pieces neccessary to complete the `Evaluator` class."
   ]
  },
  {
   "cell_type": "markdown",
   "metadata": {},
   "source": [
    "## Static methods\n",
    "Being static, these method do not need an instance of a class to be used. They can be called directly from the class.\n",
    "\n",
    "These methods are called before the first call to `eval(params)`. Most of these methods are implemented inside the abstract class `Evaluator` (except for `prepare_measurement_circuits_and_interpreters(LCPS)`)"
   ]
  },
  {
   "cell_type": "markdown",
   "metadata": {},
   "source": [
    "### Pauli Based Measurements\n",
    "We have seen that even if a quantum computer can only measure qubits in the Z-basis, the X and Y-basis are accessible if we *rotate* the quantum state before measuring. \n",
    "\n",
    "Implement the `@staticmethod` : `pauli_string_based_measurement(PauliString)` in the `Evaluator` class in file `Evaluator.py` that returns a `QuantumCircuit` that measures each qubit in the basis given by the `PauliString`.\n",
    "\n",
    "First we import the abstract class `Evaluator` and the `PauliString` class."
   ]
  },
  {
   "cell_type": "code",
   "execution_count": 17,
   "metadata": {},
   "outputs": [],
   "source": [
    "from evaluator import Evaluator\n",
    "from pauli_string import PauliString"
   ]
  },
  {
   "cell_type": "markdown",
   "metadata": {},
   "source": [
    "Test your code with the next cell."
   ]
  },
  {
   "cell_type": "code",
   "execution_count": 22,
   "metadata": {},
   "outputs": [
    {
     "output_type": "stream",
     "name": "stdout",
     "text": [
      "The autoreload extension is already loaded. To reload it, use:\n  %reload_ext autoreload\n"
     ]
    },
    {
     "output_type": "execute_result",
     "data": {
      "text/plain": [
       "<Figure size 327.397x325.08 with 1 Axes>"
      ],
      "image/svg+xml": "<?xml version=\"1.0\" encoding=\"utf-8\" standalone=\"no\"?>\n<!DOCTYPE svg PUBLIC \"-//W3C//DTD SVG 1.1//EN\"\n  \"http://www.w3.org/Graphics/SVG/1.1/DTD/svg11.dtd\">\n<!-- Created with matplotlib (https://matplotlib.org/) -->\n<svg height=\"259.8354pt\" version=\"1.1\" viewBox=\"0 0 261.585036 259.8354\" width=\"261.585036pt\" xmlns=\"http://www.w3.org/2000/svg\" xmlns:xlink=\"http://www.w3.org/1999/xlink\">\n <metadata>\n  <rdf:RDF xmlns:cc=\"http://creativecommons.org/ns#\" xmlns:dc=\"http://purl.org/dc/elements/1.1/\" xmlns:rdf=\"http://www.w3.org/1999/02/22-rdf-syntax-ns#\">\n   <cc:Work>\n    <dc:type rdf:resource=\"http://purl.org/dc/dcmitype/StillImage\"/>\n    <dc:date>2021-02-01T16:55:45.591153</dc:date>\n    <dc:format>image/svg+xml</dc:format>\n    <dc:creator>\n     <cc:Agent>\n      <dc:title>Matplotlib v3.3.3, https://matplotlib.org/</dc:title>\n     </cc:Agent>\n    </dc:creator>\n   </cc:Work>\n  </rdf:RDF>\n </metadata>\n <defs>\n  <style type=\"text/css\">*{stroke-linecap:butt;stroke-linejoin:round;}</style>\n </defs>\n <g id=\"figure_1\">\n  <g id=\"patch_1\">\n   <path d=\"M 0 259.8354 \nL 261.585036 259.8354 \nL 261.585036 0 \nL 0 0 \nz\n\" style=\"fill:#ffffff;\"/>\n  </g>\n  <g id=\"axes_1\">\n   <g id=\"patch_2\">\n    <path clip-path=\"url(#p19bc778892)\" d=\"M 82.125746 215.024698 \nL 93.943006 215.024698 \nL 88.034376 223.54676 \nz\n\" style=\"fill:#778899;\"/>\n   </g>\n   <g id=\"patch_3\">\n    <path clip-path=\"url(#p19bc778892)\" d=\"M 127.576746 215.024698 \nL 139.394006 215.024698 \nL 133.485376 223.54676 \nz\n\" style=\"fill:#778899;\"/>\n   </g>\n   <g id=\"patch_4\">\n    <path clip-path=\"url(#p19bc778892)\" d=\"M 173.027746 215.024698 \nL 184.845006 215.024698 \nL 178.936376 223.54676 \nz\n\" style=\"fill:#778899;\"/>\n   </g>\n   <g id=\"patch_5\">\n    <path clip-path=\"url(#p19bc778892)\" d=\"M 218.478746 215.024698 \nL 230.296006 215.024698 \nL 224.387376 223.54676 \nz\n\" style=\"fill:#778899;\"/>\n   </g>\n   <g id=\"line2d_1\">\n    <path clip-path=\"url(#p19bc778892)\" d=\"M 63.490836 43.5608 \nL 249.839936 43.5608 \n\" style=\"fill:none;stroke:#000000;stroke-linecap:square;stroke-width:2;\"/>\n   </g>\n   <g id=\"line2d_2\">\n    <path clip-path=\"url(#p19bc778892)\" d=\"M 63.490836 89.0118 \nL 249.839936 89.0118 \n\" style=\"fill:none;stroke:#000000;stroke-linecap:square;stroke-width:2;\"/>\n   </g>\n   <g id=\"line2d_3\">\n    <path clip-path=\"url(#p19bc778892)\" d=\"M 63.490836 134.4628 \nL 249.839936 134.4628 \n\" style=\"fill:none;stroke:#000000;stroke-linecap:square;stroke-width:2;\"/>\n   </g>\n   <g id=\"line2d_4\">\n    <path clip-path=\"url(#p19bc778892)\" d=\"M 63.490836 179.9138 \nL 249.839936 179.9138 \n\" style=\"fill:none;stroke:#000000;stroke-linecap:square;stroke-width:2;\"/>\n   </g>\n   <g id=\"line2d_5\">\n    <path clip-path=\"url(#p19bc778892)\" d=\"M 63.490836 223.887643 \nL 249.839936 223.887643 \n\" style=\"fill:none;stroke:#778899;stroke-linecap:square;stroke-width:2;\"/>\n   </g>\n   <g id=\"line2d_6\">\n    <path clip-path=\"url(#p19bc778892)\" d=\"M 63.490836 226.841958 \nL 249.839936 226.841958 \n\" style=\"fill:none;stroke:#778899;stroke-linecap:square;stroke-width:2;\"/>\n   </g>\n   <g id=\"line2d_7\">\n    <path clip-path=\"url(#p19bc778892)\" d=\"M 89.511534 134.4628 \nL 89.511534 215.024698 \n\" style=\"fill:none;stroke:#778899;stroke-linecap:square;stroke-width:2;\"/>\n   </g>\n   <g id=\"line2d_8\">\n    <path clip-path=\"url(#p19bc778892)\" d=\"M 86.557219 134.4628 \nL 86.557219 215.024698 \n\" style=\"fill:none;stroke:#778899;stroke-linecap:square;stroke-width:2;\"/>\n   </g>\n   <g id=\"line2d_9\">\n    <path clip-path=\"url(#p19bc778892)\" d=\"M 134.962534 179.9138 \nL 134.962534 215.024698 \n\" style=\"fill:none;stroke:#778899;stroke-linecap:square;stroke-width:2;\"/>\n   </g>\n   <g id=\"line2d_10\">\n    <path clip-path=\"url(#p19bc778892)\" d=\"M 132.008219 179.9138 \nL 132.008219 215.024698 \n\" style=\"fill:none;stroke:#778899;stroke-linecap:square;stroke-width:2;\"/>\n   </g>\n   <g id=\"line2d_11\">\n    <path clip-path=\"url(#p19bc778892)\" d=\"M 180.413534 89.0118 \nL 180.413534 215.024698 \n\" style=\"fill:none;stroke:#778899;stroke-linecap:square;stroke-width:2;\"/>\n   </g>\n   <g id=\"line2d_12\">\n    <path clip-path=\"url(#p19bc778892)\" d=\"M 177.459219 89.0118 \nL 177.459219 215.024698 \n\" style=\"fill:none;stroke:#778899;stroke-linecap:square;stroke-width:2;\"/>\n   </g>\n   <g id=\"line2d_13\">\n    <path clip-path=\"url(#p19bc778892)\" d=\"M 225.864534 43.5608 \nL 225.864534 215.024698 \n\" style=\"fill:none;stroke:#778899;stroke-linecap:square;stroke-width:2;\"/>\n   </g>\n   <g id=\"line2d_14\">\n    <path clip-path=\"url(#p19bc778892)\" d=\"M 222.910219 43.5608 \nL 222.910219 215.024698 \n\" style=\"fill:none;stroke:#778899;stroke-linecap:square;stroke-width:2;\"/>\n   </g>\n   <g id=\"line2d_15\">\n    <path clip-path=\"url(#p19bc778892)\" d=\"M 72.581036 229.9099 \nL 77.126136 220.8197 \n\" style=\"fill:none;stroke:#778899;stroke-linecap:square;stroke-width:1.5;\"/>\n   </g>\n   <g id=\"patch_6\">\n    <path clip-path=\"url(#p19bc778892)\" d=\"M 73.262801 58.332375 \nL 102.805951 58.332375 \nL 102.805951 28.789225 \nL 73.262801 28.789225 \nz\n\" style=\"fill:#6fa4ff;stroke:#6fa4ff;stroke-linejoin:miter;stroke-width:1.5;\"/>\n   </g>\n   <g id=\"patch_7\">\n    <path clip-path=\"url(#p19bc778892)\" d=\"M 73.262801 103.783375 \nL 102.805951 103.783375 \nL 102.805951 74.240225 \nL 73.262801 74.240225 \nz\n\" style=\"fill:#6fa4ff;stroke:#6fa4ff;stroke-linejoin:miter;stroke-width:1.5;\"/>\n   </g>\n   <g id=\"patch_8\">\n    <path clip-path=\"url(#p19bc778892)\" d=\"M 73.262801 149.234375 \nL 102.805951 149.234375 \nL 102.805951 119.691225 \nL 73.262801 119.691225 \nz\n\" style=\"stroke:#000000;stroke-linejoin:miter;stroke-width:1.5;\"/>\n   </g>\n   <g id=\"patch_9\">\n    <path clip-path=\"url(#p19bc778892)\" d=\"M 98.374479 138.894273 \nC 98.374479 136.152959 97.284335 133.521118 95.345933 131.582716 \nC 93.407531 129.644314 90.77569 128.55417 88.034376 128.55417 \nC 85.293062 128.55417 82.661221 129.644314 80.72282 131.582716 \nC 78.784418 133.521118 77.694274 136.152959 77.694274 138.894273 \n\" style=\"fill:none;stroke:#ffffff;stroke-linejoin:miter;stroke-width:2;\"/>\n   </g>\n   <g id=\"patch_10\">\n    <path clip-path=\"url(#p19bc778892)\" d=\"M 118.713801 194.685375 \nL 148.256951 194.685375 \nL 148.256951 165.142225 \nL 118.713801 165.142225 \nz\n\" style=\"stroke:#000000;stroke-linejoin:miter;stroke-width:1.5;\"/>\n   </g>\n   <g id=\"patch_11\">\n    <path clip-path=\"url(#p19bc778892)\" d=\"M 143.825479 184.345273 \nC 143.825479 181.603959 142.735335 178.972118 140.796933 177.033716 \nC 138.858531 175.095314 136.22669 174.00517 133.485376 174.00517 \nC 130.744062 174.00517 128.112221 175.095314 126.17382 177.033716 \nC 124.235418 178.972118 123.145274 181.603959 123.145274 184.345273 \n\" style=\"fill:none;stroke:#ffffff;stroke-linejoin:miter;stroke-width:2;\"/>\n   </g>\n   <g id=\"patch_12\">\n    <path clip-path=\"url(#p19bc778892)\" d=\"M 118.713801 58.332375 \nL 148.256951 58.332375 \nL 148.256951 28.789225 \nL 118.713801 28.789225 \nz\n\" style=\"fill:#6fa4ff;stroke:#6fa4ff;stroke-linejoin:miter;stroke-width:1.5;\"/>\n   </g>\n   <g id=\"patch_13\">\n    <path clip-path=\"url(#p19bc778892)\" d=\"M 164.164801 103.783375 \nL 193.707951 103.783375 \nL 193.707951 74.240225 \nL 164.164801 74.240225 \nz\n\" style=\"stroke:#000000;stroke-linejoin:miter;stroke-width:1.5;\"/>\n   </g>\n   <g id=\"patch_14\">\n    <path clip-path=\"url(#p19bc778892)\" d=\"M 189.276479 93.443273 \nC 189.276479 90.701959 188.186335 88.070118 186.247933 86.131716 \nC 184.309531 84.193314 181.67769 83.10317 178.936376 83.10317 \nC 176.195062 83.10317 173.563221 84.193314 171.62482 86.131716 \nC 169.686418 88.070118 168.596274 90.701959 168.596274 93.443273 \n\" style=\"fill:none;stroke:#ffffff;stroke-linejoin:miter;stroke-width:2;\"/>\n   </g>\n   <g id=\"patch_15\">\n    <path clip-path=\"url(#p19bc778892)\" d=\"M 209.615801 58.332375 \nL 239.158951 58.332375 \nL 239.158951 28.789225 \nL 209.615801 28.789225 \nz\n\" style=\"stroke:#000000;stroke-linejoin:miter;stroke-width:1.5;\"/>\n   </g>\n   <g id=\"patch_16\">\n    <path clip-path=\"url(#p19bc778892)\" d=\"M 234.727479 47.992273 \nC 234.727479 45.250959 233.637335 42.619118 231.698933 40.680716 \nC 229.760531 38.742314 227.12869 37.65217 224.387376 37.65217 \nC 221.646062 37.65217 219.014221 38.742314 217.07582 40.680716 \nC 215.137418 42.619118 214.047274 45.250959 214.047274 47.992273 \n\" style=\"fill:none;stroke:#ffffff;stroke-linejoin:miter;stroke-width:2;\"/>\n   </g>\n   <g id=\"line2d_16\">\n    <path clip-path=\"url(#p19bc778892)\" d=\"M 88.034376 138.894273 \nL 98.374479 128.55417 \n\" style=\"fill:none;stroke:#ffffff;stroke-linecap:square;stroke-width:2;\"/>\n   </g>\n   <g id=\"line2d_17\">\n    <path clip-path=\"url(#p19bc778892)\" d=\"M 133.485376 184.345273 \nL 143.825479 174.00517 \n\" style=\"fill:none;stroke:#ffffff;stroke-linecap:square;stroke-width:2;\"/>\n   </g>\n   <g id=\"line2d_18\">\n    <path clip-path=\"url(#p19bc778892)\" d=\"M 178.936376 93.443273 \nL 189.276479 83.10317 \n\" style=\"fill:none;stroke:#ffffff;stroke-linecap:square;stroke-width:2;\"/>\n   </g>\n   <g id=\"line2d_19\">\n    <path clip-path=\"url(#p19bc778892)\" d=\"M 224.387376 47.992272 \nL 234.727479 37.65217 \n\" style=\"fill:none;stroke:#ffffff;stroke-linecap:square;stroke-width:2;\"/>\n   </g>\n   <g id=\"text_1\">\n    <g clip-path=\"url(#p19bc778892)\">\n     <!-- $\\mathrm{S}^\\dagger$ -->\n     <g transform=\"translate(79.584376 47.147987)scale(0.13 -0.13)\">\n      <defs>\n       <path d=\"M 53.515625 70.515625 \nL 53.515625 60.890625 \nQ 47.90625 63.578125 42.921875 64.890625 \nQ 37.9375 66.21875 33.296875 66.21875 \nQ 25.25 66.21875 20.875 63.09375 \nQ 16.5 59.96875 16.5 54.203125 \nQ 16.5 49.359375 19.40625 46.890625 \nQ 22.3125 44.4375 30.421875 42.921875 \nL 36.375 41.703125 \nQ 47.40625 39.59375 52.65625 34.296875 \nQ 57.90625 29 57.90625 20.125 \nQ 57.90625 9.515625 50.796875 4.046875 \nQ 43.703125 -1.421875 29.984375 -1.421875 \nQ 24.8125 -1.421875 18.96875 -0.25 \nQ 13.140625 0.921875 6.890625 3.21875 \nL 6.890625 13.375 \nQ 12.890625 10.015625 18.65625 8.296875 \nQ 24.421875 6.59375 29.984375 6.59375 \nQ 38.421875 6.59375 43.015625 9.90625 \nQ 47.609375 13.234375 47.609375 19.390625 \nQ 47.609375 24.75 44.3125 27.78125 \nQ 41.015625 30.8125 33.5 32.328125 \nL 27.484375 33.5 \nQ 16.453125 35.6875 11.515625 40.375 \nQ 6.59375 45.0625 6.59375 53.421875 \nQ 6.59375 63.09375 13.40625 68.65625 \nQ 20.21875 74.21875 32.171875 74.21875 \nQ 37.3125 74.21875 42.625 73.28125 \nQ 47.953125 72.359375 53.515625 70.515625 \nz\n\" id=\"DejaVuSans-83\"/>\n       <path d=\"M 20.703125 72.90625 \nL 29.296875 72.90625 \nL 29.296875 52.390625 \nL 47.21875 52.390625 \nL 47.21875 44.921875 \nL 29.296875 44.921875 \nL 29.296875 -9.625 \nL 20.703125 -9.625 \nL 20.703125 44.921875 \nL 2.78125 44.921875 \nL 2.78125 52.390625 \nL 20.703125 52.390625 \nz\n\" id=\"DejaVuSans-8224\"/>\n      </defs>\n      <use transform=\"translate(0 0.684375)\" xlink:href=\"#DejaVuSans-83\"/>\n      <use transform=\"translate(78.071289 38.965625)scale(0.7)\" xlink:href=\"#DejaVuSans-8224\"/>\n     </g>\n    </g>\n   </g>\n   <g id=\"text_2\">\n    <g clip-path=\"url(#p19bc778892)\">\n     <!-- H -->\n     <g transform=\"translate(83.146173 92.598987)scale(0.13 -0.13)\">\n      <defs>\n       <path d=\"M 9.8125 72.90625 \nL 19.671875 72.90625 \nL 19.671875 43.015625 \nL 55.515625 43.015625 \nL 55.515625 72.90625 \nL 65.375 72.90625 \nL 65.375 0 \nL 55.515625 0 \nL 55.515625 34.71875 \nL 19.671875 34.71875 \nL 19.671875 0 \nL 9.8125 0 \nz\n\" id=\"DejaVuSans-72\"/>\n      </defs>\n      <use xlink:href=\"#DejaVuSans-72\"/>\n     </g>\n    </g>\n   </g>\n   <g id=\"text_3\">\n    <g clip-path=\"url(#p19bc778892)\">\n     <!-- 2 -->\n     <g transform=\"translate(99.397126 218.656825)scale(0.104 -0.104)\">\n      <defs>\n       <path d=\"M 19.1875 8.296875 \nL 53.609375 8.296875 \nL 53.609375 0 \nL 7.328125 0 \nL 7.328125 8.296875 \nQ 12.9375 14.109375 22.625 23.890625 \nQ 32.328125 33.6875 34.8125 36.53125 \nQ 39.546875 41.84375 41.421875 45.53125 \nQ 43.3125 49.21875 43.3125 52.78125 \nQ 43.3125 58.59375 39.234375 62.25 \nQ 35.15625 65.921875 28.609375 65.921875 \nQ 23.96875 65.921875 18.8125 64.3125 \nQ 13.671875 62.703125 7.8125 59.421875 \nL 7.8125 69.390625 \nQ 13.765625 71.78125 18.9375 73 \nQ 24.125 74.21875 28.421875 74.21875 \nQ 39.75 74.21875 46.484375 68.546875 \nQ 53.21875 62.890625 53.21875 53.421875 \nQ 53.21875 48.921875 51.53125 44.890625 \nQ 49.859375 40.875 45.40625 35.40625 \nQ 44.1875 33.984375 37.640625 27.21875 \nQ 31.109375 20.453125 19.1875 8.296875 \nz\n\" id=\"DejaVuSans-50\"/>\n      </defs>\n      <use xlink:href=\"#DejaVuSans-50\"/>\n     </g>\n    </g>\n   </g>\n   <g id=\"text_4\">\n    <g clip-path=\"url(#p19bc778892)\">\n     <!-- 3 -->\n     <g transform=\"translate(144.848126 218.656825)scale(0.104 -0.104)\">\n      <defs>\n       <path d=\"M 40.578125 39.3125 \nQ 47.65625 37.796875 51.625 33 \nQ 55.609375 28.21875 55.609375 21.1875 \nQ 55.609375 10.40625 48.1875 4.484375 \nQ 40.765625 -1.421875 27.09375 -1.421875 \nQ 22.515625 -1.421875 17.65625 -0.515625 \nQ 12.796875 0.390625 7.625 2.203125 \nL 7.625 11.71875 \nQ 11.71875 9.328125 16.59375 8.109375 \nQ 21.484375 6.890625 26.8125 6.890625 \nQ 36.078125 6.890625 40.9375 10.546875 \nQ 45.796875 14.203125 45.796875 21.1875 \nQ 45.796875 27.640625 41.28125 31.265625 \nQ 36.765625 34.90625 28.71875 34.90625 \nL 20.21875 34.90625 \nL 20.21875 43.015625 \nL 29.109375 43.015625 \nQ 36.375 43.015625 40.234375 45.921875 \nQ 44.09375 48.828125 44.09375 54.296875 \nQ 44.09375 59.90625 40.109375 62.90625 \nQ 36.140625 65.921875 28.71875 65.921875 \nQ 24.65625 65.921875 20.015625 65.03125 \nQ 15.375 64.15625 9.8125 62.3125 \nL 9.8125 71.09375 \nQ 15.4375 72.65625 20.34375 73.4375 \nQ 25.25 74.21875 29.59375 74.21875 \nQ 40.828125 74.21875 47.359375 69.109375 \nQ 53.90625 64.015625 53.90625 55.328125 \nQ 53.90625 49.265625 50.4375 45.09375 \nQ 46.96875 40.921875 40.578125 39.3125 \nz\n\" id=\"DejaVuSans-51\"/>\n      </defs>\n      <use xlink:href=\"#DejaVuSans-51\"/>\n     </g>\n    </g>\n   </g>\n   <g id=\"text_5\">\n    <g clip-path=\"url(#p19bc778892)\">\n     <!-- H -->\n     <g transform=\"translate(128.597173 47.147987)scale(0.13 -0.13)\">\n      <use xlink:href=\"#DejaVuSans-72\"/>\n     </g>\n    </g>\n   </g>\n   <g id=\"text_6\">\n    <g clip-path=\"url(#p19bc778892)\">\n     <!-- 1 -->\n     <g transform=\"translate(190.299126 218.656825)scale(0.104 -0.104)\">\n      <defs>\n       <path d=\"M 12.40625 8.296875 \nL 28.515625 8.296875 \nL 28.515625 63.921875 \nL 10.984375 60.40625 \nL 10.984375 69.390625 \nL 28.421875 72.90625 \nL 38.28125 72.90625 \nL 38.28125 8.296875 \nL 54.390625 8.296875 \nL 54.390625 0 \nL 12.40625 0 \nz\n\" id=\"DejaVuSans-49\"/>\n      </defs>\n      <use xlink:href=\"#DejaVuSans-49\"/>\n     </g>\n    </g>\n   </g>\n   <g id=\"text_7\">\n    <g clip-path=\"url(#p19bc778892)\">\n     <!-- 0 -->\n     <g transform=\"translate(235.750126 218.656825)scale(0.104 -0.104)\">\n      <defs>\n       <path d=\"M 31.78125 66.40625 \nQ 24.171875 66.40625 20.328125 58.90625 \nQ 16.5 51.421875 16.5 36.375 \nQ 16.5 21.390625 20.328125 13.890625 \nQ 24.171875 6.390625 31.78125 6.390625 \nQ 39.453125 6.390625 43.28125 13.890625 \nQ 47.125 21.390625 47.125 36.375 \nQ 47.125 51.421875 43.28125 58.90625 \nQ 39.453125 66.40625 31.78125 66.40625 \nz\nM 31.78125 74.21875 \nQ 44.046875 74.21875 50.515625 64.515625 \nQ 56.984375 54.828125 56.984375 36.375 \nQ 56.984375 17.96875 50.515625 8.265625 \nQ 44.046875 -1.421875 31.78125 -1.421875 \nQ 19.53125 -1.421875 13.0625 8.265625 \nQ 6.59375 17.96875 6.59375 36.375 \nQ 6.59375 54.828125 13.0625 64.515625 \nQ 19.53125 74.21875 31.78125 74.21875 \nz\n\" id=\"DejaVuSans-48\"/>\n      </defs>\n      <use xlink:href=\"#DejaVuSans-48\"/>\n     </g>\n    </g>\n   </g>\n   <g id=\"text_8\">\n    <g clip-path=\"url(#p19bc778892)\">\n     <!-- ${q}_{0}$ -->\n     <g transform=\"translate(36.363136 48.011777)scale(0.1625 -0.1625)\">\n      <defs>\n       <path d=\"M 41.703125 8.203125 \nQ 38.09375 3.46875 33.171875 1.015625 \nQ 28.265625 -1.421875 22.3125 -1.421875 \nQ 14.015625 -1.421875 9.296875 4.171875 \nQ 4.59375 9.765625 4.59375 19.578125 \nQ 4.59375 27.484375 7.5 34.859375 \nQ 10.40625 42.234375 15.828125 48.09375 \nQ 19.34375 51.90625 23.90625 53.953125 \nQ 28.46875 56 33.5 56 \nQ 39.546875 56 43.453125 53.609375 \nQ 47.359375 51.21875 49.125 46.390625 \nL 50.6875 54.59375 \nL 59.71875 54.59375 \nL 45.125 -20.609375 \nL 36.078125 -20.609375 \nz\nM 13.921875 20.90625 \nQ 13.921875 13.671875 16.9375 9.890625 \nQ 19.96875 6.109375 25.6875 6.109375 \nQ 34.1875 6.109375 40.1875 14.234375 \nQ 46.1875 22.359375 46.1875 33.984375 \nQ 46.1875 41.015625 43.078125 44.75 \nQ 39.984375 48.484375 34.1875 48.484375 \nQ 29.9375 48.484375 26.3125 46.5 \nQ 22.703125 44.53125 20.015625 40.71875 \nQ 17.1875 36.71875 15.546875 31.34375 \nQ 13.921875 25.984375 13.921875 20.90625 \nz\n\" id=\"DejaVuSans-Oblique-113\"/>\n      </defs>\n      <use xlink:href=\"#DejaVuSans-Oblique-113\"/>\n      <use transform=\"translate(63.476562 -16.40625)scale(0.7)\" xlink:href=\"#DejaVuSans-48\"/>\n     </g>\n    </g>\n   </g>\n   <g id=\"text_9\">\n    <g clip-path=\"url(#p19bc778892)\">\n     <!-- ${q}_{1}$ -->\n     <g transform=\"translate(36.363136 93.462777)scale(0.1625 -0.1625)\">\n      <use xlink:href=\"#DejaVuSans-Oblique-113\"/>\n      <use transform=\"translate(63.476562 -16.40625)scale(0.7)\" xlink:href=\"#DejaVuSans-49\"/>\n     </g>\n    </g>\n   </g>\n   <g id=\"text_10\">\n    <g clip-path=\"url(#p19bc778892)\">\n     <!-- ${q}_{2}$ -->\n     <g transform=\"translate(36.363136 138.913777)scale(0.1625 -0.1625)\">\n      <use xlink:href=\"#DejaVuSans-Oblique-113\"/>\n      <use transform=\"translate(63.476562 -16.40625)scale(0.7)\" xlink:href=\"#DejaVuSans-50\"/>\n     </g>\n    </g>\n   </g>\n   <g id=\"text_11\">\n    <g clip-path=\"url(#p19bc778892)\">\n     <!-- ${q}_{3}$ -->\n     <g transform=\"translate(36.363136 184.364777)scale(0.1625 -0.1625)\">\n      <use xlink:href=\"#DejaVuSans-Oblique-113\"/>\n      <use transform=\"translate(63.476562 -16.40625)scale(0.7)\" xlink:href=\"#DejaVuSans-51\"/>\n     </g>\n    </g>\n   </g>\n   <g id=\"text_12\">\n    <g clip-path=\"url(#p19bc778892)\">\n     <!-- 4 -->\n     <g transform=\"translate(68.035936 218.656825)scale(0.104 -0.104)\">\n      <defs>\n       <path d=\"M 37.796875 64.3125 \nL 12.890625 25.390625 \nL 37.796875 25.390625 \nz\nM 35.203125 72.90625 \nL 47.609375 72.90625 \nL 47.609375 25.390625 \nL 58.015625 25.390625 \nL 58.015625 17.1875 \nL 47.609375 17.1875 \nL 47.609375 0 \nL 37.796875 0 \nL 37.796875 17.1875 \nL 4.890625 17.1875 \nL 4.890625 26.703125 \nz\n\" id=\"DejaVuSans-52\"/>\n      </defs>\n      <use xlink:href=\"#DejaVuSans-52\"/>\n     </g>\n    </g>\n   </g>\n   <g id=\"text_13\">\n    <g clip-path=\"url(#p19bc778892)\">\n     <!-- c -->\n     <g transform=\"translate(45.465675 229.848784)scale(0.1625 -0.1625)\">\n      <defs>\n       <path d=\"M 48.78125 52.59375 \nL 48.78125 44.1875 \nQ 44.96875 46.296875 41.140625 47.34375 \nQ 37.3125 48.390625 33.40625 48.390625 \nQ 24.65625 48.390625 19.8125 42.84375 \nQ 14.984375 37.3125 14.984375 27.296875 \nQ 14.984375 17.28125 19.8125 11.734375 \nQ 24.65625 6.203125 33.40625 6.203125 \nQ 37.3125 6.203125 41.140625 7.25 \nQ 44.96875 8.296875 48.78125 10.40625 \nL 48.78125 2.09375 \nQ 45.015625 0.34375 40.984375 -0.53125 \nQ 36.96875 -1.421875 32.421875 -1.421875 \nQ 20.0625 -1.421875 12.78125 6.34375 \nQ 5.515625 14.109375 5.515625 27.296875 \nQ 5.515625 40.671875 12.859375 48.328125 \nQ 20.21875 56 33.015625 56 \nQ 37.15625 56 41.109375 55.140625 \nQ 45.0625 54.296875 48.78125 52.59375 \nz\n\" id=\"DejaVuSans-99\"/>\n      </defs>\n      <use xlink:href=\"#DejaVuSans-99\"/>\n     </g>\n    </g>\n   </g>\n  </g>\n </g>\n <defs>\n  <clipPath id=\"p19bc778892\">\n   <rect height=\"245.4354\" width=\"247.185036\" x=\"7.2\" y=\"7.2\"/>\n  </clipPath>\n </defs>\n</svg>\n",
      "image/png": "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\n"
     },
     "metadata": {},
     "execution_count": 22
    }
   ],
   "source": [
    "%load_ext autoreload\n",
    "%autoreload 0\n",
    "%autoreload\n",
    "pauli_string = PauliString.from_str('ZIXY')\n",
    "measure_qc = Evaluator.pauli_string_based_measurement(pauli_string)\n",
    "measure_qc.draw('mpl')"
   ]
  },
  {
   "cell_type": "markdown",
   "metadata": {},
   "source": [
    "### Measurable eigenvalues\n",
    "\n",
    "Implement the `@staticmethod` : `measurable_eigenvalues(PauliString)` in the `Evaluator` class in file `Evaluator.py` that returns a `np.array` that contains the eigenvalues of the measurable `PauliString` for each basis state. We noted this vector\n",
    "\n",
    "\\begin{align}\n",
    "    \\Lambda_q^{\\hat{(\\mathcal{P})}}.\n",
    "\\end{align}\n",
    "\n",
    "Be mindful of the order of the basis state.\n",
    "\n",
    "\\begin{align}\n",
    "    0000, 0001, 0010, \\ldots, 1110, 1111 \n",
    "\\end{align}\n",
    "\n",
    "You can test your implementation on the `ZIXY` Pauli string."
   ]
  },
  {
   "cell_type": "code",
   "execution_count": 32,
   "metadata": {},
   "outputs": [
    {
     "output_type": "stream",
     "name": "stdout",
     "text": [
      "[ 1 -1 -1  1  1 -1 -1  1 -1  1  1 -1 -1  1  1 -1]\n"
     ]
    }
   ],
   "source": [
    "%autoreload\n",
    "pauli_string = PauliString.from_str('ZIYZ')\n",
    "measurable_eigenvalues = Evaluator.measurable_eigenvalues(pauli_string)\n",
    "print(measurable_eigenvalues)\n",
    "   \n"
   ]
  },
  {
   "cell_type": "markdown",
   "metadata": {},
   "source": [
    "For the `PauliString` `'ZIXY'` (measurable `'ZIZZ'`) you should get the following eigenvalues :\n",
    "\n",
    "<code>\n",
    "[ 1 -1 -1  1  1 -1 -1  1 -1  1  1 -1 -1  1  1 -1]\n",
    "</code>"
   ]
  },
  {
   "cell_type": "markdown",
   "metadata": {},
   "source": [
    "### Measurement Circuits and Interpreters\n",
    "The `prepare_measurement_circuits_and_interpreters(LCPS)` is specific to the sub-type of `Evaluator`. The two different types of `Evaluator`s considered in this workshop are :\n",
    "- The `BasicEvaluator` will run a single `QuantumCircuit` for each `PauliString` present in the provided `LCPS`.\n",
    "- The `BitwiseCommutingCliqueEvaluator` will exploit Bitwise Commuting Clique to combine the evaluation of Commuting `PauliStrin`s and reduce the number of different `QuantumCircuit` run for each evaluation. \n",
    "\n",
    "Implement the `prepare_measurement_circuits_and_interpreters(LCPS)` method in the `BasicEvaluator` class in file `Evaluator.py`. This method should return 2 `list`. The first should contain one measurement `QuantumCircuit` for each `PauliString` in the `LCPS`. The second list should contain one `np.array` of the eigenvalues of the measurable `PauliString` for each basis state.\n",
    "\n",
    "**Note** You can try to implement similar methods for the `BitwiseCommutingCliqueEvaluator`.\n",
    "\n",
    "You can test your method on `2 ZIXY + 1 IXYZ`."
   ]
  },
  {
   "cell_type": "code",
   "execution_count": 33,
   "metadata": {},
   "outputs": [],
   "source": [
    "from evaluator import BasicEvaluator"
   ]
  },
  {
   "cell_type": "code",
   "execution_count": 34,
   "metadata": {},
   "outputs": [],
   "source": [
    "%autoreload\n",
    "lcps = 2*PauliString.from_str('ZIXY') + 1*PauliString.from_str('IXYZ')\n",
    "measurement_circuits, interpreters = BasicEvaluator.prepare_measurement_circuits_and_interpreters(lcps)\n"
   ]
  },
  {
   "cell_type": "markdown",
   "metadata": {},
   "source": [
    "You can visualize the interpreter and the measurement circuit for each term in the `LCPS` by using `i = 0` and `i = 1`."
   ]
  },
  {
   "cell_type": "code",
   "execution_count": 38,
   "metadata": {},
   "outputs": [
    {
     "output_type": "stream",
     "name": "stdout",
     "text": [
      "[ 2.+0.j -2.+0.j -2.+0.j  2.+0.j  2.+0.j -2.+0.j -2.+0.j  2.+0.j -2.+0.j\n  2.+0.j  2.+0.j -2.+0.j -2.+0.j  2.+0.j  2.+0.j -2.+0.j]\n"
     ]
    },
    {
     "output_type": "execute_result",
     "data": {
      "text/plain": [
       "<Figure size 327.397x325.08 with 1 Axes>"
      ],
      "image/svg+xml": "<?xml version=\"1.0\" encoding=\"utf-8\" standalone=\"no\"?>\n<!DOCTYPE svg PUBLIC \"-//W3C//DTD SVG 1.1//EN\"\n  \"http://www.w3.org/Graphics/SVG/1.1/DTD/svg11.dtd\">\n<!-- Created with matplotlib (https://matplotlib.org/) -->\n<svg height=\"259.8354pt\" version=\"1.1\" viewBox=\"0 0 261.585036 259.8354\" width=\"261.585036pt\" xmlns=\"http://www.w3.org/2000/svg\" xmlns:xlink=\"http://www.w3.org/1999/xlink\">\n <metadata>\n  <rdf:RDF xmlns:cc=\"http://creativecommons.org/ns#\" xmlns:dc=\"http://purl.org/dc/elements/1.1/\" xmlns:rdf=\"http://www.w3.org/1999/02/22-rdf-syntax-ns#\">\n   <cc:Work>\n    <dc:type rdf:resource=\"http://purl.org/dc/dcmitype/StillImage\"/>\n    <dc:date>2021-02-01T17:13:09.877760</dc:date>\n    <dc:format>image/svg+xml</dc:format>\n    <dc:creator>\n     <cc:Agent>\n      <dc:title>Matplotlib v3.3.3, https://matplotlib.org/</dc:title>\n     </cc:Agent>\n    </dc:creator>\n   </cc:Work>\n  </rdf:RDF>\n </metadata>\n <defs>\n  <style type=\"text/css\">*{stroke-linecap:butt;stroke-linejoin:round;}</style>\n </defs>\n <g id=\"figure_1\">\n  <g id=\"patch_1\">\n   <path d=\"M 0 259.8354 \nL 261.585036 259.8354 \nL 261.585036 0 \nL 0 0 \nz\n\" style=\"fill:#ffffff;\"/>\n  </g>\n  <g id=\"axes_1\">\n   <g id=\"patch_2\">\n    <path clip-path=\"url(#p7cf00b324c)\" d=\"M 82.125746 215.024698 \nL 93.943006 215.024698 \nL 88.034376 223.54676 \nz\n\" style=\"fill:#778899;\"/>\n   </g>\n   <g id=\"patch_3\">\n    <path clip-path=\"url(#p7cf00b324c)\" d=\"M 127.576746 215.024698 \nL 139.394006 215.024698 \nL 133.485376 223.54676 \nz\n\" style=\"fill:#778899;\"/>\n   </g>\n   <g id=\"patch_4\">\n    <path clip-path=\"url(#p7cf00b324c)\" d=\"M 173.027746 215.024698 \nL 184.845006 215.024698 \nL 178.936376 223.54676 \nz\n\" style=\"fill:#778899;\"/>\n   </g>\n   <g id=\"patch_5\">\n    <path clip-path=\"url(#p7cf00b324c)\" d=\"M 218.478746 215.024698 \nL 230.296006 215.024698 \nL 224.387376 223.54676 \nz\n\" style=\"fill:#778899;\"/>\n   </g>\n   <g id=\"line2d_1\">\n    <path clip-path=\"url(#p7cf00b324c)\" d=\"M 63.490836 43.5608 \nL 249.839936 43.5608 \n\" style=\"fill:none;stroke:#000000;stroke-linecap:square;stroke-width:2;\"/>\n   </g>\n   <g id=\"line2d_2\">\n    <path clip-path=\"url(#p7cf00b324c)\" d=\"M 63.490836 89.0118 \nL 249.839936 89.0118 \n\" style=\"fill:none;stroke:#000000;stroke-linecap:square;stroke-width:2;\"/>\n   </g>\n   <g id=\"line2d_3\">\n    <path clip-path=\"url(#p7cf00b324c)\" d=\"M 63.490836 134.4628 \nL 249.839936 134.4628 \n\" style=\"fill:none;stroke:#000000;stroke-linecap:square;stroke-width:2;\"/>\n   </g>\n   <g id=\"line2d_4\">\n    <path clip-path=\"url(#p7cf00b324c)\" d=\"M 63.490836 179.9138 \nL 249.839936 179.9138 \n\" style=\"fill:none;stroke:#000000;stroke-linecap:square;stroke-width:2;\"/>\n   </g>\n   <g id=\"line2d_5\">\n    <path clip-path=\"url(#p7cf00b324c)\" d=\"M 63.490836 223.887643 \nL 249.839936 223.887643 \n\" style=\"fill:none;stroke:#778899;stroke-linecap:square;stroke-width:2;\"/>\n   </g>\n   <g id=\"line2d_6\">\n    <path clip-path=\"url(#p7cf00b324c)\" d=\"M 63.490836 226.841958 \nL 249.839936 226.841958 \n\" style=\"fill:none;stroke:#778899;stroke-linecap:square;stroke-width:2;\"/>\n   </g>\n   <g id=\"line2d_7\">\n    <path clip-path=\"url(#p7cf00b324c)\" d=\"M 89.511534 134.4628 \nL 89.511534 215.024698 \n\" style=\"fill:none;stroke:#778899;stroke-linecap:square;stroke-width:2;\"/>\n   </g>\n   <g id=\"line2d_8\">\n    <path clip-path=\"url(#p7cf00b324c)\" d=\"M 86.557219 134.4628 \nL 86.557219 215.024698 \n\" style=\"fill:none;stroke:#778899;stroke-linecap:square;stroke-width:2;\"/>\n   </g>\n   <g id=\"line2d_9\">\n    <path clip-path=\"url(#p7cf00b324c)\" d=\"M 134.962534 179.9138 \nL 134.962534 215.024698 \n\" style=\"fill:none;stroke:#778899;stroke-linecap:square;stroke-width:2;\"/>\n   </g>\n   <g id=\"line2d_10\">\n    <path clip-path=\"url(#p7cf00b324c)\" d=\"M 132.008219 179.9138 \nL 132.008219 215.024698 \n\" style=\"fill:none;stroke:#778899;stroke-linecap:square;stroke-width:2;\"/>\n   </g>\n   <g id=\"line2d_11\">\n    <path clip-path=\"url(#p7cf00b324c)\" d=\"M 180.413534 89.0118 \nL 180.413534 215.024698 \n\" style=\"fill:none;stroke:#778899;stroke-linecap:square;stroke-width:2;\"/>\n   </g>\n   <g id=\"line2d_12\">\n    <path clip-path=\"url(#p7cf00b324c)\" d=\"M 177.459219 89.0118 \nL 177.459219 215.024698 \n\" style=\"fill:none;stroke:#778899;stroke-linecap:square;stroke-width:2;\"/>\n   </g>\n   <g id=\"line2d_13\">\n    <path clip-path=\"url(#p7cf00b324c)\" d=\"M 225.864534 43.5608 \nL 225.864534 215.024698 \n\" style=\"fill:none;stroke:#778899;stroke-linecap:square;stroke-width:2;\"/>\n   </g>\n   <g id=\"line2d_14\">\n    <path clip-path=\"url(#p7cf00b324c)\" d=\"M 222.910219 43.5608 \nL 222.910219 215.024698 \n\" style=\"fill:none;stroke:#778899;stroke-linecap:square;stroke-width:2;\"/>\n   </g>\n   <g id=\"line2d_15\">\n    <path clip-path=\"url(#p7cf00b324c)\" d=\"M 72.581036 229.9099 \nL 77.126136 220.8197 \n\" style=\"fill:none;stroke:#778899;stroke-linecap:square;stroke-width:1.5;\"/>\n   </g>\n   <g id=\"patch_6\">\n    <path clip-path=\"url(#p7cf00b324c)\" d=\"M 73.262801 58.332375 \nL 102.805951 58.332375 \nL 102.805951 28.789225 \nL 73.262801 28.789225 \nz\n\" style=\"fill:#6fa4ff;stroke:#6fa4ff;stroke-linejoin:miter;stroke-width:1.5;\"/>\n   </g>\n   <g id=\"patch_7\">\n    <path clip-path=\"url(#p7cf00b324c)\" d=\"M 73.262801 103.783375 \nL 102.805951 103.783375 \nL 102.805951 74.240225 \nL 73.262801 74.240225 \nz\n\" style=\"fill:#6fa4ff;stroke:#6fa4ff;stroke-linejoin:miter;stroke-width:1.5;\"/>\n   </g>\n   <g id=\"patch_8\">\n    <path clip-path=\"url(#p7cf00b324c)\" d=\"M 73.262801 149.234375 \nL 102.805951 149.234375 \nL 102.805951 119.691225 \nL 73.262801 119.691225 \nz\n\" style=\"stroke:#000000;stroke-linejoin:miter;stroke-width:1.5;\"/>\n   </g>\n   <g id=\"patch_9\">\n    <path clip-path=\"url(#p7cf00b324c)\" d=\"M 98.374479 138.894273 \nC 98.374479 136.152959 97.284335 133.521118 95.345933 131.582716 \nC 93.407531 129.644314 90.77569 128.55417 88.034376 128.55417 \nC 85.293062 128.55417 82.661221 129.644314 80.72282 131.582716 \nC 78.784418 133.521118 77.694274 136.152959 77.694274 138.894273 \n\" style=\"fill:none;stroke:#ffffff;stroke-linejoin:miter;stroke-width:2;\"/>\n   </g>\n   <g id=\"patch_10\">\n    <path clip-path=\"url(#p7cf00b324c)\" d=\"M 118.713801 194.685375 \nL 148.256951 194.685375 \nL 148.256951 165.142225 \nL 118.713801 165.142225 \nz\n\" style=\"stroke:#000000;stroke-linejoin:miter;stroke-width:1.5;\"/>\n   </g>\n   <g id=\"patch_11\">\n    <path clip-path=\"url(#p7cf00b324c)\" d=\"M 143.825479 184.345273 \nC 143.825479 181.603959 142.735335 178.972118 140.796933 177.033716 \nC 138.858531 175.095314 136.22669 174.00517 133.485376 174.00517 \nC 130.744062 174.00517 128.112221 175.095314 126.17382 177.033716 \nC 124.235418 178.972118 123.145274 181.603959 123.145274 184.345273 \n\" style=\"fill:none;stroke:#ffffff;stroke-linejoin:miter;stroke-width:2;\"/>\n   </g>\n   <g id=\"patch_12\">\n    <path clip-path=\"url(#p7cf00b324c)\" d=\"M 118.713801 58.332375 \nL 148.256951 58.332375 \nL 148.256951 28.789225 \nL 118.713801 28.789225 \nz\n\" style=\"fill:#6fa4ff;stroke:#6fa4ff;stroke-linejoin:miter;stroke-width:1.5;\"/>\n   </g>\n   <g id=\"patch_13\">\n    <path clip-path=\"url(#p7cf00b324c)\" d=\"M 164.164801 103.783375 \nL 193.707951 103.783375 \nL 193.707951 74.240225 \nL 164.164801 74.240225 \nz\n\" style=\"stroke:#000000;stroke-linejoin:miter;stroke-width:1.5;\"/>\n   </g>\n   <g id=\"patch_14\">\n    <path clip-path=\"url(#p7cf00b324c)\" d=\"M 189.276479 93.443273 \nC 189.276479 90.701959 188.186335 88.070118 186.247933 86.131716 \nC 184.309531 84.193314 181.67769 83.10317 178.936376 83.10317 \nC 176.195062 83.10317 173.563221 84.193314 171.62482 86.131716 \nC 169.686418 88.070118 168.596274 90.701959 168.596274 93.443273 \n\" style=\"fill:none;stroke:#ffffff;stroke-linejoin:miter;stroke-width:2;\"/>\n   </g>\n   <g id=\"patch_15\">\n    <path clip-path=\"url(#p7cf00b324c)\" d=\"M 209.615801 58.332375 \nL 239.158951 58.332375 \nL 239.158951 28.789225 \nL 209.615801 28.789225 \nz\n\" style=\"stroke:#000000;stroke-linejoin:miter;stroke-width:1.5;\"/>\n   </g>\n   <g id=\"patch_16\">\n    <path clip-path=\"url(#p7cf00b324c)\" d=\"M 234.727479 47.992273 \nC 234.727479 45.250959 233.637335 42.619118 231.698933 40.680716 \nC 229.760531 38.742314 227.12869 37.65217 224.387376 37.65217 \nC 221.646062 37.65217 219.014221 38.742314 217.07582 40.680716 \nC 215.137418 42.619118 214.047274 45.250959 214.047274 47.992273 \n\" style=\"fill:none;stroke:#ffffff;stroke-linejoin:miter;stroke-width:2;\"/>\n   </g>\n   <g id=\"line2d_16\">\n    <path clip-path=\"url(#p7cf00b324c)\" d=\"M 88.034376 138.894273 \nL 98.374479 128.55417 \n\" style=\"fill:none;stroke:#ffffff;stroke-linecap:square;stroke-width:2;\"/>\n   </g>\n   <g id=\"line2d_17\">\n    <path clip-path=\"url(#p7cf00b324c)\" d=\"M 133.485376 184.345273 \nL 143.825479 174.00517 \n\" style=\"fill:none;stroke:#ffffff;stroke-linecap:square;stroke-width:2;\"/>\n   </g>\n   <g id=\"line2d_18\">\n    <path clip-path=\"url(#p7cf00b324c)\" d=\"M 178.936376 93.443273 \nL 189.276479 83.10317 \n\" style=\"fill:none;stroke:#ffffff;stroke-linecap:square;stroke-width:2;\"/>\n   </g>\n   <g id=\"line2d_19\">\n    <path clip-path=\"url(#p7cf00b324c)\" d=\"M 224.387376 47.992272 \nL 234.727479 37.65217 \n\" style=\"fill:none;stroke:#ffffff;stroke-linecap:square;stroke-width:2;\"/>\n   </g>\n   <g id=\"text_1\">\n    <g clip-path=\"url(#p7cf00b324c)\">\n     <!-- $\\mathrm{S}^\\dagger$ -->\n     <g transform=\"translate(79.584376 47.147987)scale(0.13 -0.13)\">\n      <defs>\n       <path d=\"M 53.515625 70.515625 \nL 53.515625 60.890625 \nQ 47.90625 63.578125 42.921875 64.890625 \nQ 37.9375 66.21875 33.296875 66.21875 \nQ 25.25 66.21875 20.875 63.09375 \nQ 16.5 59.96875 16.5 54.203125 \nQ 16.5 49.359375 19.40625 46.890625 \nQ 22.3125 44.4375 30.421875 42.921875 \nL 36.375 41.703125 \nQ 47.40625 39.59375 52.65625 34.296875 \nQ 57.90625 29 57.90625 20.125 \nQ 57.90625 9.515625 50.796875 4.046875 \nQ 43.703125 -1.421875 29.984375 -1.421875 \nQ 24.8125 -1.421875 18.96875 -0.25 \nQ 13.140625 0.921875 6.890625 3.21875 \nL 6.890625 13.375 \nQ 12.890625 10.015625 18.65625 8.296875 \nQ 24.421875 6.59375 29.984375 6.59375 \nQ 38.421875 6.59375 43.015625 9.90625 \nQ 47.609375 13.234375 47.609375 19.390625 \nQ 47.609375 24.75 44.3125 27.78125 \nQ 41.015625 30.8125 33.5 32.328125 \nL 27.484375 33.5 \nQ 16.453125 35.6875 11.515625 40.375 \nQ 6.59375 45.0625 6.59375 53.421875 \nQ 6.59375 63.09375 13.40625 68.65625 \nQ 20.21875 74.21875 32.171875 74.21875 \nQ 37.3125 74.21875 42.625 73.28125 \nQ 47.953125 72.359375 53.515625 70.515625 \nz\n\" id=\"DejaVuSans-83\"/>\n       <path d=\"M 20.703125 72.90625 \nL 29.296875 72.90625 \nL 29.296875 52.390625 \nL 47.21875 52.390625 \nL 47.21875 44.921875 \nL 29.296875 44.921875 \nL 29.296875 -9.625 \nL 20.703125 -9.625 \nL 20.703125 44.921875 \nL 2.78125 44.921875 \nL 2.78125 52.390625 \nL 20.703125 52.390625 \nz\n\" id=\"DejaVuSans-8224\"/>\n      </defs>\n      <use transform=\"translate(0 0.684375)\" xlink:href=\"#DejaVuSans-83\"/>\n      <use transform=\"translate(78.071289 38.965625)scale(0.7)\" xlink:href=\"#DejaVuSans-8224\"/>\n     </g>\n    </g>\n   </g>\n   <g id=\"text_2\">\n    <g clip-path=\"url(#p7cf00b324c)\">\n     <!-- H -->\n     <g transform=\"translate(83.146173 92.598987)scale(0.13 -0.13)\">\n      <defs>\n       <path d=\"M 9.8125 72.90625 \nL 19.671875 72.90625 \nL 19.671875 43.015625 \nL 55.515625 43.015625 \nL 55.515625 72.90625 \nL 65.375 72.90625 \nL 65.375 0 \nL 55.515625 0 \nL 55.515625 34.71875 \nL 19.671875 34.71875 \nL 19.671875 0 \nL 9.8125 0 \nz\n\" id=\"DejaVuSans-72\"/>\n      </defs>\n      <use xlink:href=\"#DejaVuSans-72\"/>\n     </g>\n    </g>\n   </g>\n   <g id=\"text_3\">\n    <g clip-path=\"url(#p7cf00b324c)\">\n     <!-- 2 -->\n     <g transform=\"translate(99.397126 218.656825)scale(0.104 -0.104)\">\n      <defs>\n       <path d=\"M 19.1875 8.296875 \nL 53.609375 8.296875 \nL 53.609375 0 \nL 7.328125 0 \nL 7.328125 8.296875 \nQ 12.9375 14.109375 22.625 23.890625 \nQ 32.328125 33.6875 34.8125 36.53125 \nQ 39.546875 41.84375 41.421875 45.53125 \nQ 43.3125 49.21875 43.3125 52.78125 \nQ 43.3125 58.59375 39.234375 62.25 \nQ 35.15625 65.921875 28.609375 65.921875 \nQ 23.96875 65.921875 18.8125 64.3125 \nQ 13.671875 62.703125 7.8125 59.421875 \nL 7.8125 69.390625 \nQ 13.765625 71.78125 18.9375 73 \nQ 24.125 74.21875 28.421875 74.21875 \nQ 39.75 74.21875 46.484375 68.546875 \nQ 53.21875 62.890625 53.21875 53.421875 \nQ 53.21875 48.921875 51.53125 44.890625 \nQ 49.859375 40.875 45.40625 35.40625 \nQ 44.1875 33.984375 37.640625 27.21875 \nQ 31.109375 20.453125 19.1875 8.296875 \nz\n\" id=\"DejaVuSans-50\"/>\n      </defs>\n      <use xlink:href=\"#DejaVuSans-50\"/>\n     </g>\n    </g>\n   </g>\n   <g id=\"text_4\">\n    <g clip-path=\"url(#p7cf00b324c)\">\n     <!-- 3 -->\n     <g transform=\"translate(144.848126 218.656825)scale(0.104 -0.104)\">\n      <defs>\n       <path d=\"M 40.578125 39.3125 \nQ 47.65625 37.796875 51.625 33 \nQ 55.609375 28.21875 55.609375 21.1875 \nQ 55.609375 10.40625 48.1875 4.484375 \nQ 40.765625 -1.421875 27.09375 -1.421875 \nQ 22.515625 -1.421875 17.65625 -0.515625 \nQ 12.796875 0.390625 7.625 2.203125 \nL 7.625 11.71875 \nQ 11.71875 9.328125 16.59375 8.109375 \nQ 21.484375 6.890625 26.8125 6.890625 \nQ 36.078125 6.890625 40.9375 10.546875 \nQ 45.796875 14.203125 45.796875 21.1875 \nQ 45.796875 27.640625 41.28125 31.265625 \nQ 36.765625 34.90625 28.71875 34.90625 \nL 20.21875 34.90625 \nL 20.21875 43.015625 \nL 29.109375 43.015625 \nQ 36.375 43.015625 40.234375 45.921875 \nQ 44.09375 48.828125 44.09375 54.296875 \nQ 44.09375 59.90625 40.109375 62.90625 \nQ 36.140625 65.921875 28.71875 65.921875 \nQ 24.65625 65.921875 20.015625 65.03125 \nQ 15.375 64.15625 9.8125 62.3125 \nL 9.8125 71.09375 \nQ 15.4375 72.65625 20.34375 73.4375 \nQ 25.25 74.21875 29.59375 74.21875 \nQ 40.828125 74.21875 47.359375 69.109375 \nQ 53.90625 64.015625 53.90625 55.328125 \nQ 53.90625 49.265625 50.4375 45.09375 \nQ 46.96875 40.921875 40.578125 39.3125 \nz\n\" id=\"DejaVuSans-51\"/>\n      </defs>\n      <use xlink:href=\"#DejaVuSans-51\"/>\n     </g>\n    </g>\n   </g>\n   <g id=\"text_5\">\n    <g clip-path=\"url(#p7cf00b324c)\">\n     <!-- H -->\n     <g transform=\"translate(128.597173 47.147987)scale(0.13 -0.13)\">\n      <use xlink:href=\"#DejaVuSans-72\"/>\n     </g>\n    </g>\n   </g>\n   <g id=\"text_6\">\n    <g clip-path=\"url(#p7cf00b324c)\">\n     <!-- 1 -->\n     <g transform=\"translate(190.299126 218.656825)scale(0.104 -0.104)\">\n      <defs>\n       <path d=\"M 12.40625 8.296875 \nL 28.515625 8.296875 \nL 28.515625 63.921875 \nL 10.984375 60.40625 \nL 10.984375 69.390625 \nL 28.421875 72.90625 \nL 38.28125 72.90625 \nL 38.28125 8.296875 \nL 54.390625 8.296875 \nL 54.390625 0 \nL 12.40625 0 \nz\n\" id=\"DejaVuSans-49\"/>\n      </defs>\n      <use xlink:href=\"#DejaVuSans-49\"/>\n     </g>\n    </g>\n   </g>\n   <g id=\"text_7\">\n    <g clip-path=\"url(#p7cf00b324c)\">\n     <!-- 0 -->\n     <g transform=\"translate(235.750126 218.656825)scale(0.104 -0.104)\">\n      <defs>\n       <path d=\"M 31.78125 66.40625 \nQ 24.171875 66.40625 20.328125 58.90625 \nQ 16.5 51.421875 16.5 36.375 \nQ 16.5 21.390625 20.328125 13.890625 \nQ 24.171875 6.390625 31.78125 6.390625 \nQ 39.453125 6.390625 43.28125 13.890625 \nQ 47.125 21.390625 47.125 36.375 \nQ 47.125 51.421875 43.28125 58.90625 \nQ 39.453125 66.40625 31.78125 66.40625 \nz\nM 31.78125 74.21875 \nQ 44.046875 74.21875 50.515625 64.515625 \nQ 56.984375 54.828125 56.984375 36.375 \nQ 56.984375 17.96875 50.515625 8.265625 \nQ 44.046875 -1.421875 31.78125 -1.421875 \nQ 19.53125 -1.421875 13.0625 8.265625 \nQ 6.59375 17.96875 6.59375 36.375 \nQ 6.59375 54.828125 13.0625 64.515625 \nQ 19.53125 74.21875 31.78125 74.21875 \nz\n\" id=\"DejaVuSans-48\"/>\n      </defs>\n      <use xlink:href=\"#DejaVuSans-48\"/>\n     </g>\n    </g>\n   </g>\n   <g id=\"text_8\">\n    <g clip-path=\"url(#p7cf00b324c)\">\n     <!-- ${q}_{0}$ -->\n     <g transform=\"translate(36.363136 48.011777)scale(0.1625 -0.1625)\">\n      <defs>\n       <path d=\"M 41.703125 8.203125 \nQ 38.09375 3.46875 33.171875 1.015625 \nQ 28.265625 -1.421875 22.3125 -1.421875 \nQ 14.015625 -1.421875 9.296875 4.171875 \nQ 4.59375 9.765625 4.59375 19.578125 \nQ 4.59375 27.484375 7.5 34.859375 \nQ 10.40625 42.234375 15.828125 48.09375 \nQ 19.34375 51.90625 23.90625 53.953125 \nQ 28.46875 56 33.5 56 \nQ 39.546875 56 43.453125 53.609375 \nQ 47.359375 51.21875 49.125 46.390625 \nL 50.6875 54.59375 \nL 59.71875 54.59375 \nL 45.125 -20.609375 \nL 36.078125 -20.609375 \nz\nM 13.921875 20.90625 \nQ 13.921875 13.671875 16.9375 9.890625 \nQ 19.96875 6.109375 25.6875 6.109375 \nQ 34.1875 6.109375 40.1875 14.234375 \nQ 46.1875 22.359375 46.1875 33.984375 \nQ 46.1875 41.015625 43.078125 44.75 \nQ 39.984375 48.484375 34.1875 48.484375 \nQ 29.9375 48.484375 26.3125 46.5 \nQ 22.703125 44.53125 20.015625 40.71875 \nQ 17.1875 36.71875 15.546875 31.34375 \nQ 13.921875 25.984375 13.921875 20.90625 \nz\n\" id=\"DejaVuSans-Oblique-113\"/>\n      </defs>\n      <use xlink:href=\"#DejaVuSans-Oblique-113\"/>\n      <use transform=\"translate(63.476562 -16.40625)scale(0.7)\" xlink:href=\"#DejaVuSans-48\"/>\n     </g>\n    </g>\n   </g>\n   <g id=\"text_9\">\n    <g clip-path=\"url(#p7cf00b324c)\">\n     <!-- ${q}_{1}$ -->\n     <g transform=\"translate(36.363136 93.462777)scale(0.1625 -0.1625)\">\n      <use xlink:href=\"#DejaVuSans-Oblique-113\"/>\n      <use transform=\"translate(63.476562 -16.40625)scale(0.7)\" xlink:href=\"#DejaVuSans-49\"/>\n     </g>\n    </g>\n   </g>\n   <g id=\"text_10\">\n    <g clip-path=\"url(#p7cf00b324c)\">\n     <!-- ${q}_{2}$ -->\n     <g transform=\"translate(36.363136 138.913777)scale(0.1625 -0.1625)\">\n      <use xlink:href=\"#DejaVuSans-Oblique-113\"/>\n      <use transform=\"translate(63.476562 -16.40625)scale(0.7)\" xlink:href=\"#DejaVuSans-50\"/>\n     </g>\n    </g>\n   </g>\n   <g id=\"text_11\">\n    <g clip-path=\"url(#p7cf00b324c)\">\n     <!-- ${q}_{3}$ -->\n     <g transform=\"translate(36.363136 184.364777)scale(0.1625 -0.1625)\">\n      <use xlink:href=\"#DejaVuSans-Oblique-113\"/>\n      <use transform=\"translate(63.476562 -16.40625)scale(0.7)\" xlink:href=\"#DejaVuSans-51\"/>\n     </g>\n    </g>\n   </g>\n   <g id=\"text_12\">\n    <g clip-path=\"url(#p7cf00b324c)\">\n     <!-- 4 -->\n     <g transform=\"translate(68.035936 218.656825)scale(0.104 -0.104)\">\n      <defs>\n       <path d=\"M 37.796875 64.3125 \nL 12.890625 25.390625 \nL 37.796875 25.390625 \nz\nM 35.203125 72.90625 \nL 47.609375 72.90625 \nL 47.609375 25.390625 \nL 58.015625 25.390625 \nL 58.015625 17.1875 \nL 47.609375 17.1875 \nL 47.609375 0 \nL 37.796875 0 \nL 37.796875 17.1875 \nL 4.890625 17.1875 \nL 4.890625 26.703125 \nz\n\" id=\"DejaVuSans-52\"/>\n      </defs>\n      <use xlink:href=\"#DejaVuSans-52\"/>\n     </g>\n    </g>\n   </g>\n   <g id=\"text_13\">\n    <g clip-path=\"url(#p7cf00b324c)\">\n     <!-- c -->\n     <g transform=\"translate(45.465675 229.848784)scale(0.1625 -0.1625)\">\n      <defs>\n       <path d=\"M 48.78125 52.59375 \nL 48.78125 44.1875 \nQ 44.96875 46.296875 41.140625 47.34375 \nQ 37.3125 48.390625 33.40625 48.390625 \nQ 24.65625 48.390625 19.8125 42.84375 \nQ 14.984375 37.3125 14.984375 27.296875 \nQ 14.984375 17.28125 19.8125 11.734375 \nQ 24.65625 6.203125 33.40625 6.203125 \nQ 37.3125 6.203125 41.140625 7.25 \nQ 44.96875 8.296875 48.78125 10.40625 \nL 48.78125 2.09375 \nQ 45.015625 0.34375 40.984375 -0.53125 \nQ 36.96875 -1.421875 32.421875 -1.421875 \nQ 20.0625 -1.421875 12.78125 6.34375 \nQ 5.515625 14.109375 5.515625 27.296875 \nQ 5.515625 40.671875 12.859375 48.328125 \nQ 20.21875 56 33.015625 56 \nQ 37.15625 56 41.109375 55.140625 \nQ 45.0625 54.296875 48.78125 52.59375 \nz\n\" id=\"DejaVuSans-99\"/>\n      </defs>\n      <use xlink:href=\"#DejaVuSans-99\"/>\n     </g>\n    </g>\n   </g>\n  </g>\n </g>\n <defs>\n  <clipPath id=\"p7cf00b324c\">\n   <rect height=\"245.4354\" width=\"247.185036\" x=\"7.2\" y=\"7.2\"/>\n  </clipPath>\n </defs>\n</svg>\n",
      "image/png": "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\n"
     },
     "metadata": {},
     "execution_count": 38
    }
   ],
   "source": [
    "i = 0\n",
    "print(interpreters[i])\n",
    "measurement_circuits[i].draw('mpl')"
   ]
  },
  {
   "cell_type": "markdown",
   "metadata": {},
   "source": [
    "The interpreters should be respectively :\n",
    "\n",
    "<code>\n",
    "[ 2 -2 -2  2  2 -2 -2  2 -2  2  2 -2 -2  2  2 -2]<br>[ 1 -1 -1  1 -1  1  1 -1  1 -1 -1  1 -1  1  1 -1]\n",
    "</code>"
   ]
  },
  {
   "cell_type": "markdown",
   "metadata": {},
   "source": [
    "### Set the LCPS\n",
    "The method `set_linear_combinaison_pauli_string(LCPS)` is already implemented inside the abstract class `Evaluator`. Please take a look at it to notice that this method makes an immediate call to the `prepare_measurement_circuits_and_interpreters(LCPS)` method you have just implemented. The `measurement_circuits` and `interpreters` are also stored in attributes of the same name."
   ]
  },
  {
   "cell_type": "markdown",
   "metadata": {},
   "source": [
    "## Methods called inside `eval(params)`\n",
    "Since we are entering the action of the `eval(params)` method we will need to instantiate an `Evaluator`. This will require a `backend`. We will use a local `qasm_simulator` for now, which is part of the `Aer` module. In the futur, you can use a different `backend`. We will also soon need the `execute` method."
   ]
  },
  {
   "cell_type": "code",
   "execution_count": 53,
   "metadata": {},
   "outputs": [],
   "source": [
    "from qiskit import Aer, execute\n",
    "qasm_simulator = Aer.get_backend('qasm_simulator')"
   ]
  },
  {
   "cell_type": "markdown",
   "metadata": {},
   "source": [
    "### Circuit preparation\n",
    "The `prepare_eval_circuits(params)` will combine the variationnal form with these measurement `QuantumCircuit`s to form the complete circuit to be run. This method has 2 tasks :\n",
    "- Assign the `params` to the variationnal form to get a `QuantumCircuit` that prepares the quantum state\n",
    "- Combine this circuit with all the measurement circuits to return as many `QuantumCircuit` inside a `list`.\n",
    "\n",
    "Implement this method inside the `Evaluator` class and test it here."
   ]
  },
  {
   "cell_type": "code",
   "execution_count": 59,
   "metadata": {},
   "outputs": [],
   "source": [
    "%autoreload\n",
    "lcps = 2*PauliString.from_str('ZXZX') + 1*PauliString.from_str('IIZZ')\n",
    "varform = varform_4qubits_1param\n",
    "backend = qasm_simulator\n",
    "evaluator = BasicEvaluator(varform,backend)\n",
    "evaluator.set_linear_combinaison_pauli_string(lcps)\n",
    "params = [0,0,0]\n",
    "eval_circuits = evaluator.prepare_eval_circuits(params)"
   ]
  },
  {
   "cell_type": "markdown",
   "metadata": {},
   "source": [
    "You can take a look at the `QuantumCircuit` for the first (`i=0`) and second (`i=1`) PauliString. What you should get is a circuit that begins with the state preparation circuit with the `params` applied to it followed by the measurement circuit."
   ]
  },
  {
   "cell_type": "code",
   "execution_count": 60,
   "metadata": {},
   "outputs": [
    {
     "output_type": "execute_result",
     "data": {
      "text/plain": [
       "<Figure size 688.597x325.08 with 1 Axes>"
      ],
      "image/svg+xml": "<?xml version=\"1.0\" encoding=\"utf-8\" standalone=\"no\"?>\n<!DOCTYPE svg PUBLIC \"-//W3C//DTD SVG 1.1//EN\"\n  \"http://www.w3.org/Graphics/SVG/1.1/DTD/svg11.dtd\">\n<!-- Created with matplotlib (https://matplotlib.org/) -->\n<svg height=\"259.8354pt\" version=\"1.1\" viewBox=\"0 0 534.291036 259.8354\" width=\"534.291036pt\" xmlns=\"http://www.w3.org/2000/svg\" xmlns:xlink=\"http://www.w3.org/1999/xlink\">\n <metadata>\n  <rdf:RDF xmlns:cc=\"http://creativecommons.org/ns#\" xmlns:dc=\"http://purl.org/dc/elements/1.1/\" xmlns:rdf=\"http://www.w3.org/1999/02/22-rdf-syntax-ns#\">\n   <cc:Work>\n    <dc:type rdf:resource=\"http://purl.org/dc/dcmitype/StillImage\"/>\n    <dc:date>2021-02-01T17:29:39.863629</dc:date>\n    <dc:format>image/svg+xml</dc:format>\n    <dc:creator>\n     <cc:Agent>\n      <dc:title>Matplotlib v3.3.3, https://matplotlib.org/</dc:title>\n     </cc:Agent>\n    </dc:creator>\n   </cc:Work>\n  </rdf:RDF>\n </metadata>\n <defs>\n  <style type=\"text/css\">*{stroke-linecap:butt;stroke-linejoin:round;}</style>\n </defs>\n <g id=\"figure_1\">\n  <g id=\"patch_1\">\n   <path d=\"M 0 259.8354 \nL 534.291036 259.8354 \nL 534.291036 0 \nL 0 0 \nz\n\" style=\"fill:#ffffff;\"/>\n  </g>\n  <g id=\"axes_1\">\n   <g id=\"patch_2\">\n    <path clip-path=\"url(#pe9f5096080)\" d=\"M 354.831746 215.024697 \nL 366.649006 215.024697 \nL 360.740376 223.54676 \nz\n\" style=\"fill:#778899;\"/>\n   </g>\n   <g id=\"patch_3\">\n    <path clip-path=\"url(#pe9f5096080)\" d=\"M 400.282746 215.024697 \nL 412.100006 215.024697 \nL 406.191376 223.54676 \nz\n\" style=\"fill:#778899;\"/>\n   </g>\n   <g id=\"patch_4\">\n    <path clip-path=\"url(#pe9f5096080)\" d=\"M 445.733746 215.024697 \nL 457.551006 215.024697 \nL 451.642376 223.54676 \nz\n\" style=\"fill:#778899;\"/>\n   </g>\n   <g id=\"patch_5\">\n    <path clip-path=\"url(#pe9f5096080)\" d=\"M 491.184746 215.024697 \nL 503.002006 215.024697 \nL 497.093376 223.54676 \nz\n\" style=\"fill:#778899;\"/>\n   </g>\n   <g id=\"line2d_1\">\n    <path clip-path=\"url(#pe9f5096080)\" d=\"M 63.490836 43.5608 \nL 522.545936 43.5608 \n\" style=\"fill:none;stroke:#000000;stroke-linecap:square;stroke-width:2;\"/>\n   </g>\n   <g id=\"line2d_2\">\n    <path clip-path=\"url(#pe9f5096080)\" d=\"M 63.490836 89.0118 \nL 522.545936 89.0118 \n\" style=\"fill:none;stroke:#000000;stroke-linecap:square;stroke-width:2;\"/>\n   </g>\n   <g id=\"line2d_3\">\n    <path clip-path=\"url(#pe9f5096080)\" d=\"M 63.490836 134.4628 \nL 522.545936 134.4628 \n\" style=\"fill:none;stroke:#000000;stroke-linecap:square;stroke-width:2;\"/>\n   </g>\n   <g id=\"line2d_4\">\n    <path clip-path=\"url(#pe9f5096080)\" d=\"M 63.490836 179.9138 \nL 522.545936 179.9138 \n\" style=\"fill:none;stroke:#000000;stroke-linecap:square;stroke-width:2;\"/>\n   </g>\n   <g id=\"line2d_5\">\n    <path clip-path=\"url(#pe9f5096080)\" d=\"M 63.490836 223.887642 \nL 522.545936 223.887642 \n\" style=\"fill:none;stroke:#778899;stroke-linecap:square;stroke-width:2;\"/>\n   </g>\n   <g id=\"line2d_6\">\n    <path clip-path=\"url(#pe9f5096080)\" d=\"M 63.490836 226.841957 \nL 522.545936 226.841957 \n\" style=\"fill:none;stroke:#778899;stroke-linecap:square;stroke-width:2;\"/>\n   </g>\n   <g id=\"patch_6\">\n    <path clip-path=\"url(#pe9f5096080)\" d=\"M 124.622431 66.2863 \nL 142.348321 66.2863 \nL 142.348321 20.8353 \nL 124.622431 20.8353 \nz\n\" style=\"fill:#bdbdbd;opacity:0.6;\"/>\n   </g>\n   <g id=\"patch_7\">\n    <path clip-path=\"url(#pe9f5096080)\" d=\"M 124.622431 111.7373 \nL 142.348321 111.7373 \nL 142.348321 66.2863 \nL 124.622431 66.2863 \nz\n\" style=\"fill:#bdbdbd;opacity:0.6;\"/>\n   </g>\n   <g id=\"patch_8\">\n    <path clip-path=\"url(#pe9f5096080)\" d=\"M 124.622431 157.1883 \nL 142.348321 157.1883 \nL 142.348321 111.7373 \nL 124.622431 111.7373 \nz\n\" style=\"fill:#bdbdbd;opacity:0.6;\"/>\n   </g>\n   <g id=\"patch_9\">\n    <path clip-path=\"url(#pe9f5096080)\" d=\"M 124.622431 202.6393 \nL 142.348321 202.6393 \nL 142.348321 157.1883 \nL 124.622431 157.1883 \nz\n\" style=\"fill:#bdbdbd;opacity:0.6;\"/>\n   </g>\n   <g id=\"line2d_7\">\n    <path clip-path=\"url(#pe9f5096080)\" d=\"M 224.387376 179.9138 \nL 224.387376 89.0118 \n\" style=\"fill:none;stroke:#6fa4ff;stroke-linecap:square;stroke-width:2;\"/>\n   </g>\n   <g id=\"line2d_8\">\n    <path clip-path=\"url(#pe9f5096080)\" d=\"M 315.289376 89.0118 \nL 315.289376 43.5608 \n\" style=\"fill:none;stroke:#6fa4ff;stroke-linecap:square;stroke-width:2;\"/>\n   </g>\n   <g id=\"line2d_9\">\n    <path clip-path=\"url(#pe9f5096080)\" d=\"M 315.289376 179.9138 \nL 315.289376 134.4628 \n\" style=\"fill:none;stroke:#6fa4ff;stroke-linecap:square;stroke-width:2;\"/>\n   </g>\n   <g id=\"line2d_10\">\n    <path clip-path=\"url(#pe9f5096080)\" d=\"M 362.217534 43.5608 \nL 362.217534 215.024697 \n\" style=\"fill:none;stroke:#778899;stroke-linecap:square;stroke-width:2;\"/>\n   </g>\n   <g id=\"line2d_11\">\n    <path clip-path=\"url(#pe9f5096080)\" d=\"M 359.263219 43.5608 \nL 359.263219 215.024697 \n\" style=\"fill:none;stroke:#778899;stroke-linecap:square;stroke-width:2;\"/>\n   </g>\n   <g id=\"line2d_12\">\n    <path clip-path=\"url(#pe9f5096080)\" d=\"M 407.668534 89.0118 \nL 407.668534 215.024697 \n\" style=\"fill:none;stroke:#778899;stroke-linecap:square;stroke-width:2;\"/>\n   </g>\n   <g id=\"line2d_13\">\n    <path clip-path=\"url(#pe9f5096080)\" d=\"M 404.714219 89.0118 \nL 404.714219 215.024697 \n\" style=\"fill:none;stroke:#778899;stroke-linecap:square;stroke-width:2;\"/>\n   </g>\n   <g id=\"line2d_14\">\n    <path clip-path=\"url(#pe9f5096080)\" d=\"M 453.119534 134.4628 \nL 453.119534 215.024697 \n\" style=\"fill:none;stroke:#778899;stroke-linecap:square;stroke-width:2;\"/>\n   </g>\n   <g id=\"line2d_15\">\n    <path clip-path=\"url(#pe9f5096080)\" d=\"M 450.165219 134.4628 \nL 450.165219 215.024697 \n\" style=\"fill:none;stroke:#778899;stroke-linecap:square;stroke-width:2;\"/>\n   </g>\n   <g id=\"line2d_16\">\n    <path clip-path=\"url(#pe9f5096080)\" d=\"M 498.570534 179.9138 \nL 498.570534 215.024697 \n\" style=\"fill:none;stroke:#778899;stroke-linecap:square;stroke-width:2;\"/>\n   </g>\n   <g id=\"line2d_17\">\n    <path clip-path=\"url(#pe9f5096080)\" d=\"M 495.616219 179.9138 \nL 495.616219 215.024697 \n\" style=\"fill:none;stroke:#778899;stroke-linecap:square;stroke-width:2;\"/>\n   </g>\n   <g id=\"line2d_18\">\n    <path clip-path=\"url(#pe9f5096080)\" d=\"M 72.581036 229.9099 \nL 77.126136 220.8197 \n\" style=\"fill:none;stroke:#778899;stroke-linecap:square;stroke-width:1.5;\"/>\n   </g>\n   <g id=\"patch_10\">\n    <path clip-path=\"url(#pe9f5096080)\" d=\"M 73.262801 58.332375 \nL 102.805951 58.332375 \nL 102.805951 28.789225 \nL 73.262801 28.789225 \nz\n\" style=\"fill:#05bab6;stroke:#05bab6;stroke-linejoin:miter;stroke-width:1.5;\"/>\n   </g>\n   <g id=\"patch_11\">\n    <path clip-path=\"url(#pe9f5096080)\" d=\"M 73.262801 149.234375 \nL 102.805951 149.234375 \nL 102.805951 119.691225 \nL 73.262801 119.691225 \nz\n\" style=\"fill:#05bab6;stroke:#05bab6;stroke-linejoin:miter;stroke-width:1.5;\"/>\n   </g>\n   <g id=\"patch_12\">\n    <path clip-path=\"url(#pe9f5096080)\" d=\"M 164.164801 103.783375 \nL 193.707951 103.783375 \nL 193.707951 74.240225 \nL 164.164801 74.240225 \nz\n\" style=\"fill:#bb8bff;stroke:#bb8bff;stroke-linejoin:miter;stroke-width:1.5;\"/>\n   </g>\n   <g id=\"patch_13\">\n    <path clip-path=\"url(#pe9f5096080)\" d=\"M 224.387376 93.443272 \nC 225.562616 93.443272 226.68988 92.976345 227.520901 92.145324 \nC 228.351921 91.314304 228.818849 90.18704 228.818849 89.0118 \nC 228.818849 87.83656 228.351921 86.709296 227.520901 85.878276 \nC 226.68988 85.047255 225.562616 84.580327 224.387376 84.580327 \nC 223.212136 84.580327 222.084872 85.047255 221.253852 85.878276 \nC 220.422832 86.709296 219.955904 87.83656 219.955904 89.0118 \nC 219.955904 90.18704 220.422832 91.314304 221.253852 92.145324 \nC 222.084872 92.976345 223.212136 93.443272 224.387376 93.443272 \nz\n\" style=\"fill:#6fa4ff;stroke:#6fa4ff;stroke-linejoin:miter;stroke-width:1.5;\"/>\n   </g>\n   <g id=\"patch_14\">\n    <path clip-path=\"url(#pe9f5096080)\" d=\"M 224.387376 190.253902 \nC 227.129603 190.253902 229.759885 189.164404 231.698933 187.225357 \nC 233.63798 185.286309 234.727479 182.656027 234.727479 179.9138 \nC 234.727479 177.171573 233.63798 174.541291 231.698933 172.602243 \nC 229.759885 170.663196 227.129603 169.573697 224.387376 169.573697 \nC 221.645149 169.573697 219.014867 170.663196 217.07582 172.602243 \nC 215.136772 174.541291 214.047274 177.171573 214.047274 179.9138 \nC 214.047274 182.656027 215.136772 185.286309 217.07582 187.225357 \nC 219.014867 189.164404 221.645149 190.253902 224.387376 190.253902 \nz\n\" style=\"fill:#6fa4ff;stroke:#6fa4ff;stroke-linejoin:miter;stroke-width:2;\"/>\n   </g>\n   <g id=\"patch_15\">\n    <path clip-path=\"url(#pe9f5096080)\" d=\"M 255.066801 103.783375 \nL 284.609951 103.783375 \nL 284.609951 74.240225 \nL 255.066801 74.240225 \nz\n\" style=\"fill:#bb8bff;stroke:#bb8bff;stroke-linejoin:miter;stroke-width:1.5;\"/>\n   </g>\n   <g id=\"patch_16\">\n    <path clip-path=\"url(#pe9f5096080)\" d=\"M 255.066801 194.685375 \nL 284.609951 194.685375 \nL 284.609951 165.142225 \nL 255.066801 165.142225 \nz\n\" style=\"fill:#bb8bff;stroke:#bb8bff;stroke-linejoin:miter;stroke-width:1.5;\"/>\n   </g>\n   <g id=\"patch_17\">\n    <path clip-path=\"url(#pe9f5096080)\" d=\"M 315.289376 93.443272 \nC 316.464616 93.443272 317.59188 92.976345 318.422901 92.145324 \nC 319.253921 91.314304 319.720849 90.18704 319.720849 89.0118 \nC 319.720849 87.83656 319.253921 86.709296 318.422901 85.878276 \nC 317.59188 85.047255 316.464616 84.580327 315.289376 84.580327 \nC 314.114136 84.580327 312.986872 85.047255 312.155852 85.878276 \nC 311.324832 86.709296 310.857904 87.83656 310.857904 89.0118 \nC 310.857904 90.18704 311.324832 91.314304 312.155852 92.145324 \nC 312.986872 92.976345 314.114136 93.443272 315.289376 93.443272 \nz\n\" style=\"fill:#6fa4ff;stroke:#6fa4ff;stroke-linejoin:miter;stroke-width:1.5;\"/>\n   </g>\n   <g id=\"patch_18\">\n    <path clip-path=\"url(#pe9f5096080)\" d=\"M 315.289376 53.900902 \nC 318.031603 53.900902 320.661885 52.811404 322.600933 50.872357 \nC 324.53998 48.933309 325.629479 46.303027 325.629479 43.5608 \nC 325.629479 40.818573 324.53998 38.188291 322.600933 36.249243 \nC 320.661885 34.310196 318.031603 33.220697 315.289376 33.220697 \nC 312.547149 33.220697 309.916867 34.310196 307.97782 36.249243 \nC 306.038772 38.188291 304.949274 40.818573 304.949274 43.5608 \nC 304.949274 46.303027 306.038772 48.933309 307.97782 50.872357 \nC 309.916867 52.811404 312.547149 53.900902 315.289376 53.900902 \nz\n\" style=\"fill:#6fa4ff;stroke:#6fa4ff;stroke-linejoin:miter;stroke-width:2;\"/>\n   </g>\n   <g id=\"patch_19\">\n    <path clip-path=\"url(#pe9f5096080)\" d=\"M 315.289376 184.345272 \nC 316.464616 184.345272 317.59188 183.878345 318.422901 183.047324 \nC 319.253921 182.216304 319.720849 181.08904 319.720849 179.9138 \nC 319.720849 178.73856 319.253921 177.611296 318.422901 176.780276 \nC 317.59188 175.949255 316.464616 175.482327 315.289376 175.482327 \nC 314.114136 175.482327 312.986872 175.949255 312.155852 176.780276 \nC 311.324832 177.611296 310.857904 178.73856 310.857904 179.9138 \nC 310.857904 181.08904 311.324832 182.216304 312.155852 183.047324 \nC 312.986872 183.878345 314.114136 184.345272 315.289376 184.345272 \nz\n\" style=\"fill:#6fa4ff;stroke:#6fa4ff;stroke-linejoin:miter;stroke-width:1.5;\"/>\n   </g>\n   <g id=\"patch_20\">\n    <path clip-path=\"url(#pe9f5096080)\" d=\"M 315.289376 144.802902 \nC 318.031603 144.802902 320.661885 143.713404 322.600933 141.774357 \nC 324.53998 139.835309 325.629479 137.205027 325.629479 134.4628 \nC 325.629479 131.720573 324.53998 129.090291 322.600933 127.151243 \nC 320.661885 125.212196 318.031603 124.122697 315.289376 124.122697 \nC 312.547149 124.122697 309.916867 125.212196 307.97782 127.151243 \nC 306.038772 129.090291 304.949274 131.720573 304.949274 134.4628 \nC 304.949274 137.205027 306.038772 139.835309 307.97782 141.774357 \nC 309.916867 143.713404 312.547149 144.802902 315.289376 144.802902 \nz\n\" style=\"fill:#6fa4ff;stroke:#6fa4ff;stroke-linejoin:miter;stroke-width:2;\"/>\n   </g>\n   <g id=\"patch_21\">\n    <path clip-path=\"url(#pe9f5096080)\" d=\"M 345.968801 58.332375 \nL 375.511951 58.332375 \nL 375.511951 28.789225 \nL 345.968801 28.789225 \nz\n\" style=\"stroke:#000000;stroke-linejoin:miter;stroke-width:1.5;\"/>\n   </g>\n   <g id=\"patch_22\">\n    <path clip-path=\"url(#pe9f5096080)\" d=\"M 371.080479 47.992272 \nC 371.080479 45.250959 369.990335 42.619118 368.051933 40.680716 \nC 366.113531 38.742314 363.48169 37.65217 360.740376 37.65217 \nC 357.999062 37.65217 355.367221 38.742314 353.42882 40.680716 \nC 351.490418 42.619118 350.400274 45.250959 350.400274 47.992272 \n\" style=\"fill:none;stroke:#ffffff;stroke-linejoin:miter;stroke-width:2;\"/>\n   </g>\n   <g id=\"patch_23\">\n    <path clip-path=\"url(#pe9f5096080)\" d=\"M 391.419801 103.783375 \nL 420.962951 103.783375 \nL 420.962951 74.240225 \nL 391.419801 74.240225 \nz\n\" style=\"stroke:#000000;stroke-linejoin:miter;stroke-width:1.5;\"/>\n   </g>\n   <g id=\"patch_24\">\n    <path clip-path=\"url(#pe9f5096080)\" d=\"M 416.531479 93.443272 \nC 416.531479 90.701959 415.441335 88.070118 413.502933 86.131716 \nC 411.564531 84.193314 408.93269 83.10317 406.191376 83.10317 \nC 403.450062 83.10317 400.818221 84.193314 398.87982 86.131716 \nC 396.941418 88.070118 395.851274 90.701959 395.851274 93.443272 \n\" style=\"fill:none;stroke:#ffffff;stroke-linejoin:miter;stroke-width:2;\"/>\n   </g>\n   <g id=\"patch_25\">\n    <path clip-path=\"url(#pe9f5096080)\" d=\"M 436.870801 149.234375 \nL 466.413951 149.234375 \nL 466.413951 119.691225 \nL 436.870801 119.691225 \nz\n\" style=\"stroke:#000000;stroke-linejoin:miter;stroke-width:1.5;\"/>\n   </g>\n   <g id=\"patch_26\">\n    <path clip-path=\"url(#pe9f5096080)\" d=\"M 461.982479 138.894272 \nC 461.982479 136.152959 460.892335 133.521118 458.953933 131.582716 \nC 457.015531 129.644314 454.38369 128.55417 451.642376 128.55417 \nC 448.901062 128.55417 446.269221 129.644314 444.33082 131.582716 \nC 442.392418 133.521118 441.302274 136.152959 441.302274 138.894272 \n\" style=\"fill:none;stroke:#ffffff;stroke-linejoin:miter;stroke-width:2;\"/>\n   </g>\n   <g id=\"patch_27\">\n    <path clip-path=\"url(#pe9f5096080)\" d=\"M 482.321801 194.685375 \nL 511.864951 194.685375 \nL 511.864951 165.142225 \nL 482.321801 165.142225 \nz\n\" style=\"stroke:#000000;stroke-linejoin:miter;stroke-width:1.5;\"/>\n   </g>\n   <g id=\"patch_28\">\n    <path clip-path=\"url(#pe9f5096080)\" d=\"M 507.433479 184.345272 \nC 507.433479 181.603959 506.343335 178.972118 504.404933 177.033716 \nC 502.466531 175.095314 499.83469 174.00517 497.093376 174.00517 \nC 494.352062 174.00517 491.720221 175.095314 489.78182 177.033716 \nC 487.843418 178.972118 486.753274 181.603959 486.753274 184.345272 \n\" style=\"fill:none;stroke:#ffffff;stroke-linejoin:miter;stroke-width:2;\"/>\n   </g>\n   <g id=\"line2d_19\">\n    <path clip-path=\"url(#pe9f5096080)\" d=\"M 360.740376 47.992272 \nL 371.080479 37.65217 \n\" style=\"fill:none;stroke:#ffffff;stroke-linecap:square;stroke-width:2;\"/>\n   </g>\n   <g id=\"line2d_20\">\n    <path clip-path=\"url(#pe9f5096080)\" d=\"M 406.191376 93.443272 \nL 416.531479 83.10317 \n\" style=\"fill:none;stroke:#ffffff;stroke-linecap:square;stroke-width:2;\"/>\n   </g>\n   <g id=\"line2d_21\">\n    <path clip-path=\"url(#pe9f5096080)\" d=\"M 451.642376 138.894272 \nL 461.982479 128.55417 \n\" style=\"fill:none;stroke:#ffffff;stroke-linecap:square;stroke-width:2;\"/>\n   </g>\n   <g id=\"line2d_22\">\n    <path clip-path=\"url(#pe9f5096080)\" d=\"M 497.093376 184.345272 \nL 507.433479 174.00517 \n\" style=\"fill:none;stroke:#ffffff;stroke-linecap:square;stroke-width:2;\"/>\n   </g>\n   <g id=\"line2d_23\">\n    <path clip-path=\"url(#pe9f5096080)\" d=\"M 133.485376 20.8353 \nL 133.485376 66.2863 \n\" style=\"fill:none;stroke:#000000;stroke-dasharray:3.7,1.6;stroke-dashoffset:0;\"/>\n   </g>\n   <g id=\"line2d_24\">\n    <path clip-path=\"url(#pe9f5096080)\" d=\"M 133.485376 66.2863 \nL 133.485376 111.7373 \n\" style=\"fill:none;stroke:#000000;stroke-dasharray:3.7,1.6;stroke-dashoffset:0;\"/>\n   </g>\n   <g id=\"line2d_25\">\n    <path clip-path=\"url(#pe9f5096080)\" d=\"M 133.485376 111.7373 \nL 133.485376 157.1883 \n\" style=\"fill:none;stroke:#000000;stroke-dasharray:3.7,1.6;stroke-dashoffset:0;\"/>\n   </g>\n   <g id=\"line2d_26\">\n    <path clip-path=\"url(#pe9f5096080)\" d=\"M 133.485376 157.1883 \nL 133.485376 202.6393 \n\" style=\"fill:none;stroke:#000000;stroke-dasharray:3.7,1.6;stroke-dashoffset:0;\"/>\n   </g>\n   <g id=\"line2d_27\">\n    <path clip-path=\"url(#pe9f5096080)\" d=\"M 224.387376 185.82243 \nL 224.387376 174.00517 \n\" style=\"fill:none;stroke:#ffffff;stroke-linecap:square;stroke-width:2;\"/>\n   </g>\n   <g id=\"line2d_28\">\n    <path clip-path=\"url(#pe9f5096080)\" d=\"M 218.478746 179.9138 \nL 230.296006 179.9138 \n\" style=\"fill:none;stroke:#ffffff;stroke-linecap:square;stroke-width:2;\"/>\n   </g>\n   <g id=\"line2d_29\">\n    <path clip-path=\"url(#pe9f5096080)\" d=\"M 315.289376 49.46943 \nL 315.289376 37.65217 \n\" style=\"fill:none;stroke:#ffffff;stroke-linecap:square;stroke-width:2;\"/>\n   </g>\n   <g id=\"line2d_30\">\n    <path clip-path=\"url(#pe9f5096080)\" d=\"M 309.380746 43.5608 \nL 321.198006 43.5608 \n\" style=\"fill:none;stroke:#ffffff;stroke-linecap:square;stroke-width:2;\"/>\n   </g>\n   <g id=\"line2d_31\">\n    <path clip-path=\"url(#pe9f5096080)\" d=\"M 315.289376 140.37143 \nL 315.289376 128.55417 \n\" style=\"fill:none;stroke:#ffffff;stroke-linecap:square;stroke-width:2;\"/>\n   </g>\n   <g id=\"line2d_32\">\n    <path clip-path=\"url(#pe9f5096080)\" d=\"M 309.380746 134.4628 \nL 321.198006 134.4628 \n\" style=\"fill:none;stroke:#ffffff;stroke-linecap:square;stroke-width:2;\"/>\n   </g>\n   <g id=\"text_1\">\n    <g clip-path=\"url(#pe9f5096080)\">\n     <!-- X -->\n     <g transform=\"translate(83.581876 47.147987)scale(0.13 -0.13)\">\n      <defs>\n       <path d=\"M 6.296875 72.90625 \nL 16.890625 72.90625 \nL 35.015625 45.796875 \nL 53.21875 72.90625 \nL 63.8125 72.90625 \nL 40.375 37.890625 \nL 65.375 0 \nL 54.78125 0 \nL 34.28125 31 \nL 13.625 0 \nL 2.984375 0 \nL 29 38.921875 \nz\n\" id=\"DejaVuSans-88\"/>\n      </defs>\n      <use xlink:href=\"#DejaVuSans-88\"/>\n     </g>\n    </g>\n   </g>\n   <g id=\"text_2\">\n    <g clip-path=\"url(#pe9f5096080)\">\n     <!-- X -->\n     <g transform=\"translate(83.581876 138.049987)scale(0.13 -0.13)\">\n      <use xlink:href=\"#DejaVuSans-88\"/>\n     </g>\n    </g>\n   </g>\n   <g id=\"text_3\">\n    <g clip-path=\"url(#pe9f5096080)\">\n     <!-- $\\mathrm{R}_\\mathrm{Y}$ -->\n     <g transform=\"translate(171.396376 88.167515)scale(0.13 -0.13)\">\n      <defs>\n       <path d=\"M 44.390625 34.1875 \nQ 47.5625 33.109375 50.5625 29.59375 \nQ 53.5625 26.078125 56.59375 19.921875 \nL 66.609375 0 \nL 56 0 \nL 46.6875 18.703125 \nQ 43.0625 26.03125 39.671875 28.421875 \nQ 36.28125 30.8125 30.421875 30.8125 \nL 19.671875 30.8125 \nL 19.671875 0 \nL 9.8125 0 \nL 9.8125 72.90625 \nL 32.078125 72.90625 \nQ 44.578125 72.90625 50.734375 67.671875 \nQ 56.890625 62.453125 56.890625 51.90625 \nQ 56.890625 45.015625 53.6875 40.46875 \nQ 50.484375 35.9375 44.390625 34.1875 \nz\nM 19.671875 64.796875 \nL 19.671875 38.921875 \nL 32.078125 38.921875 \nQ 39.203125 38.921875 42.84375 42.21875 \nQ 46.484375 45.515625 46.484375 51.90625 \nQ 46.484375 58.296875 42.84375 61.546875 \nQ 39.203125 64.796875 32.078125 64.796875 \nz\n\" id=\"DejaVuSans-82\"/>\n       <path d=\"M -0.203125 72.90625 \nL 10.40625 72.90625 \nL 30.609375 42.921875 \nL 50.6875 72.90625 \nL 61.28125 72.90625 \nL 35.5 34.71875 \nL 35.5 0 \nL 25.59375 0 \nL 25.59375 34.71875 \nz\n\" id=\"DejaVuSans-89\"/>\n      </defs>\n      <use transform=\"translate(0 0.09375)\" xlink:href=\"#DejaVuSans-82\"/>\n      <use transform=\"translate(70.439453 -16.3125)scale(0.7)\" xlink:href=\"#DejaVuSans-89\"/>\n     </g>\n    </g>\n   </g>\n   <g id=\"text_4\">\n    <g clip-path=\"url(#pe9f5096080)\">\n     <!-- a -->\n     <g transform=\"translate(176.485126 100.082245)scale(0.08 -0.08)\">\n      <defs>\n       <path d=\"M 34.28125 27.484375 \nQ 23.390625 27.484375 19.1875 25 \nQ 14.984375 22.515625 14.984375 16.5 \nQ 14.984375 11.71875 18.140625 8.90625 \nQ 21.296875 6.109375 26.703125 6.109375 \nQ 34.1875 6.109375 38.703125 11.40625 \nQ 43.21875 16.703125 43.21875 25.484375 \nL 43.21875 27.484375 \nz\nM 52.203125 31.203125 \nL 52.203125 0 \nL 43.21875 0 \nL 43.21875 8.296875 \nQ 40.140625 3.328125 35.546875 0.953125 \nQ 30.953125 -1.421875 24.3125 -1.421875 \nQ 15.921875 -1.421875 10.953125 3.296875 \nQ 6 8.015625 6 15.921875 \nQ 6 25.140625 12.171875 29.828125 \nQ 18.359375 34.515625 30.609375 34.515625 \nL 43.21875 34.515625 \nL 43.21875 35.40625 \nQ 43.21875 41.609375 39.140625 45 \nQ 35.0625 48.390625 27.6875 48.390625 \nQ 23 48.390625 18.546875 47.265625 \nQ 14.109375 46.140625 10.015625 43.890625 \nL 10.015625 52.203125 \nQ 14.9375 54.109375 19.578125 55.046875 \nQ 24.21875 56 28.609375 56 \nQ 40.484375 56 46.34375 49.84375 \nQ 52.203125 43.703125 52.203125 31.203125 \nz\n\" id=\"DejaVuSans-97\"/>\n      </defs>\n      <use xlink:href=\"#DejaVuSans-97\"/>\n     </g>\n    </g>\n   </g>\n   <g id=\"text_5\">\n    <g clip-path=\"url(#pe9f5096080)\">\n     <!-- $\\mathrm{R}_\\mathrm{Y}$ -->\n     <g transform=\"translate(262.298376 88.167515)scale(0.13 -0.13)\">\n      <use transform=\"translate(0 0.09375)\" xlink:href=\"#DejaVuSans-82\"/>\n      <use transform=\"translate(70.439453 -16.3125)scale(0.7)\" xlink:href=\"#DejaVuSans-89\"/>\n     </g>\n    </g>\n   </g>\n   <g id=\"text_6\">\n    <g clip-path=\"url(#pe9f5096080)\">\n     <!-- b -->\n     <g transform=\"translate(267.299001 100.082245)scale(0.08 -0.08)\">\n      <defs>\n       <path d=\"M 48.6875 27.296875 \nQ 48.6875 37.203125 44.609375 42.84375 \nQ 40.53125 48.484375 33.40625 48.484375 \nQ 26.265625 48.484375 22.1875 42.84375 \nQ 18.109375 37.203125 18.109375 27.296875 \nQ 18.109375 17.390625 22.1875 11.75 \nQ 26.265625 6.109375 33.40625 6.109375 \nQ 40.53125 6.109375 44.609375 11.75 \nQ 48.6875 17.390625 48.6875 27.296875 \nz\nM 18.109375 46.390625 \nQ 20.953125 51.265625 25.265625 53.625 \nQ 29.59375 56 35.59375 56 \nQ 45.5625 56 51.78125 48.09375 \nQ 58.015625 40.1875 58.015625 27.296875 \nQ 58.015625 14.40625 51.78125 6.484375 \nQ 45.5625 -1.421875 35.59375 -1.421875 \nQ 29.59375 -1.421875 25.265625 0.953125 \nQ 20.953125 3.328125 18.109375 8.203125 \nL 18.109375 0 \nL 9.078125 0 \nL 9.078125 75.984375 \nL 18.109375 75.984375 \nz\n\" id=\"DejaVuSans-98\"/>\n      </defs>\n      <use xlink:href=\"#DejaVuSans-98\"/>\n     </g>\n    </g>\n   </g>\n   <g id=\"text_7\">\n    <g clip-path=\"url(#pe9f5096080)\">\n     <!-- $\\mathrm{R}_\\mathrm{Y}$ -->\n     <g transform=\"translate(262.298376 179.069515)scale(0.13 -0.13)\">\n      <use transform=\"translate(0 0.09375)\" xlink:href=\"#DejaVuSans-82\"/>\n      <use transform=\"translate(70.439453 -16.3125)scale(0.7)\" xlink:href=\"#DejaVuSans-89\"/>\n     </g>\n    </g>\n   </g>\n   <g id=\"text_8\">\n    <g clip-path=\"url(#pe9f5096080)\">\n     <!-- c -->\n     <g transform=\"translate(267.639001 190.984245)scale(0.08 -0.08)\">\n      <defs>\n       <path d=\"M 48.78125 52.59375 \nL 48.78125 44.1875 \nQ 44.96875 46.296875 41.140625 47.34375 \nQ 37.3125 48.390625 33.40625 48.390625 \nQ 24.65625 48.390625 19.8125 42.84375 \nQ 14.984375 37.3125 14.984375 27.296875 \nQ 14.984375 17.28125 19.8125 11.734375 \nQ 24.65625 6.203125 33.40625 6.203125 \nQ 37.3125 6.203125 41.140625 7.25 \nQ 44.96875 8.296875 48.78125 10.40625 \nL 48.78125 2.09375 \nQ 45.015625 0.34375 40.984375 -0.53125 \nQ 36.96875 -1.421875 32.421875 -1.421875 \nQ 20.0625 -1.421875 12.78125 6.34375 \nQ 5.515625 14.109375 5.515625 27.296875 \nQ 5.515625 40.671875 12.859375 48.328125 \nQ 20.21875 56 33.015625 56 \nQ 37.15625 56 41.109375 55.140625 \nQ 45.0625 54.296875 48.78125 52.59375 \nz\n\" id=\"DejaVuSans-99\"/>\n      </defs>\n      <use xlink:href=\"#DejaVuSans-99\"/>\n     </g>\n    </g>\n   </g>\n   <g id=\"text_9\">\n    <g clip-path=\"url(#pe9f5096080)\">\n     <!-- 0 -->\n     <g transform=\"translate(372.103126 218.656825)scale(0.104 -0.104)\">\n      <defs>\n       <path d=\"M 31.78125 66.40625 \nQ 24.171875 66.40625 20.328125 58.90625 \nQ 16.5 51.421875 16.5 36.375 \nQ 16.5 21.390625 20.328125 13.890625 \nQ 24.171875 6.390625 31.78125 6.390625 \nQ 39.453125 6.390625 43.28125 13.890625 \nQ 47.125 21.390625 47.125 36.375 \nQ 47.125 51.421875 43.28125 58.90625 \nQ 39.453125 66.40625 31.78125 66.40625 \nz\nM 31.78125 74.21875 \nQ 44.046875 74.21875 50.515625 64.515625 \nQ 56.984375 54.828125 56.984375 36.375 \nQ 56.984375 17.96875 50.515625 8.265625 \nQ 44.046875 -1.421875 31.78125 -1.421875 \nQ 19.53125 -1.421875 13.0625 8.265625 \nQ 6.59375 17.96875 6.59375 36.375 \nQ 6.59375 54.828125 13.0625 64.515625 \nQ 19.53125 74.21875 31.78125 74.21875 \nz\n\" id=\"DejaVuSans-48\"/>\n      </defs>\n      <use xlink:href=\"#DejaVuSans-48\"/>\n     </g>\n    </g>\n   </g>\n   <g id=\"text_10\">\n    <g clip-path=\"url(#pe9f5096080)\">\n     <!-- 1 -->\n     <g transform=\"translate(417.554126 218.656825)scale(0.104 -0.104)\">\n      <defs>\n       <path d=\"M 12.40625 8.296875 \nL 28.515625 8.296875 \nL 28.515625 63.921875 \nL 10.984375 60.40625 \nL 10.984375 69.390625 \nL 28.421875 72.90625 \nL 38.28125 72.90625 \nL 38.28125 8.296875 \nL 54.390625 8.296875 \nL 54.390625 0 \nL 12.40625 0 \nz\n\" id=\"DejaVuSans-49\"/>\n      </defs>\n      <use xlink:href=\"#DejaVuSans-49\"/>\n     </g>\n    </g>\n   </g>\n   <g id=\"text_11\">\n    <g clip-path=\"url(#pe9f5096080)\">\n     <!-- 2 -->\n     <g transform=\"translate(463.005126 218.656825)scale(0.104 -0.104)\">\n      <defs>\n       <path d=\"M 19.1875 8.296875 \nL 53.609375 8.296875 \nL 53.609375 0 \nL 7.328125 0 \nL 7.328125 8.296875 \nQ 12.9375 14.109375 22.625 23.890625 \nQ 32.328125 33.6875 34.8125 36.53125 \nQ 39.546875 41.84375 41.421875 45.53125 \nQ 43.3125 49.21875 43.3125 52.78125 \nQ 43.3125 58.59375 39.234375 62.25 \nQ 35.15625 65.921875 28.609375 65.921875 \nQ 23.96875 65.921875 18.8125 64.3125 \nQ 13.671875 62.703125 7.8125 59.421875 \nL 7.8125 69.390625 \nQ 13.765625 71.78125 18.9375 73 \nQ 24.125 74.21875 28.421875 74.21875 \nQ 39.75 74.21875 46.484375 68.546875 \nQ 53.21875 62.890625 53.21875 53.421875 \nQ 53.21875 48.921875 51.53125 44.890625 \nQ 49.859375 40.875 45.40625 35.40625 \nQ 44.1875 33.984375 37.640625 27.21875 \nQ 31.109375 20.453125 19.1875 8.296875 \nz\n\" id=\"DejaVuSans-50\"/>\n      </defs>\n      <use xlink:href=\"#DejaVuSans-50\"/>\n     </g>\n    </g>\n   </g>\n   <g id=\"text_12\">\n    <g clip-path=\"url(#pe9f5096080)\">\n     <!-- 3 -->\n     <g transform=\"translate(508.456126 218.656825)scale(0.104 -0.104)\">\n      <defs>\n       <path d=\"M 40.578125 39.3125 \nQ 47.65625 37.796875 51.625 33 \nQ 55.609375 28.21875 55.609375 21.1875 \nQ 55.609375 10.40625 48.1875 4.484375 \nQ 40.765625 -1.421875 27.09375 -1.421875 \nQ 22.515625 -1.421875 17.65625 -0.515625 \nQ 12.796875 0.390625 7.625 2.203125 \nL 7.625 11.71875 \nQ 11.71875 9.328125 16.59375 8.109375 \nQ 21.484375 6.890625 26.8125 6.890625 \nQ 36.078125 6.890625 40.9375 10.546875 \nQ 45.796875 14.203125 45.796875 21.1875 \nQ 45.796875 27.640625 41.28125 31.265625 \nQ 36.765625 34.90625 28.71875 34.90625 \nL 20.21875 34.90625 \nL 20.21875 43.015625 \nL 29.109375 43.015625 \nQ 36.375 43.015625 40.234375 45.921875 \nQ 44.09375 48.828125 44.09375 54.296875 \nQ 44.09375 59.90625 40.109375 62.90625 \nQ 36.140625 65.921875 28.71875 65.921875 \nQ 24.65625 65.921875 20.015625 65.03125 \nQ 15.375 64.15625 9.8125 62.3125 \nL 9.8125 71.09375 \nQ 15.4375 72.65625 20.34375 73.4375 \nQ 25.25 74.21875 29.59375 74.21875 \nQ 40.828125 74.21875 47.359375 69.109375 \nQ 53.90625 64.015625 53.90625 55.328125 \nQ 53.90625 49.265625 50.4375 45.09375 \nQ 46.96875 40.921875 40.578125 39.3125 \nz\n\" id=\"DejaVuSans-51\"/>\n      </defs>\n      <use xlink:href=\"#DejaVuSans-51\"/>\n     </g>\n    </g>\n   </g>\n   <g id=\"text_13\">\n    <g clip-path=\"url(#pe9f5096080)\">\n     <!-- ${q}_{0}$ -->\n     <g transform=\"translate(36.363136 48.011777)scale(0.1625 -0.1625)\">\n      <defs>\n       <path d=\"M 41.703125 8.203125 \nQ 38.09375 3.46875 33.171875 1.015625 \nQ 28.265625 -1.421875 22.3125 -1.421875 \nQ 14.015625 -1.421875 9.296875 4.171875 \nQ 4.59375 9.765625 4.59375 19.578125 \nQ 4.59375 27.484375 7.5 34.859375 \nQ 10.40625 42.234375 15.828125 48.09375 \nQ 19.34375 51.90625 23.90625 53.953125 \nQ 28.46875 56 33.5 56 \nQ 39.546875 56 43.453125 53.609375 \nQ 47.359375 51.21875 49.125 46.390625 \nL 50.6875 54.59375 \nL 59.71875 54.59375 \nL 45.125 -20.609375 \nL 36.078125 -20.609375 \nz\nM 13.921875 20.90625 \nQ 13.921875 13.671875 16.9375 9.890625 \nQ 19.96875 6.109375 25.6875 6.109375 \nQ 34.1875 6.109375 40.1875 14.234375 \nQ 46.1875 22.359375 46.1875 33.984375 \nQ 46.1875 41.015625 43.078125 44.75 \nQ 39.984375 48.484375 34.1875 48.484375 \nQ 29.9375 48.484375 26.3125 46.5 \nQ 22.703125 44.53125 20.015625 40.71875 \nQ 17.1875 36.71875 15.546875 31.34375 \nQ 13.921875 25.984375 13.921875 20.90625 \nz\n\" id=\"DejaVuSans-Oblique-113\"/>\n      </defs>\n      <use xlink:href=\"#DejaVuSans-Oblique-113\"/>\n      <use transform=\"translate(63.476562 -16.40625)scale(0.7)\" xlink:href=\"#DejaVuSans-48\"/>\n     </g>\n    </g>\n   </g>\n   <g id=\"text_14\">\n    <g clip-path=\"url(#pe9f5096080)\">\n     <!-- ${q}_{1}$ -->\n     <g transform=\"translate(36.363136 93.462777)scale(0.1625 -0.1625)\">\n      <use xlink:href=\"#DejaVuSans-Oblique-113\"/>\n      <use transform=\"translate(63.476562 -16.40625)scale(0.7)\" xlink:href=\"#DejaVuSans-49\"/>\n     </g>\n    </g>\n   </g>\n   <g id=\"text_15\">\n    <g clip-path=\"url(#pe9f5096080)\">\n     <!-- ${q}_{2}$ -->\n     <g transform=\"translate(36.363136 138.913777)scale(0.1625 -0.1625)\">\n      <use xlink:href=\"#DejaVuSans-Oblique-113\"/>\n      <use transform=\"translate(63.476562 -16.40625)scale(0.7)\" xlink:href=\"#DejaVuSans-50\"/>\n     </g>\n    </g>\n   </g>\n   <g id=\"text_16\">\n    <g clip-path=\"url(#pe9f5096080)\">\n     <!-- ${q}_{3}$ -->\n     <g transform=\"translate(36.363136 184.364777)scale(0.1625 -0.1625)\">\n      <use xlink:href=\"#DejaVuSans-Oblique-113\"/>\n      <use transform=\"translate(63.476562 -16.40625)scale(0.7)\" xlink:href=\"#DejaVuSans-51\"/>\n     </g>\n    </g>\n   </g>\n   <g id=\"text_17\">\n    <g clip-path=\"url(#pe9f5096080)\">\n     <!-- 4 -->\n     <g transform=\"translate(68.035936 218.656825)scale(0.104 -0.104)\">\n      <defs>\n       <path d=\"M 37.796875 64.3125 \nL 12.890625 25.390625 \nL 37.796875 25.390625 \nz\nM 35.203125 72.90625 \nL 47.609375 72.90625 \nL 47.609375 25.390625 \nL 58.015625 25.390625 \nL 58.015625 17.1875 \nL 47.609375 17.1875 \nL 47.609375 0 \nL 37.796875 0 \nL 37.796875 17.1875 \nL 4.890625 17.1875 \nL 4.890625 26.703125 \nz\n\" id=\"DejaVuSans-52\"/>\n      </defs>\n      <use xlink:href=\"#DejaVuSans-52\"/>\n     </g>\n    </g>\n   </g>\n   <g id=\"text_18\">\n    <g clip-path=\"url(#pe9f5096080)\">\n     <!-- c -->\n     <g transform=\"translate(45.465675 229.848784)scale(0.1625 -0.1625)\">\n      <use xlink:href=\"#DejaVuSans-99\"/>\n     </g>\n    </g>\n   </g>\n  </g>\n </g>\n <defs>\n  <clipPath id=\"pe9f5096080\">\n   <rect height=\"245.4354\" width=\"519.891036\" x=\"7.2\" y=\"7.2\"/>\n  </clipPath>\n </defs>\n</svg>\n",
      "image/png": "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\n"
     },
     "metadata": {},
     "execution_count": 60
    }
   ],
   "source": [
    "i = 1\n",
    "eval_circuits[i].draw('mpl')"
   ]
  },
  {
   "cell_type": "markdown",
   "metadata": {},
   "source": [
    "### Execution\n",
    "The ultimate goal to the execution of a circuit is to get the number of times each basis state is measured. Let's execute our `eval_circuits`. We can run many `QuantumCircuit`s at the same time by placing them into a `list`, which they already are!"
   ]
  },
  {
   "cell_type": "code",
   "execution_count": 22,
   "metadata": {},
   "outputs": [],
   "source": [
    "execute_opts = {'shots' : 1024}\n",
    "job = execute(eval_circuits,backend=qasm_simulator,**execute_opts)\n",
    "result = job.result()"
   ]
  },
  {
   "cell_type": "markdown",
   "metadata": {},
   "source": [
    "We can get the number of counts of each state for the execution of a given circuit with the follow lines. The counts are returned as a `dict`."
   ]
  },
  {
   "cell_type": "code",
   "execution_count": 23,
   "metadata": {
    "scrolled": true
   },
   "outputs": [
    {
     "name": "stdout",
     "output_type": "stream",
     "text": [
      "{'0000': 252, '0001': 254, '0100': 260, '0101': 258}\n"
     ]
    }
   ],
   "source": [
    "i = 0\n",
    "#i = 1\n",
    "counts = result.get_counts(eval_circuits[i])\n",
    "print(counts)"
   ]
  },
  {
   "cell_type": "markdown",
   "metadata": {},
   "source": [
    "If you `eval_circuits` are correct, you should get for, `i = 0` and `i = 1` respectively, something like this (exact value may vary since there is some randomness in the executation of a quantum circuit)\n",
    "\n",
    "<code>\n",
    "{'0000': 266, '0001': 262, '0100': 240, '0101': 256}<br>{'0101': 1024}  \n",
    "</code>"
   ]
  },
  {
   "cell_type": "markdown",
   "metadata": {},
   "source": [
    "### counts2array\n",
    "\n",
    "We will transform this `dict` into an array with the `counts2array` method.  Implement this method that will return the vector $N_q$. Be mindful of the order of the basis state.\n",
    "\n",
    "\\begin{align}\n",
    "    0000, 0001, 0010, \\ldots, 1110, 1111 \n",
    "\\end{align}\n",
    "\n",
    "**optional remark** While doing this will allow us to interpret the counts with a simple inner product, this implies creating an array of size $2^n$ where $n$ is the numbers of qubits. This might not be such a good idea for larger systems and the use of a `dict` might be more appropriate. Can you interpret the counts efficiently while keeping them into a `dict`?"
   ]
  },
  {
   "cell_type": "code",
   "execution_count": 24,
   "metadata": {},
   "outputs": [
    {
     "data": {
      "text/plain": [
       "array([252, 254,   0,   0, 260, 258,   0,   0,   0,   0,   0,   0,   0,\n",
       "         0,   0,   0])"
      ]
     },
     "execution_count": 24,
     "metadata": {},
     "output_type": "execute_result"
    }
   ],
   "source": [
    "%autoreload\n",
    "i = 0\n",
    "counts = result.get_counts(eval_circuits[i])\n",
    "evaluator.counts2array(counts)"
   ]
  },
  {
   "cell_type": "markdown",
   "metadata": {},
   "source": [
    "For `i=0` in particular you should get something similar to:\n",
    "\n",
    "<code>\n",
    "array([228., 276.,   0.,   0., 269., 251.,   0.,   0.,   0.,   0.,   0.,   0.,   0.,   0.,   0.,   0.])\n",
    "</code>"
   ]
  },
  {
   "cell_type": "markdown",
   "metadata": {},
   "source": [
    "### Interpret counts\n",
    "The action of interpreting the counts is actually the task of estimating the expectation value of a `PauliString` an multiplying by the coefficient associated with this `PauliString` in the LCPS. Implemented the `interpret_count_array` method that should return an array with the values for this expression.\n",
    "\n",
    "\\begin{align}\n",
    "    h_i \\langle \\hat{\\mathcal{P}}_i \\rangle = \\frac{h_i}{N_\\text{tot}}\\sum_{q} N_q \\Lambda_q^{(\\hat{\\mathcal{P}}_i)}\n",
    "\\end{align}"
   ]
  },
  {
   "cell_type": "code",
   "execution_count": 25,
   "metadata": {},
   "outputs": [
    {
     "name": "stdout",
     "output_type": "stream",
     "text": [
      "(-1+0j)\n"
     ]
    }
   ],
   "source": [
    "%autoreload\n",
    "i = 1\n",
    "counts_array = evaluator.counts2array(result.get_counts(eval_circuits[i]))\n",
    "interpreter = evaluator.interpreters[i]\n",
    "expected_value = evaluator.interpret_count_array(interpreter,counts_array)\n",
    "print(expected_value)"
   ]
  },
  {
   "cell_type": "markdown",
   "metadata": {},
   "source": [
    "You should get something close to `0` for the first one and `-1` for the second."
   ]
  },
  {
   "cell_type": "markdown",
   "metadata": {},
   "source": [
    "### Evaluation\n",
    "You have now all the pieces to complete the `eval(params)` method. This method should use all the methods you've implemented since the section *Methods called inside `eval(params)`* and then sum all the interpreted values. Mathematicaly, it should return the value of the expression\n",
    "\n",
    "\\begin{align}\n",
    "    E(\\boldsymbol{\\theta}) = \\sum_i h_i \\langle\\psi(\\boldsymbol{\\theta}) | \\hat{\\mathcal{P}}_i | \\psi(\\boldsymbol{\\theta}) \\rangle.\n",
    "\\end{align}"
   ]
  },
  {
   "cell_type": "code",
   "execution_count": 26,
   "metadata": {},
   "outputs": [
    {
     "name": "stdout",
     "output_type": "stream",
     "text": [
      "-1.09765625\n"
     ]
    }
   ],
   "source": [
    "%autoreload\n",
    "lcps = 2*PauliString.from_str('ZXZX') + 1*PauliString.from_str('IIZZ')\n",
    "varform = varform_4qubits_1param\n",
    "backend = qasm_simulator\n",
    "execute_opts = {'shots' : 1024}\n",
    "evaluator = BasicEvaluator(varform,backend,execute_opts = execute_opts)\n",
    "evaluator.set_linear_combinaison_pauli_string(lcps)\n",
    "params = [0,]\n",
    "expected_value = evaluator.eval(params)\n",
    "print(expected_value)"
   ]
  },
  {
   "cell_type": "markdown",
   "metadata": {},
   "source": [
    "Yes that's right, your code now returns an estimate of the expression\n",
    "\n",
    "\\begin{align}\n",
    "    E(\\theta) = \\langle \\psi(\\theta) | \\hat{\\mathcal{H}} | \\psi(\\theta) \\rangle.\n",
    "\\end{align} \n",
    "\n",
    "for\n",
    "\n",
    "\\begin{align}\n",
    "    \\hat{\\mathcal{H}} = 2\\times \\hat{Z}\\hat{X}\\hat{Z}\\hat{X} + 1\\times \\hat{I}\\hat{I}\\hat{Z}\\hat{Z}\n",
    "\\end{align} \n",
    "\n",
    "and the varform `varform_4qubits_1param` for $\\theta = 0$. The `evaluator.eval(params)` is now a method you can call like a function and it will return the energy $E(\\theta)$.\n",
    "\n",
    "Now comes the time to test this on the $\\text{H}_2$ molecule Hamiltonian!"
   ]
  },
  {
   "cell_type": "markdown",
   "metadata": {},
   "source": [
    "## The Hamiltonian evaluation test\n",
    "\n",
    "We will now import the classes from the previous activity."
   ]
  },
  {
   "cell_type": "code",
   "execution_count": 27,
   "metadata": {},
   "outputs": [],
   "source": [
    "from hamiltonian import MolecularFermionicHamiltonian\n",
    "from Mapping import JordanWigner"
   ]
  },
  {
   "cell_type": "markdown",
   "metadata": {},
   "source": [
    "For ease of use we will import the integral values instead of using `pyscf`. We also import the Coulomb repulsion energy for later use. By now we are experts in building the Hamiltonian."
   ]
  },
  {
   "cell_type": "code",
   "execution_count": 28,
   "metadata": {},
   "outputs": [],
   "source": [
    "with open('Integrals_sto-3g_H2_d_0.7350_no_spin.npz','rb') as f:\n",
    "    out = np.load(f)\n",
    "    h1_load_no_spin = out['h1']\n",
    "    h2_load_no_spin = out['h2']\n",
    "    energy_nuc =  out['energy_nuc']\n",
    "    \n",
    "molecular_hamiltonian = MolecularFermionicHamiltonian.from_integrals(h1_load_no_spin,h2_load_no_spin).include_spin()"
   ]
  },
  {
   "cell_type": "markdown",
   "metadata": {},
   "source": [
    "We use the Jordan-Wigner mapping to the get the `LCPS` for the H2 molecule with `d=0.735`. "
   ]
  },
  {
   "cell_type": "code",
   "execution_count": 29,
   "metadata": {},
   "outputs": [
    {
     "name": "stdout",
     "output_type": "stream",
     "text": [
      "15 pauli strings for 4 qubits (Real, Imaginary)\n",
      "IIII (-0.81055,+0.00000)\n",
      "XXXX (+0.04523,+0.00000)\n",
      "ZIII (-0.22575,+0.00000)\n",
      "IZII (+0.17218,+0.00000)\n",
      "ZZII (+0.12091,+0.00000)\n",
      "YYXX (+0.04523,+0.00000)\n",
      "IIZI (-0.22575,+0.00000)\n",
      "ZIZI (+0.17464,+0.00000)\n",
      "IZZI (+0.16615,+0.00000)\n",
      "IIIZ (+0.17218,+0.00000)\n",
      "ZIIZ (+0.16615,+0.00000)\n",
      "IZIZ (+0.16893,+0.00000)\n",
      "IIZZ (+0.12091,+0.00000)\n",
      "XXYY (+0.04523,+0.00000)\n",
      "YYYY (+0.04523,+0.00000)\n"
     ]
    }
   ],
   "source": [
    "%autoreload\n",
    "mapping = JordanWigner()\n",
    "lcps_h2 = mapping.fermionic_hamiltonian_to_linear_combinaison_pauli_string(molecular_hamiltonian).sort()\n",
    "lcps_h2 = lcps_h2.apply_threshold().combine().apply_threshold().sort()\n",
    "print(lcps_h2)"
   ]
  },
  {
   "cell_type": "markdown",
   "metadata": {},
   "source": [
    "We build an evaluator and feed it the `LCPS` of H2. And them we evaluate the energy. Use `params` in order that your `varform` prepares the state $|0101\\rangle$."
   ]
  },
  {
   "cell_type": "code",
   "execution_count": 30,
   "metadata": {},
   "outputs": [
    {
     "name": "stdout",
     "output_type": "stream",
     "text": [
      "-1.8348918763617106\n"
     ]
    }
   ],
   "source": [
    "%autoreload\n",
    "varform = varform_4qubits_1param\n",
    "backend = qasm_simulator\n",
    "execute_opts = {'shots' : 2048}\n",
    "evaluator = BasicEvaluator(varform,backend,execute_opts = execute_opts)\n",
    "evaluator.set_linear_combinaison_pauli_string(lcps_h2)\n",
    "params = [0,]\n",
    "expected_value = evaluator.eval(params)\n",
    "print(expected_value)"
   ]
  },
  {
   "cell_type": "markdown",
   "metadata": {},
   "source": [
    "If your `varform` prepares the state $|0101\\rangle$, you should get something around `-1.83`. This energy is already close to the ground state energy because the ground state is close to $|0101\\rangle$, but still it's not the ground state. We need to find the `params` that will minimise the energy.\n",
    "\n",
    "\\begin{align}\n",
    "    E_0 = \\min_{\\boldsymbol{\\theta}} E(\\boldsymbol{\\theta})\n",
    "\\end{align}"
   ]
  },
  {
   "cell_type": "markdown",
   "metadata": {},
   "source": [
    "# Solver\n",
    "\n",
    "In a final step we need to implement a solver that will try to find the minimal energy. We will implement 2 solvers. The second is optionnal.\n",
    "- First the one using the VQE algo in conjunction with a minimizer to try to minimize `evaluator.eval(params)`.\n",
    "- Next we will make use of the `to_matrix()` method you implemented in the previous activity to find the exact value/solution.\n",
    "\n",
    "## VQE Solver\n",
    "\n",
    "Like any minimzation process this solver will need a couple of ingredients :\n",
    "- A function to minimize, we will provide this with the evaluator\n",
    "- A minimizer, an algorithm that generaly takes in a function and a set of starting parameters and returns the best guess for the optimal parameters that correspond to the minimal value of the function to minimize.\n",
    "- A set of starting parameters.\n",
    "\n",
    "### Minimizer\n",
    "\n",
    "A minimizer that works OK for the VQE algorithme is the  Sequential Least SQuares Programming (SLSQP) algorithm. It's available in the `minimize` sub-module of [scipy](https://docs.scipy.org/doc/scipy/reference/optimize.minimize-slsqp.html)."
   ]
  },
  {
   "cell_type": "code",
   "execution_count": 31,
   "metadata": {},
   "outputs": [],
   "source": [
    "from scipy.optimize import minimize"
   ]
  },
  {
   "cell_type": "markdown",
   "metadata": {},
   "source": [
    "We will make a Lambda function with the minimizer so we can set all sorts of parameter before feeding it to the solver."
   ]
  },
  {
   "cell_type": "code",
   "execution_count": 32,
   "metadata": {},
   "outputs": [],
   "source": [
    "minimizer = lambda fct, start_param_values : minimize(\n",
    "    fct,\n",
    "    start_param_values,\n",
    "    method = 'SLSQP', \n",
    "    options = {'maxiter' : 5,'eps' : 1e-1, 'ftol' : 1e-4, 'disp' : True, 'iprint' : 2})"
   ]
  },
  {
   "cell_type": "markdown",
   "metadata": {},
   "source": [
    "The `minimizer` now takes only 2 arguments : the function and the starting parameters values. We also specify some options :\n",
    "- A small value for the maximum number of iteration. You will find that running the VQE algorithm is expansive because of the `evaluator.eval(params)` method. Either it's long to simulate on `qasm_simulator` or because it's running on an actual quantum computer.\n",
    "- A `eps` of `0.1`. This is the size of the step the algorithm is going to change the values of the parameters to try to estimate the slope of the function. By the way, a lot of minimizing algorithms use the slope of the function to know in which direction is the minimum. Since our parameters are all angles in radians a value of 0.1 seems reasonnable. Play with this value if you like.\n",
    "- A `ftol` value of `1e-4`. This is the goal for the precision of the value of the minimum value. The chemical accuracy is around 1 milli-Hartree.\n",
    "- We set `iprint` to `2` so see what is going on. For your final implementation you can set this to `0`.\n",
    "\n",
    "Before implementing the `VQESolver` let's try this minimizer! The function is `evaluator.eval` and we start with a parameter of `0`. This will take a while."
   ]
  },
  {
   "cell_type": "code",
   "execution_count": 33,
   "metadata": {},
   "outputs": [
    {
     "name": "stdout",
     "output_type": "stream",
     "text": [
      "  NIT    FC           OBJFUN            GNORM\n",
      "    1     3    -1.860198E+00     2.258903E-01\n",
      "    2     5    -1.856566E+00     6.008188E-02\n",
      "Optimization terminated successfully    (Exit mode 0)\n",
      "            Current function value: -1.8607639374008176\n",
      "            Iterations: 2\n",
      "            Function evaluations: 10\n",
      "            Gradient evaluations: 2\n"
     ]
    }
   ],
   "source": [
    "minimization_result = minimizer(evaluator.eval,[0,])"
   ]
  },
  {
   "cell_type": "markdown",
   "metadata": {},
   "source": [
    "In the end you should get an minimal energy around `1.86` Hartree. Which is a bit smaller then what we had before minimizing. You can explore the `minimization_result` to retreive this value but also the set of optimal parameters."
   ]
  },
  {
   "cell_type": "code",
   "execution_count": 34,
   "metadata": {},
   "outputs": [
    {
     "name": "stdout",
     "output_type": "stream",
     "text": [
      "[-0.22588923]\n",
      "-1.8607639374008176\n"
     ]
    }
   ],
   "source": [
    "opt_params = minimization_result.x\n",
    "opt_value = minimization_result.fun\n",
    "print(opt_params)\n",
    "print(opt_value)"
   ]
  },
  {
   "cell_type": "markdown",
   "metadata": {},
   "source": [
    "### VQE Solver\n",
    "\n",
    "Now you should be in good position to implement the `lowest_eig_value(lcps)` of the `VQESolver` class inside the `Solve.py` file. Test your method here."
   ]
  },
  {
   "cell_type": "code",
   "execution_count": 35,
   "metadata": {},
   "outputs": [],
   "source": [
    "from solver import VQESolver"
   ]
  },
  {
   "cell_type": "code",
   "execution_count": 36,
   "metadata": {},
   "outputs": [
    {
     "name": "stdout",
     "output_type": "stream",
     "text": [
      "  NIT    FC           OBJFUN            GNORM\n",
      "    1     3    -1.861185E+00     2.416190E-01\n",
      "    2     5    -1.859434E+00     4.604415E-02\n",
      "Optimization terminated successfully    (Exit mode 0)\n",
      "            Current function value: -1.8550614156690448\n",
      "            Iterations: 2\n",
      "            Function evaluations: 15\n",
      "            Gradient evaluations: 2\n"
     ]
    }
   ],
   "source": [
    "%autoreload\n",
    "vqe_solver = VQESolver(evaluator,minimizer,[0,],name = 'vqe_solver')\n",
    "opt_value, opt_params = vqe_solver.lowest_eig_value(lcps_h2)"
   ]
  },
  {
   "cell_type": "markdown",
   "metadata": {},
   "source": [
    "The is only one thing missing to have the complete molecular energy : the Coulomb repulsion energy from the nucleus. This value was loaded when we imported the integrals. Let's add it to the electronic energy."
   ]
  },
  {
   "cell_type": "code",
   "execution_count": 37,
   "metadata": {},
   "outputs": [
    {
     "name": "stdout",
     "output_type": "stream",
     "text": [
      "Ground state position estimate (vqe) :  [-0.241619]\n",
      "Ground state energy estimate (electronic, vqe) :  -1.8550614156690448\n",
      "Ground state energy estimate (molecular, vqe) :  -1.1350924212200653\n"
     ]
    }
   ],
   "source": [
    "print('Ground state position estimate (vqe) : ',opt_params)\n",
    "print('Ground state energy estimate (electronic, vqe) : ',opt_value)\n",
    "print('Ground state energy estimate (molecular, vqe) : ',opt_value + energy_nuc)"
   ]
  },
  {
   "cell_type": "markdown",
   "metadata": {},
   "source": [
    "### The Eigenstate\n",
    "\n",
    "What is the eigenstate? We can partially find out by using the `varform` with the parameters we have found and measure everything in the Z basis."
   ]
  },
  {
   "cell_type": "code",
   "execution_count": 38,
   "metadata": {},
   "outputs": [
    {
     "data": {
      "image/png": "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\n",
      "text/plain": [
       "<Figure size 779.079x325.08 with 1 Axes>"
      ]
     },
     "execution_count": 38,
     "metadata": {},
     "output_type": "execute_result"
    }
   ],
   "source": [
    "eigenstate_qc = varform.copy()\n",
    "eigenstate_qc.measure_all()\n",
    "\n",
    "param_dict = dict(zip(eigenstate_qc.parameters,opt_params))\n",
    "eigenstate_qc = eigenstate_qc.assign_parameters(param_dict)\n",
    "\n",
    "eigenstate_qc.draw('mpl')"
   ]
  },
  {
   "cell_type": "markdown",
   "metadata": {},
   "source": [
    "We now execute this circuit."
   ]
  },
  {
   "cell_type": "code",
   "execution_count": 39,
   "metadata": {},
   "outputs": [],
   "source": [
    "execute_opts = {'shots' : 1024}\n",
    "job = execute(eigenstate_qc,backend=qasm_simulator,**execute_opts)\n",
    "result = job.result()\n",
    "counts = result.get_counts(eigenstate_qc)"
   ]
  },
  {
   "cell_type": "markdown",
   "metadata": {},
   "source": [
    "We will use the `plot_histogram` method from `qiskit.visualization` that takes the counts `dict` as an input. "
   ]
  },
  {
   "cell_type": "code",
   "execution_count": 40,
   "metadata": {},
   "outputs": [],
   "source": [
    "from qiskit.visualization import plot_histogram"
   ]
  },
  {
   "cell_type": "code",
   "execution_count": 41,
   "metadata": {},
   "outputs": [
    {
     "data": {
      "image/png": "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\n",
      "text/plain": [
       "<Figure size 504x360 with 1 Axes>"
      ]
     },
     "execution_count": 41,
     "metadata": {},
     "output_type": "execute_result"
    }
   ],
   "source": [
    "plot_histogram(counts)"
   ]
  },
  {
   "cell_type": "markdown",
   "metadata": {},
   "source": [
    "We see that the found solution is mostly the state $|0101\\rangle$ which is the Hartree-Fock solution when the 2-body Hamiltonian is not present. Adding this 2-body physics, shifts the energy down a bit by introducing a small contribution of $|1010\\rangle$. The actual statevector has a `-` sign between these two states.\n",
    "\n",
    "\\begin{align}\n",
    "\\alpha_{0101}|0101\\rangle - \\alpha_{1010}|0101\\rangle\n",
    "\\end{align}\n",
    "\n",
    "But this is not something we can know from this. Fortunatly, H2 is a small system which can be solved exactly and we can find out this phase."
   ]
  },
  {
   "cell_type": "markdown",
   "metadata": {},
   "source": [
    "## Exact Solver (optional)\n",
    "\n",
    "If you want to compare the value you get with the VQE algorithm it would be nice to have the exact value. If you were able to implement the `to_matrix()` method for `PauliString` and `LinearCombinaisonPauliString` then you can find the exact value of the ground state. All you need is to diagonalise the matrix reprensenting the whole Hamiltonian and find the lowest eigenvalue! Obviously this will not be possible to do for very large systems."
   ]
  },
  {
   "cell_type": "code",
   "execution_count": 42,
   "metadata": {},
   "outputs": [
    {
     "name": "stdout",
     "output_type": "stream",
     "text": [
      "Ground state vector (exact) :  [-0.        -0.j -0.        -0.j -0.        -0.j -0.        -0.j\n",
      " -0.        -0.j -0.9937604 -0.j  0.        +0.j  0.        +0.j\n",
      "  0.        +0.j  0.        +0.j  0.11153594+0.j  0.        +0.j\n",
      "  0.        +0.j  0.        +0.j  0.        +0.j  0.        +0.j]\n",
      "Ground state energy (electronic, exact) :  -1.8572750302023802\n",
      "Ground state energy (molecular, exact) :  -1.1373060357534004\n"
     ]
    }
   ],
   "source": [
    "hamiltonian_matrix_h2 = lcps_h2.to_matrix()\n",
    "eig_values, eig_vectors = np.linalg.eigh(hamiltonian_matrix_h2)\n",
    "eig_order = np.argsort(eig_values)\n",
    "eig_values = eig_values[eig_order]\n",
    "eig_vectors = eig_vectors[:,eig_order]\n",
    "ground_state_value, ground_state_vector = eig_values[0], eig_vectors[:,0]\n",
    "print('Ground state vector (exact) : ', ground_state_vector)\n",
    "print('Ground state energy (electronic, exact) : ', ground_state_value)\n",
    "print('Ground state energy (molecular, exact) : ', ground_state_value + energy_nuc)"
   ]
  },
  {
   "cell_type": "markdown",
   "metadata": {},
   "source": [
    "Now you can complete the `ExactSolver` in the `Solver.py` file."
   ]
  },
  {
   "cell_type": "code",
   "execution_count": 43,
   "metadata": {},
   "outputs": [],
   "source": [
    "from solver import ExactSolver"
   ]
  },
  {
   "cell_type": "code",
   "execution_count": 44,
   "metadata": {},
   "outputs": [
    {
     "name": "stdout",
     "output_type": "stream",
     "text": [
      "Ground state vector (exact) :  [-0.        -0.j -0.        -0.j -0.        -0.j -0.        -0.j\n",
      " -0.        -0.j -0.9937604 -0.j  0.        +0.j  0.        +0.j\n",
      "  0.        +0.j  0.        +0.j  0.11153594+0.j  0.        +0.j\n",
      "  0.        +0.j  0.        +0.j  0.        +0.j  0.        +0.j]\n",
      "Ground state energy (electronic, exact) :  -1.8572750302023802\n",
      "Ground state energy (molecular, exact) :  -1.1373060357534004\n"
     ]
    }
   ],
   "source": [
    "%autoreload\n",
    "exact_solver = ExactSolver()\n",
    "ground_state_value, ground_state_vector = exact_solver.lowest_eig_value(lcps_h2)\n",
    "print('Ground state vector (exact) : ', ground_state_vector)\n",
    "print('Ground state energy (electronic, exact) : ', ground_state_value)\n",
    "print('Ground state energy (molecular, exact) : ', ground_state_value + energy_nuc)"
   ]
  },
  {
   "cell_type": "markdown",
   "metadata": {},
   "source": [
    "What are the two basis state involved in the ground state? Let's plot the state vector using `matplotlib`."
   ]
  },
  {
   "cell_type": "code",
   "execution_count": 45,
   "metadata": {},
   "outputs": [],
   "source": [
    "import matplotlib.pyplot as plt"
   ]
  },
  {
   "cell_type": "code",
   "execution_count": 46,
   "metadata": {},
   "outputs": [
    {
     "data": {
      "image/png": "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\n",
      "text/plain": [
       "<Figure size 432x288 with 1 Axes>"
      ]
     },
     "metadata": {
      "needs_background": "light"
     },
     "output_type": "display_data"
    }
   ],
   "source": [
    "fig,ax = plt.subplots(1,1)\n",
    "i_max = np.argmax(np.abs(ground_state_vector))\n",
    "state = ground_state_vector * np.sign(ground_state_vector[i_max])\n",
    "ax.bar(range(len(state)),np.abs(state),color=(np.real(state) > 0).choose(['r','b']))\n",
    "plt.xticks(range(len(state)),[f\"{i:04b}\" for i in range(len(state))], size='small',rotation=60);"
   ]
  },
  {
   "cell_type": "markdown",
   "metadata": {},
   "source": [
    "# What's next?\n",
    "\n",
    "Now that you can find the ground state for a specific H2 molecule configuration (`d = 0.735`), you should be able to do that for many configurations, say `d = 0.2` to `2.5`. Doing that will enable you to plot the so-called dissociation curve : energy vs distance. Do not forget to include the Coulomb repulsion energy of the nucleus!\n",
    "\n",
    "You could also run your algorithm on a noisy backend, either a noisy simulator or a real quantum computer. You've already seen on day 1 how to set/get a noisy backend. You'll see that noise messes things up pretty bad.\n",
    "\n",
    "Running on real machine will introduce the problem of the qubit layout. You might want to change the `initial_layout` in the `execute_opts` so that your `varform` is not applying CNOT gates between qubits that are not connected. You know this needs to insert SWAP gate and this introduce more noise. Also covered in day 1.\n",
    "\n",
    "To limit the effect of readout noise, you could add a `measure_filter` to your `evaluator`, so that each time you execute the `eval_circuits` you apply the filter to the results. Also covered in day 1.\n",
    "\n",
    "Implement the simulatneous evaluation for bitwise commuting cliques or even for general commuting cliques."
   ]
  },
  {
   "cell_type": "markdown",
   "metadata": {},
   "source": [
    "Notebook by **Maxime Dion** <maxime.dion@usherbrooke.ca><br>\n",
    "For the QSciTech-QuantumBC virtual workshop on gate-based quantum computing"
   ]
  },
  {
   "cell_type": "code",
   "execution_count": 65,
   "metadata": {},
   "outputs": [],
   "source": [
    "from pyscf import gto\n",
    "from hamiltonian import MolecularFermionicHamiltonian"
   ]
  },
  {
   "cell_type": "code",
   "execution_count": 71,
   "metadata": {},
   "outputs": [
    {
     "ename": "ValueError",
     "evalue": "x and y must have same first dimension, but have shapes (230,) and (10,)",
     "output_type": "error",
     "traceback": [
      "\u001b[0;31m---------------------------------------------------------------------------\u001b[0m",
      "\u001b[0;31mValueError\u001b[0m                                Traceback (most recent call last)",
      "\u001b[0;32m<ipython-input-71-4e9188ba87f9>\u001b[0m in \u001b[0;36m<module>\u001b[0;34m\u001b[0m\n\u001b[1;32m     19\u001b[0m     \u001b[0mground_state_real_energies\u001b[0m\u001b[0;34m.\u001b[0m\u001b[0mappend\u001b[0m\u001b[0;34m(\u001b[0m\u001b[0mground_state_real_value\u001b[0m\u001b[0;34m+\u001b[0m\u001b[0menergy_nuc\u001b[0m\u001b[0;34m)\u001b[0m\u001b[0;34m\u001b[0m\u001b[0;34m\u001b[0m\u001b[0m\n\u001b[1;32m     20\u001b[0m \u001b[0;34m\u001b[0m\u001b[0m\n\u001b[0;32m---> 21\u001b[0;31m \u001b[0mplt\u001b[0m\u001b[0;34m.\u001b[0m\u001b[0mplot\u001b[0m\u001b[0;34m(\u001b[0m\u001b[0mdistance\u001b[0m\u001b[0;34m,\u001b[0m\u001b[0;34m(\u001b[0m\u001b[0mground_state_energies\u001b[0m\u001b[0;34m)\u001b[0m\u001b[0;34m)\u001b[0m\u001b[0;34m\u001b[0m\u001b[0;34m\u001b[0m\u001b[0m\n\u001b[0m\u001b[1;32m     22\u001b[0m     \u001b[0;31m#print('Ground state vector (exact) : ', ground_state_vector)\u001b[0m\u001b[0;34m\u001b[0m\u001b[0;34m\u001b[0m\u001b[0;34m\u001b[0m\u001b[0m\n\u001b[1;32m     23\u001b[0m     \u001b[0;31m#print(d)\u001b[0m\u001b[0;34m\u001b[0m\u001b[0;34m\u001b[0m\u001b[0;34m\u001b[0m\u001b[0m\n",
      "\u001b[0;32m~/anaco3/anaconda3/lib/python3.7/site-packages/matplotlib/pyplot.py\u001b[0m in \u001b[0;36mplot\u001b[0;34m(scalex, scaley, data, *args, **kwargs)\u001b[0m\n\u001b[1;32m   2793\u001b[0m     return gca().plot(\n\u001b[1;32m   2794\u001b[0m         *args, scalex=scalex, scaley=scaley, **({\"data\": data} if data\n\u001b[0;32m-> 2795\u001b[0;31m         is not None else {}), **kwargs)\n\u001b[0m\u001b[1;32m   2796\u001b[0m \u001b[0;34m\u001b[0m\u001b[0m\n\u001b[1;32m   2797\u001b[0m \u001b[0;34m\u001b[0m\u001b[0m\n",
      "\u001b[0;32m~/anaco3/anaconda3/lib/python3.7/site-packages/matplotlib/axes/_axes.py\u001b[0m in \u001b[0;36mplot\u001b[0;34m(self, scalex, scaley, data, *args, **kwargs)\u001b[0m\n\u001b[1;32m   1664\u001b[0m         \"\"\"\n\u001b[1;32m   1665\u001b[0m         \u001b[0mkwargs\u001b[0m \u001b[0;34m=\u001b[0m \u001b[0mcbook\u001b[0m\u001b[0;34m.\u001b[0m\u001b[0mnormalize_kwargs\u001b[0m\u001b[0;34m(\u001b[0m\u001b[0mkwargs\u001b[0m\u001b[0;34m,\u001b[0m \u001b[0mmlines\u001b[0m\u001b[0;34m.\u001b[0m\u001b[0mLine2D\u001b[0m\u001b[0;34m.\u001b[0m\u001b[0m_alias_map\u001b[0m\u001b[0;34m)\u001b[0m\u001b[0;34m\u001b[0m\u001b[0;34m\u001b[0m\u001b[0m\n\u001b[0;32m-> 1666\u001b[0;31m         \u001b[0mlines\u001b[0m \u001b[0;34m=\u001b[0m \u001b[0;34m[\u001b[0m\u001b[0;34m*\u001b[0m\u001b[0mself\u001b[0m\u001b[0;34m.\u001b[0m\u001b[0m_get_lines\u001b[0m\u001b[0;34m(\u001b[0m\u001b[0;34m*\u001b[0m\u001b[0margs\u001b[0m\u001b[0;34m,\u001b[0m \u001b[0mdata\u001b[0m\u001b[0;34m=\u001b[0m\u001b[0mdata\u001b[0m\u001b[0;34m,\u001b[0m \u001b[0;34m**\u001b[0m\u001b[0mkwargs\u001b[0m\u001b[0;34m)\u001b[0m\u001b[0;34m]\u001b[0m\u001b[0;34m\u001b[0m\u001b[0;34m\u001b[0m\u001b[0m\n\u001b[0m\u001b[1;32m   1667\u001b[0m         \u001b[0;32mfor\u001b[0m \u001b[0mline\u001b[0m \u001b[0;32min\u001b[0m \u001b[0mlines\u001b[0m\u001b[0;34m:\u001b[0m\u001b[0;34m\u001b[0m\u001b[0;34m\u001b[0m\u001b[0m\n\u001b[1;32m   1668\u001b[0m             \u001b[0mself\u001b[0m\u001b[0;34m.\u001b[0m\u001b[0madd_line\u001b[0m\u001b[0;34m(\u001b[0m\u001b[0mline\u001b[0m\u001b[0;34m)\u001b[0m\u001b[0;34m\u001b[0m\u001b[0;34m\u001b[0m\u001b[0m\n",
      "\u001b[0;32m~/anaco3/anaconda3/lib/python3.7/site-packages/matplotlib/axes/_base.py\u001b[0m in \u001b[0;36m__call__\u001b[0;34m(self, *args, **kwargs)\u001b[0m\n\u001b[1;32m    223\u001b[0m                 \u001b[0mthis\u001b[0m \u001b[0;34m+=\u001b[0m \u001b[0margs\u001b[0m\u001b[0;34m[\u001b[0m\u001b[0;36m0\u001b[0m\u001b[0;34m]\u001b[0m\u001b[0;34m,\u001b[0m\u001b[0;34m\u001b[0m\u001b[0;34m\u001b[0m\u001b[0m\n\u001b[1;32m    224\u001b[0m                 \u001b[0margs\u001b[0m \u001b[0;34m=\u001b[0m \u001b[0margs\u001b[0m\u001b[0;34m[\u001b[0m\u001b[0;36m1\u001b[0m\u001b[0;34m:\u001b[0m\u001b[0;34m]\u001b[0m\u001b[0;34m\u001b[0m\u001b[0;34m\u001b[0m\u001b[0m\n\u001b[0;32m--> 225\u001b[0;31m             \u001b[0;32myield\u001b[0m \u001b[0;32mfrom\u001b[0m \u001b[0mself\u001b[0m\u001b[0;34m.\u001b[0m\u001b[0m_plot_args\u001b[0m\u001b[0;34m(\u001b[0m\u001b[0mthis\u001b[0m\u001b[0;34m,\u001b[0m \u001b[0mkwargs\u001b[0m\u001b[0;34m)\u001b[0m\u001b[0;34m\u001b[0m\u001b[0;34m\u001b[0m\u001b[0m\n\u001b[0m\u001b[1;32m    226\u001b[0m \u001b[0;34m\u001b[0m\u001b[0m\n\u001b[1;32m    227\u001b[0m     \u001b[0;32mdef\u001b[0m \u001b[0mget_next_color\u001b[0m\u001b[0;34m(\u001b[0m\u001b[0mself\u001b[0m\u001b[0;34m)\u001b[0m\u001b[0;34m:\u001b[0m\u001b[0;34m\u001b[0m\u001b[0;34m\u001b[0m\u001b[0m\n",
      "\u001b[0;32m~/anaco3/anaconda3/lib/python3.7/site-packages/matplotlib/axes/_base.py\u001b[0m in \u001b[0;36m_plot_args\u001b[0;34m(self, tup, kwargs)\u001b[0m\n\u001b[1;32m    389\u001b[0m             \u001b[0mx\u001b[0m\u001b[0;34m,\u001b[0m \u001b[0my\u001b[0m \u001b[0;34m=\u001b[0m \u001b[0mindex_of\u001b[0m\u001b[0;34m(\u001b[0m\u001b[0mtup\u001b[0m\u001b[0;34m[\u001b[0m\u001b[0;34m-\u001b[0m\u001b[0;36m1\u001b[0m\u001b[0;34m]\u001b[0m\u001b[0;34m)\u001b[0m\u001b[0;34m\u001b[0m\u001b[0;34m\u001b[0m\u001b[0m\n\u001b[1;32m    390\u001b[0m \u001b[0;34m\u001b[0m\u001b[0m\n\u001b[0;32m--> 391\u001b[0;31m         \u001b[0mx\u001b[0m\u001b[0;34m,\u001b[0m \u001b[0my\u001b[0m \u001b[0;34m=\u001b[0m \u001b[0mself\u001b[0m\u001b[0;34m.\u001b[0m\u001b[0m_xy_from_xy\u001b[0m\u001b[0;34m(\u001b[0m\u001b[0mx\u001b[0m\u001b[0;34m,\u001b[0m \u001b[0my\u001b[0m\u001b[0;34m)\u001b[0m\u001b[0;34m\u001b[0m\u001b[0;34m\u001b[0m\u001b[0m\n\u001b[0m\u001b[1;32m    392\u001b[0m \u001b[0;34m\u001b[0m\u001b[0m\n\u001b[1;32m    393\u001b[0m         \u001b[0;32mif\u001b[0m \u001b[0mself\u001b[0m\u001b[0;34m.\u001b[0m\u001b[0mcommand\u001b[0m \u001b[0;34m==\u001b[0m \u001b[0;34m'plot'\u001b[0m\u001b[0;34m:\u001b[0m\u001b[0;34m\u001b[0m\u001b[0;34m\u001b[0m\u001b[0m\n",
      "\u001b[0;32m~/anaco3/anaconda3/lib/python3.7/site-packages/matplotlib/axes/_base.py\u001b[0m in \u001b[0;36m_xy_from_xy\u001b[0;34m(self, x, y)\u001b[0m\n\u001b[1;32m    268\u001b[0m         \u001b[0;32mif\u001b[0m \u001b[0mx\u001b[0m\u001b[0;34m.\u001b[0m\u001b[0mshape\u001b[0m\u001b[0;34m[\u001b[0m\u001b[0;36m0\u001b[0m\u001b[0;34m]\u001b[0m \u001b[0;34m!=\u001b[0m \u001b[0my\u001b[0m\u001b[0;34m.\u001b[0m\u001b[0mshape\u001b[0m\u001b[0;34m[\u001b[0m\u001b[0;36m0\u001b[0m\u001b[0;34m]\u001b[0m\u001b[0;34m:\u001b[0m\u001b[0;34m\u001b[0m\u001b[0;34m\u001b[0m\u001b[0m\n\u001b[1;32m    269\u001b[0m             raise ValueError(\"x and y must have same first dimension, but \"\n\u001b[0;32m--> 270\u001b[0;31m                              \"have shapes {} and {}\".format(x.shape, y.shape))\n\u001b[0m\u001b[1;32m    271\u001b[0m         \u001b[0;32mif\u001b[0m \u001b[0mx\u001b[0m\u001b[0;34m.\u001b[0m\u001b[0mndim\u001b[0m \u001b[0;34m>\u001b[0m \u001b[0;36m2\u001b[0m \u001b[0;32mor\u001b[0m \u001b[0my\u001b[0m\u001b[0;34m.\u001b[0m\u001b[0mndim\u001b[0m \u001b[0;34m>\u001b[0m \u001b[0;36m2\u001b[0m\u001b[0;34m:\u001b[0m\u001b[0;34m\u001b[0m\u001b[0;34m\u001b[0m\u001b[0m\n\u001b[1;32m    272\u001b[0m             raise ValueError(\"x and y can be no greater than 2-D, but have \"\n",
      "\u001b[0;31mValueError\u001b[0m: x and y must have same first dimension, but have shapes (230,) and (10,)"
     ]
    },
    {
     "data": {
      "image/png": "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\n",
      "text/plain": [
       "<Figure size 432x288 with 1 Axes>"
      ]
     },
     "metadata": {
      "needs_background": "light"
     },
     "output_type": "display_data"
    }
   ],
   "source": [
    "distance = np.arange(0.2,2.5,0.01) #units in AA\n",
    "ground_state_real_energies = []\n",
    "for d in distance:\n",
    "    \n",
    "    mol = gto.M(\n",
    "        atom = [['H', (0,0,-d/2)], ['H', (0,0,d/2)]], \n",
    "        basis = 'sto-3g'\n",
    "        )\n",
    "    energy_nuc = mol.energy_nuc()\n",
    "    molecular_hamiltonian_no_spin = MolecularFermionicHamiltonian.from_pyscf_mol(mol)\n",
    "    molecular_hamiltonian = molecular_hamiltonian_no_spin.include_spin()\n",
    "    \n",
    "    mapping = JordanWigner()\n",
    "    lcps_h2 = mapping.fermionic_hamiltonian_to_linear_combinaison_pauli_string(molecular_hamiltonian).sort()\n",
    "    lcps_h2 = lcps_h2.apply_threshold().combine().apply_threshold().sort()\n",
    "    \n",
    "    exact_solver = ExactSolver()\n",
    "    ground_state_real_value, ground_state_vector = exact_solver.lowest_eig_value(lcps_h2)\n",
    "    ground_state_real_energies.append(ground_state_real_value+energy_nuc)\n",
    "\n",
    "plt.plot(distance,(ground_state_energies))\n",
    "    #print('Ground state vector (exact) : ', ground_state_vector)\n",
    "    #print(d)\n",
    "    #print('Ground state energy (electronic, exact) : ', ground_state_value)\n",
    "    #print('Ground state energy (molecular, exact) : ', ground_state_value + energy_nuc)\n",
    "    "
   ]
  },
  {
   "cell_type": "code",
   "execution_count": null,
   "metadata": {},
   "outputs": [],
   "source": []
  },
  {
   "cell_type": "code",
   "execution_count": 66,
   "metadata": {},
   "outputs": [
    {
     "name": "stderr",
     "output_type": "stream",
     "text": [
      "ibmqfactory.load_account:WARNING:2021-01-31 10:23:45,101: Credentials are already in use. The existing account in the session will be replaced.\n"
     ]
    },
    {
     "data": {
      "text/plain": [
       "[<AccountProvider for IBMQ(hub='ibm-q', group='open', project='main')>,\n",
       " <AccountProvider for IBMQ(hub='ibm-q-education', group='qscitech-quantum', project='qc-bc-workshop')>]"
      ]
     },
     "execution_count": 66,
     "metadata": {},
     "output_type": "execute_result"
    }
   ],
   "source": [
    "from qiskit import IBMQ\n",
    "\n",
    "IBMQ.save_account('0df447ec9463e7ac6cf3d1690c64c05b8e133f1a834939ecdc98af2520539466ff8719fb63fbe9265e88a488ed8434d4d97657ae4dd7b81484cd0652f5e660dd',overwrite=True)\n",
    "IBMQ.load_account()\n",
    "IBMQ.providers()"
   ]
  },
  {
   "cell_type": "code",
   "execution_count": 67,
   "metadata": {},
   "outputs": [],
   "source": [
    "#provider = IBMQ.get_provider(hub='ibm-q-education')\n",
    "provider = IBMQ.get_provider(hub='ibm-q', group='open', project='main')\n",
    "provider.backends()\n",
    "simulator = provider.get_backend('ibmq_qasm_simulator')\n",
    "bogota = provider.get_backend('ibmq_santiago')\n",
    "import os\n",
    "os.environ['QISKIT_IN_PARALLEL'] = 'True'"
   ]
  },
  {
   "cell_type": "code",
   "execution_count": 68,
   "metadata": {},
   "outputs": [],
   "source": [
    "varform = varform_4qubits_1param\n",
    "backend = bogota\n",
    "execute_opts = {'shots' : 4096}\n",
    "evaluator = BasicEvaluator(varform,backend,execute_opts = execute_opts)"
   ]
  },
  {
   "cell_type": "code",
   "execution_count": 69,
   "metadata": {},
   "outputs": [
    {
     "name": "stdout",
     "output_type": "stream",
     "text": [
      "  NIT    FC           OBJFUN            GNORM\n",
      "    1     3    -2.465023E+00     2.272801E-01\n",
      "    2     6    -2.487259E+00     5.972940E-02\n",
      "    3     7    -2.487259E+00     7.289398E-03\n",
      "Optimization terminated successfully    (Exit mode 0)\n",
      "            Current function value: -2.4872586762403106\n",
      "            Iterations: 3\n",
      "            Function evaluations: 7\n",
      "            Gradient evaluations: 3\n",
      "  NIT    FC           OBJFUN            GNORM\n",
      "    1     3    -2.166543E+00     1.970528E-01\n",
      "    2     5    -2.166901E+00     2.160657E-01\n",
      "    3     8    -2.168957E+00     9.931156E-02\n",
      "    4    11    -2.135365E+00     1.023109E-01\n",
      "Optimization terminated successfully    (Exit mode 0)\n",
      "            Current function value: -2.1676086920646616\n",
      "            Iterations: 4\n",
      "            Function evaluations: 21\n",
      "            Gradient evaluations: 4\n",
      "  NIT    FC           OBJFUN            GNORM\n",
      "    1     3    -1.880626E+00     2.404283E-01\n",
      "    2     5    -1.882047E+00     3.937767E-02\n",
      "    3     7    -1.854761E+00     5.631370E-02\n",
      "Optimization terminated successfully    (Exit mode 0)\n",
      "            Current function value: -1.8821222106125024\n",
      "            Iterations: 3\n",
      "            Function evaluations: 11\n",
      "            Gradient evaluations: 3\n",
      "  NIT    FC           OBJFUN            GNORM\n",
      "    1     3    -1.650097E+00     2.218661E-01\n",
      "    2     5    -1.655528E+00     5.083465E-02\n",
      "    3     6    -1.655528E+00     7.086881E-03\n",
      "Optimization terminated successfully    (Exit mode 0)\n",
      "            Current function value: -1.6555280162528692\n",
      "            Iterations: 3\n",
      "            Function evaluations: 6\n",
      "            Gradient evaluations: 3\n",
      "  NIT    FC           OBJFUN            GNORM\n",
      "    1     3    -1.469192E+00     2.463191E-01\n",
      "    2     5    -1.479687E+00     7.136480E-02\n",
      "    3     7    -1.481186E+00     4.723541E-02\n",
      "    4     9    -1.488353E+00     2.214789E-02\n",
      "    5    10    -1.488353E+00     6.744082E-02\n",
      "Iteration limit reached    (Exit mode 9)\n",
      "            Current function value: -1.4883532460863194\n",
      "            Iterations: 5\n",
      "            Function evaluations: 10\n",
      "            Gradient evaluations: 5\n",
      "  NIT    FC           OBJFUN            GNORM\n",
      "    1     3    -1.329411E+00     2.741017E-01\n",
      "    2     5    -1.351407E+00     1.183236E-01\n",
      "    3     7    -1.358845E+00     4.881556E-02\n",
      "    4     9    -1.358973E+00     1.358683E-02\n",
      "    5    10    -1.358973E+00     6.899482E-03\n",
      "Iteration limit reached    (Exit mode 9)\n",
      "            Current function value: -1.3589731157960114\n",
      "            Iterations: 5\n",
      "            Function evaluations: 10\n",
      "            Gradient evaluations: 5\n",
      "  NIT    FC           OBJFUN            GNORM\n",
      "    1     3    -1.208455E+00     2.479481E-01\n",
      "    2     5    -1.263546E+00     1.544158E-01\n",
      "    3     7    -1.275711E+00     5.852129E-02\n",
      "    4     9    -1.270582E+00     4.623667E-02\n",
      "Optimization terminated successfully    (Exit mode 0)\n",
      "            Current function value: -1.2767828600974642\n",
      "            Iterations: 4\n",
      "            Function evaluations: 17\n",
      "            Gradient evaluations: 4\n",
      "  NIT    FC           OBJFUN            GNORM\n",
      "    1     3    -1.108135E+00     2.307586E-01\n",
      "    2     5    -1.205578E+00     2.329030E-01\n",
      "    3     7    -1.212779E+00     8.282493E-02\n",
      "    4     9    -1.216122E+00     1.070728E-02\n",
      "    5    10    -1.216122E+00     2.422985E-03\n",
      "Iteration limit reached    (Exit mode 9)\n",
      "            Current function value: -1.2161219412517448\n",
      "            Iterations: 5\n",
      "            Function evaluations: 10\n",
      "            Gradient evaluations: 5\n",
      "  NIT    FC           OBJFUN            GNORM\n",
      "    1     3    -1.050000E+00     2.860552E-01\n",
      "    2     5    -1.159311E+00     1.989779E-01\n",
      "    3     7    -1.176762E+00     7.039032E-02\n",
      "    4     9    -1.173710E+00     2.840208E-02\n",
      "    5    13    -1.178274E+00     3.877531E-02\n",
      "Iteration limit reached    (Exit mode 9)\n",
      "            Current function value: -1.1782736812382717\n",
      "            Iterations: 5\n",
      "            Function evaluations: 13\n",
      "            Gradient evaluations: 5\n",
      "  NIT    FC           OBJFUN            GNORM\n",
      "    1     3    -1.000562E+00     3.092687E-01\n",
      "    2     5    -1.121582E+00     2.084591E-01\n",
      "    3     7    -1.146521E+00     8.728988E-02\n",
      "    4     9    -1.146513E+00     4.212792E-02\n",
      "    5    12    -1.149476E+00     1.631572E-02\n",
      "Iteration limit reached    (Exit mode 9)\n",
      "            Current function value: -1.1494757853396014\n",
      "            Iterations: 5\n",
      "            Function evaluations: 12\n",
      "            Gradient evaluations: 5\n"
     ]
    }
   ],
   "source": [
    "distance = [0.25,0.5,0.73,1.0,1.5,2.0] #units in AA\n",
    "ground_state_energies = []\n",
    "for d in distance:\n",
    "    \n",
    "    mol = gto.M(\n",
    "        atom = [['H', (0,0,-d/2)], ['H', (0,0,d/2)]], \n",
    "        basis = 'sto-3g'\n",
    "        )\n",
    "    energy_nuc = mol.energy_nuc()\n",
    "    molecular_hamiltonian_no_spin = MolecularFermionicHamiltonian.from_pyscf_mol(mol)\n",
    "    molecular_hamiltonian = molecular_hamiltonian_no_spin.include_spin()\n",
    "    \n",
    "    mapping = JordanWigner()\n",
    "    lcps_h2 = mapping.fermionic_hamiltonian_to_linear_combinaison_pauli_string(molecular_hamiltonian).sort()\n",
    "    lcps_h2 = lcps_h2.apply_threshold().combine().apply_threshold().sort()\n",
    "\n",
    "    evaluator.set_linear_combinaison_pauli_string(lcps_h2)\n",
    "    params = [0,]\n",
    "    vqe_solver = VQESolver(evaluator,minimizer,[0,],name = 'vqe_solver')\n",
    "    opt_value, opt_params = vqe_solver.lowest_eig_value(lcps_h2)\n",
    "    ground_state_energies.append(opt_value+energy_nuc)"
   ]
  },
  {
   "cell_type": "code",
   "execution_count": 85,
   "metadata": {},
   "outputs": [
    {
     "name": "stdout",
     "output_type": "stream",
     "text": [
      "0.7300000000000004\n"
     ]
    },
    {
     "data": {
      "image/png": "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\n",
      "text/plain": [
       "<Figure size 432x288 with 1 Axes>"
      ]
     },
     "metadata": {
      "needs_background": "light"
     },
     "output_type": "display_data"
    }
   ],
   "source": [
    "plt.scatter(np.linspace(0.2,2.5,10),(ground_state_energies),s = 20,color='orange')\n",
    "plt.plot(distance,ground_state_real_energies)\n",
    "ind = np.argmin(ground_state_real_energies)\n",
    "print(distance[ind])\n"
   ]
  },
  {
   "cell_type": "code",
   "execution_count": 60,
   "metadata": {},
   "outputs": [
    {
     "name": "stdout",
     "output_type": "stream",
     "text": [
      "Ground state position estimate (vqe) :  [-0.02690066]\n",
      "Ground state energy estimate (electronic, vqe) :  -1.7279484488299202\n",
      "Ground state energy estimate (molecular, vqe) :  -1.0079794543809406\n"
     ]
    }
   ],
   "source": [
    "print('Ground state position estimate (vqe) : ',opt_params)\n",
    "print('Ground state energy estimate (electronic, vqe) : ',opt_value)\n",
    "print('Ground state energy estimate (molecular, vqe) : ',opt_value + energy_nuc)"
   ]
  },
  {
   "cell_type": "code",
   "execution_count": null,
   "metadata": {},
   "outputs": [],
   "source": []
  }
 ],
 "metadata": {
  "kernelspec": {
   "display_name": "Python 3",
   "language": "python",
   "name": "python3"
  },
  "language_info": {
   "codemirror_mode": {
    "name": "ipython",
    "version": 3
   },
   "file_extension": ".py",
   "mimetype": "text/x-python",
   "name": "python",
   "nbconvert_exporter": "python",
   "pygments_lexer": "ipython3",
   "version": "3.7.4"
  },
  "toc": {
   "base_numbering": 1,
   "nav_menu": {},
   "number_sections": true,
   "sideBar": true,
   "skip_h1_title": false,
   "title_cell": "Table of Contents",
   "title_sidebar": "Contents",
   "toc_cell": false,
   "toc_position": {},
   "toc_section_display": true,
   "toc_window_display": false
  }
 },
 "nbformat": 4,
 "nbformat_minor": 2
}
